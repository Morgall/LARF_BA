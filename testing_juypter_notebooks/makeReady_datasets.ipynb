{
 "cells": [
  {
   "cell_type": "markdown",
   "id": "4b0e8851",
   "metadata": {},
   "source": [
    "Hier alle vorbereitungen für x-fold cross validation inkl. dem anschließenden spreichern der vorbereiteten binarized datensätzen"
   ]
  },
  {
   "cell_type": "markdown",
   "id": "d454ef72",
   "metadata": {},
   "source": [
    "# test dataset"
   ]
  },
  {
   "cell_type": "code",
   "execution_count": null,
   "id": "16ce0dce",
   "metadata": {
    "vscode": {
     "languageId": "plaintext"
    }
   },
   "outputs": [],
   "source": [
    "train_data = pd.read_csv(\"datasets/example_datasets/train.csv\")\n",
    "test_data = pd.read_csv(\"datasets/example_datasets/test.csv\")\n",
    "\n",
    "stacked = pd.concat([train_data, test_data ], ignore_index=False)\n",
    "\n",
    "stacked.to_csv('datasets/example_datasets/stacked.csv', index=False)"
   ]
  },
  {
   "cell_type": "markdown",
   "id": "8a97bcf0",
   "metadata": {},
   "source": [
    "# adult dataset"
   ]
  }
 ],
 "metadata": {
  "language_info": {
   "name": "python"
  }
 },
 "nbformat": 4,
 "nbformat_minor": 5
}
