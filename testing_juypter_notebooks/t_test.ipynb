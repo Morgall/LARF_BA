{
 "cells": [
  {
   "cell_type": "code",
   "execution_count": 1,
   "id": "3b8b8f75",
   "metadata": {},
   "outputs": [],
   "source": [
    "import pandas as pd\n",
    "import time\n",
    "import sys\n",
    "from pathlib import Path\n",
    "import numpy as np\n",
    "import matplotlib.pyplot as plt\n",
    "\n",
    "from sklearn.metrics import matthews_corrcoef\n",
    "\n",
    "from scipy.stats import ttest_rel\n",
    "\n",
    "#cohort_list = ['Austria1', 'Brazil1', 'Canada1', 'China1', 'China2', 'China3', 'China4', 'China5', 'France1', 'Germany1', 'Germany2', 'India1', 'India2', 'Italy1', 'Japan1', 'USA1', 'USA2']\n",
    "# hier nur japan!\n",
    "\n",
    "\n",
    "#mcc list, one entry per run\n",
    "mcc_sklearn_rf = []\n",
    "mcc_la_rf = []"
   ]
  },
  {
   "cell_type": "code",
   "execution_count": 2,
   "id": "1f7bf196",
   "metadata": {},
   "outputs": [],
   "source": [
    "dir_path = f'../microbiome_data/taxa_all_logo/refactored_random_forest/n500_d5_s0.03_f117/test_[\\'Japan1\\']'\n",
    "\n",
    "for run in range(10):\n",
    "    res = pd.read_csv(f\"{dir_path}/result_test_run{run+1}.csv\")\n",
    "    y_true_test = res['y']\n",
    "    y_predict_test = res['prediction']\n",
    "    mcc_test = matthews_corrcoef(y_true_test, y_predict_test)\n",
    "    mcc_la_rf.append(mcc_test)\n"
   ]
  },
  {
   "cell_type": "code",
   "execution_count": 3,
   "id": "9a8b97c5",
   "metadata": {},
   "outputs": [],
   "source": [
    "dir_path = f'../microbiome_data/taxa_all_logo/sklearn_random_forest/n500_d5_s0.03_f117/test_[\\'Japan1\\']'\n",
    "\n",
    "for run in range(10):\n",
    "    res = pd.read_csv(f\"{dir_path}/result_test_run{run+1}.csv\")\n",
    "    y_true_test = res['y']\n",
    "    y_predict_test = res['prediction']\n",
    "    mcc_test = matthews_corrcoef(y_true_test, y_predict_test)\n",
    "    mcc_sklearn_rf.append(mcc_test)"
   ]
  },
  {
   "cell_type": "code",
   "execution_count": 4,
   "id": "58a11c70",
   "metadata": {},
   "outputs": [
    {
     "name": "stdout",
     "output_type": "stream",
     "text": [
      "-2.0228547640175747\n",
      "0.07378110258337289\n"
     ]
    }
   ],
   "source": [
    "# Perform paired t-test\n",
    "t_stat, p_value = ttest_rel(mcc_sklearn_rf, mcc_la_rf)\n",
    "\n",
    "print(t_stat)\n",
    "print(p_value)"
   ]
  },
  {
   "cell_type": "code",
   "execution_count": null,
   "id": "238df9b3",
   "metadata": {},
   "outputs": [],
   "source": [
    "\n",
    "\n",
    "#mcc list, one entry per run\n",
    "mcc_sklearn_rf = []\n",
    "mcc_la_rf = []\n",
    "\n",
    "dir_path = f'../microbiome_data/taxa_all_logo/refactored_random_forest/n500_d5_s0.035_f137/test_[\\'Japan1\\']'\n",
    "\n",
    "for run in range(10):\n",
    "    res = pd.read_csv(f\"{dir_path}/result_test_run{run+1}.csv\")\n",
    "    y_true_test = res['y']\n",
    "    y_predict_test = res['prediction']\n",
    "    mcc_test = matthews_corrcoef(y_true_test, y_predict_test)\n",
    "    mcc_la_rf.append(mcc_test)\n",
    "\n",
    "\n",
    "dir_path = f'../microbiome_data/taxa_all_logo/sklearn_random_forest/n500_d5_s0.035_f137/test_[\\'Japan1\\']'\n",
    "\n",
    "for run in range(10):\n",
    "    res = pd.read_csv(f\"{dir_path}/result_test_run{run+1}.csv\")\n",
    "    y_true_test = res['y']\n",
    "    y_predict_test = res['prediction']\n",
    "    mcc_test = matthews_corrcoef(y_true_test, y_predict_test)\n",
    "    mcc_sklearn_rf.append(mcc_test)\n",
    "\n",
    "# Perform paired t-test\n",
    "t_stat, p_value = ttest_rel(mcc_sklearn_rf, mcc_la_rf)\n",
    "\n",
    "print(t_stat)\n",
    "print(p_value)"
   ]
  }
 ],
 "metadata": {
  "kernelspec": {
   "display_name": ".venv (3.12.3)",
   "language": "python",
   "name": "python3"
  },
  "language_info": {
   "codemirror_mode": {
    "name": "ipython",
    "version": 3
   },
   "file_extension": ".py",
   "mimetype": "text/x-python",
   "name": "python",
   "nbconvert_exporter": "python",
   "pygments_lexer": "ipython3",
   "version": "3.12.3"
  }
 },
 "nbformat": 4,
 "nbformat_minor": 5
}
