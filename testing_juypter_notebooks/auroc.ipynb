{
 "cells": [
  {
   "cell_type": "code",
   "execution_count": null,
   "id": "b2d09337",
   "metadata": {},
   "outputs": [],
   "source": [
    "import pandas as pd\n",
    "import time\n",
    "import sys\n",
    "from pathlib import Path\n",
    "import numpy as np\n",
    "from sklearn.metrics import confusion_matrix, ConfusionMatrixDisplay\n",
    "import matplotlib.pyplot as plt\n",
    "\n",
    "# Go up one directory to get to master/\n",
    "project_root = str(Path.cwd().parent)\n",
    "sys.path.append(project_root)"
   ]
  },
  {
   "cell_type": "code",
   "execution_count": null,
   "id": "7c13c595",
   "metadata": {},
   "outputs": [],
   "source": [
    "def get_solutions_all_folds_rollOCT(name_dataset: str, depth=3, folds_available = 10) -> dict: #for 10 fold cross valdidation, carefull that trees have min depth 2\n",
    "    sol_dict = {} # one entry for every fold, [fold][depth]['test'] for train_data classification for fold of depth; same for training\n",
    "    for i in range(1,folds_available+1):\n",
    "        sol_dict[i] = {}\n",
    "        for j in range(2,depth+1):\n",
    "            sol_dict[i][j] = {}\n",
    "            sol_dict[i][j]['test'] = pd.read_csv(f\"../results/{name_dataset}/pulp/fold{i}/depth{j}_classification_{name_dataset}_test.csv\")\n",
    "            sol_dict[i][j]['train'] = pd.read_csv(f\"../results/{name_dataset}/pulp/fold{i}/depth{j}_classification_{name_dataset}_train.csv\")\n",
    "    return sol_dict"
   ]
  },
  {
   "cell_type": "code",
   "execution_count": null,
   "id": "46dfc008",
   "metadata": {},
   "outputs": [],
   "source": [
    "def get_solutions_all_folds_cart(name_dataset: str, depth=3, folds_available = 10) -> dict: #for 10 fold cross valdidation, carefull that trees have min depth 2\n",
    "    sol_dict = {} # one entry for every fold, [fold][depth]['test'] for train_data classification for fold of depth; same for training\n",
    "    for i in range(1,folds_available+1):\n",
    "        sol_dict[i] = {}\n",
    "        for j in range(2,depth+1):\n",
    "            sol_dict[i][j] = {}\n",
    "            sol_dict[i][j]['test'] = pd.read_csv(f\"../results/{name_dataset}/cart/fold{i}/depth{j}_classification_{name_dataset}_test.csv\")\n",
    "            sol_dict[i][j]['train'] = pd.read_csv(f\"../results/{name_dataset}/cart/fold{i}/depth{j}_classification_{name_dataset}_train.csv\")\n",
    "    return sol_dict"
   ]
  },
  {
   "cell_type": "code",
   "execution_count": null,
   "id": "c329ae47",
   "metadata": {},
   "outputs": [],
   "source": [
    "def auroc_per_fold():\n",
    "    return None"
   ]
  }
 ],
 "metadata": {
  "language_info": {
   "name": "python"
  }
 },
 "nbformat": 4,
 "nbformat_minor": 5
}
