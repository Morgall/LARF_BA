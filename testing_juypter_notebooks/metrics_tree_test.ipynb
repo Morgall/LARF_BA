{
 "cells": [
  {
   "cell_type": "code",
   "execution_count": 44,
   "id": "9b9a85b4",
   "metadata": {},
   "outputs": [],
   "source": [
    "import pandas as pd\n",
    "import time\n",
    "import sys\n",
    "from pathlib import Path\n",
    "import numpy as np\n",
    "from sklearn.metrics import confusion_matrix, ConfusionMatrixDisplay\n",
    "import matplotlib.pyplot as plt\n",
    "\n",
    "# Go up one directory to get to master/\n",
    "project_root = str(Path.cwd().parent)\n",
    "sys.path.append(project_root)\n",
    "\n"
   ]
  },
  {
   "cell_type": "code",
   "execution_count": 45,
   "id": "651eaef1",
   "metadata": {},
   "outputs": [],
   "source": [
    "def get_solutions_all_folds_pulp(name_dataset: str, depth=3, folds_available = 10) -> dict: #for 10 fold cross valdidation, carefull that trees have min depth 2\n",
    "    sol_dict = {} # one entry for every fold, [fold][depth]['test'] for train_data classification for fold of depth; same for training\n",
    "    for i in range(1,folds_available+1):\n",
    "        sol_dict[i] = {}\n",
    "        for j in range(2,depth+1):\n",
    "            sol_dict[i][j] = {}\n",
    "            sol_dict[i][j]['test'] = pd.read_csv(f\"../results/{name_dataset}/pulp/fold{i}/depth{j}_classification_{name_dataset}_test.csv\")\n",
    "            sol_dict[i][j]['train'] = pd.read_csv(f\"../results/{name_dataset}/pulp/fold{i}/depth{j}_classification_{name_dataset}_train.csv\")\n",
    "    return sol_dict\n",
    "\n",
    "#sol_dict = get_solutions_all_folds_pulp(name_dataset=name_dataset, depth= max_depth_available)\n",
    "\n",
    "#print(sol_dict[4][8]['train'])"
   ]
  },
  {
   "cell_type": "markdown",
   "id": "55b3d4ba",
   "metadata": {},
   "source": [
    "damit das hier immer funktioniert, muss das mapping vom binarizer auf die Zahlen immer gleich sein"
   ]
  },
  {
   "cell_type": "markdown",
   "id": "ca3c4aaf",
   "metadata": {},
   "source": [
    "Achtung: Man muss noch in den Ergebnissen zuordnen was in den Ursprungsdatensatz (das binarized wurde) als positive und was als negative gesehen wird. Also wie das label jetzt heißt dem ursprünglichen label zuordnen\n",
    "\n",
    "=> Ich habe mich entschieden das schon beim binarizen zu machen"
   ]
  },
  {
   "cell_type": "code",
   "execution_count": 46,
   "id": "940dc42f",
   "metadata": {},
   "outputs": [],
   "source": [
    "def acc_sens_spec_prec_bin(solution, pos_represent, neg_represent):\n",
    "    tp = len(solution[(solution['y'] == pos_represent) & (solution['prediction'] == pos_represent)])\n",
    "    tn = len(solution[(solution['y'] == neg_represent) & (solution['prediction'] == neg_represent)])\n",
    "    fp = len(solution[(solution['y'] == neg_represent) & (solution['prediction'] == pos_represent)])\n",
    "    fn = len(solution[(solution['y'] == pos_represent) & (solution['prediction'] == neg_represent)])\n",
    "    number_datapoints = tp+tn+fp+fn\n",
    "    if number_datapoints != len(solution):\n",
    "        print('error in calculation of acc')\n",
    "    sensitivity = tp/(tp+fn) #also called recall, True Positive Rate\n",
    "    specificity = tn/(tn+fp)\n",
    "    precision = tp/(tp+fp)\n",
    "    accuracy = (tp+tn)/number_datapoints\n",
    "    return accuracy, sensitivity, specificity,precision\n"
   ]
  },
  {
   "cell_type": "code",
   "execution_count": 47,
   "id": "37b984a8",
   "metadata": {},
   "outputs": [],
   "source": [
    "# does not contain time stuff\n",
    "def solutions_all_depths_all_folds_bin(dataset_name, pos_represent, neg_represent, max_tree_depth, folds_available):\n",
    "    sol_dict = get_solutions_all_folds_pulp(name_dataset = dataset_name, depth=max_tree_depth, folds_available = folds_available)\n",
    "    result_dict = dict()\n",
    "    for depth in range(2,max_tree_depth+1):\n",
    "        result_dict[depth] = dict()\n",
    "        result_dict[depth]['test'] = dict()\n",
    "        result_dict[depth]['train'] = dict()\n",
    "        sensitivity_test, specificity_test, precision_test, accuracy_test = 0, 0, 0, 0\n",
    "        sensitivity_train, specificity_train, precision_train, accuracy_train = 0, 0, 0, 0\n",
    "        for fold in range(1, folds_available+1):\n",
    "            sol_test = sol_dict[fold][depth]['test']\n",
    "            sol_train = sol_dict[fold][depth]['train']\n",
    "            acc_fold_test, sens_fold_test, spec_fold_test, prec_fold_test = acc_sens_spec_prec_bin(sol_test, pos_represent, neg_represent)\n",
    "            acc_fold_train, sens_fold_train, spec_fold_train, prec_fold_train = acc_sens_spec_prec_bin(sol_train, pos_represent, neg_represent)\n",
    "\n",
    "            sensitivity_test += sens_fold_test\n",
    "            specificity_test += spec_fold_test\n",
    "            precision_test += prec_fold_test\n",
    "            accuracy_test += acc_fold_test\n",
    "\n",
    "            sensitivity_train += sens_fold_train\n",
    "            specificity_train += spec_fold_train\n",
    "            precision_train += prec_fold_train\n",
    "            accuracy_train += acc_fold_train\n",
    "        \n",
    "        result_dict[depth]['test']['sensitivity'] = sensitivity_test/folds_available\n",
    "        result_dict[depth]['test']['specificity'] = specificity_test/folds_available\n",
    "        result_dict[depth]['test']['precision'] = precision_test/folds_available\n",
    "        result_dict[depth]['test']['accuracy'] = accuracy_test/folds_available\n",
    "\n",
    "        result_dict[depth]['train']['sensitivity'] = sensitivity_train/folds_available\n",
    "        result_dict[depth]['train']['specificity'] = specificity_train/folds_available\n",
    "        result_dict[depth]['train']['precision'] = precision_train/folds_available\n",
    "        result_dict[depth]['train']['accuracy'] = accuracy_train/folds_available\n",
    "    return result_dict\n",
    "\n",
    "\n",
    "\n"
   ]
  },
  {
   "cell_type": "code",
   "execution_count": 48,
   "id": "6495bc97",
   "metadata": {},
   "outputs": [],
   "source": [
    "def get_class_confusion_values(cm, class_idx):\n",
    "    tp = cm[class_idx, class_idx]\n",
    "    fn = cm[class_idx, :].sum() - tp\n",
    "    fp = cm[:, class_idx].sum() - tp\n",
    "    tn = cm.sum() - (tp + fp + fn)\n",
    "    return tp, fp, fn, tn"
   ]
  },
  {
   "cell_type": "code",
   "execution_count": 49,
   "id": "4ba72b21",
   "metadata": {},
   "outputs": [],
   "source": [
    "def calc_acc_sens_spec_prec(tp, fp, fn, tn):\n",
    "    #number_datapoints = tp+tn+fp+fn\n",
    "    sensitivity = tp/(tp+fn) #also called recall, True Positive Rate\n",
    "    specificity = tn/(tn+fp)\n",
    "    precision = tp/(tp+fp)\n",
    "    #accuracy = (tp+tn)/number_datapoints\n",
    "    #return accuracy, sensitivity, specificity,precision\n",
    "    return sensitivity, specificity,precision"
   ]
  },
  {
   "cell_type": "code",
   "execution_count": 50,
   "id": "13f69ccd",
   "metadata": {},
   "outputs": [],
   "source": [
    "def calc_f1(result_dict, list_target_vars, max_tree_depth):\n",
    "    for depth in range(2,max_tree_depth+1):\n",
    "        for i,class_idx in enumerate(list_target_vars):\n",
    "            precision_test = result_dict[depth]['test'][class_idx]['precision']\n",
    "            precision_train = result_dict[depth]['train'][class_idx]['precision']\n",
    "\n",
    "            sensitivity_test = result_dict[depth]['test'][class_idx]['sensitivity'] #also called recall\n",
    "            sensitivity_train = result_dict[depth]['train'][class_idx]['sensitivity']\n",
    "            \n",
    "            result_dict[depth]['test'][class_idx]['f1'] = 2*((precision_test*sensitivity_test)/(precision_test+sensitivity_test))\n",
    "            result_dict[depth]['train'][class_idx]['f1'] = 2*((precision_train*sensitivity_train)/(precision_train+sensitivity_train))\n",
    "    return result_dict"
   ]
  },
  {
   "cell_type": "markdown",
   "id": "165df1fe",
   "metadata": {},
   "source": [
    "Achtung bei class_idx-1 bei Aufruf get_class_confusion_values(cm_test, class_idx-1). Dies ist so, weil confusion matrix cm 0 initialisiertes Array ist.\n",
    "\n",
    "Wenn bei mir alle class_idx durch preporecessing mit 1 initialisiert sind, dann schifte ich die alle einfach um -1."
   ]
  },
  {
   "cell_type": "code",
   "execution_count": 51,
   "id": "c267693b",
   "metadata": {},
   "outputs": [],
   "source": [
    "from sklearn.metrics import accuracy_score, precision_score, recall_score, classification_report, matthews_corrcoef\n",
    "\n",
    "# does not contain time stuff\n",
    "# man muss über die target vars iterieren\n",
    "# we want result_dict[depth]['test'/'train'][target_var] and then sens,spec,prec,acc dor all folds. Then we are able to combine it with original target var afterwards\n",
    "def solutions_all_depths_all_folds_multiclass(dataset_name, list_target_vars, max_tree_depth, folds_available):\n",
    "    sol_dict = get_solutions_all_folds_pulp(name_dataset = dataset_name, depth=max_tree_depth, folds_available = folds_available)\n",
    "    result_dict = dict()\n",
    "    for depth in range(2,max_tree_depth+1):\n",
    "        result_dict[depth] = dict()\n",
    "        result_dict[depth]['test'] = dict()\n",
    "        result_dict[depth]['train'] = dict()\n",
    "\n",
    "        result_dict[depth]['test']['accuracy'] = 0\n",
    "        result_dict[depth]['train']['accuracy'] = 0\n",
    "\n",
    "        mcc_scores_test = []\n",
    "        mcc_scores_train = []\n",
    "\n",
    "        for i,class_idx in enumerate(list_target_vars): #initialize per depth\n",
    "                result_dict[depth]['test'][class_idx] = dict()\n",
    "                result_dict[depth]['train'][class_idx] = dict()\n",
    "\n",
    "                #result_dict[depth]['test'][class_idx]['accuracy'] = 0\n",
    "                result_dict[depth]['test'][class_idx]['sensitivity'] = 0\n",
    "                result_dict[depth]['test'][class_idx]['specificity'] = 0\n",
    "                result_dict[depth]['test'][class_idx]['precision'] = 0\n",
    "                result_dict[depth]['test'][class_idx]['f1'] = 0\n",
    "\n",
    "                #result_dict[depth]['train'][class_idx]['accuracy'] = 0\n",
    "                result_dict[depth]['train'][class_idx]['sensitivity'] = 0\n",
    "                result_dict[depth]['train'][class_idx]['specificity'] = 0\n",
    "                result_dict[depth]['train'][class_idx]['precision'] = 0\n",
    "                result_dict[depth]['train'][class_idx]['f1'] = 0\n",
    "\n",
    "        for fold in range(1, folds_available+1):\n",
    "            \n",
    "            y_true_test = sol_dict[fold][depth]['test']['y']\n",
    "            y_predict_test = sol_dict[fold][depth]['test']['prediction']\n",
    "\n",
    "            y_true_train = sol_dict[fold][depth]['train']['y']\n",
    "            y_predict_train = sol_dict[fold][depth]['train']['prediction']\n",
    "\n",
    "            cm_test = confusion_matrix(y_true_test, y_predict_test) #(true labels, predicted labels)\n",
    "            cm_train = confusion_matrix(y_true_train, y_predict_train)\n",
    "\n",
    "            result_dict[depth]['test']['accuracy'] += accuracy_score(y_true_test, y_predict_test) / folds_available\n",
    "            result_dict[depth]['train']['accuracy'] += accuracy_score(y_true_train, y_predict_train) / folds_available\n",
    "            \n",
    "            mcc_test = matthews_corrcoef(y_true_test, y_predict_test) #For a multiclass problem, sklearn.metrics.matthews_corrcoef returns a single float value representing the overall Matthews correlation coefficient (MCC) across all classes\n",
    "            mcc_train = matthews_corrcoef(y_true_train, y_predict_train)\n",
    "\n",
    "            mcc_scores_test.append(mcc_test)\n",
    "            mcc_scores_train.append(mcc_train)\n",
    "\n",
    "            \n",
    "            #cm_test = confusion_matrix(sol_dict[fold][depth]['test']['y'], sol_dict[fold][depth]['test']['prediction']) #(true labels, predicted labels)\n",
    "            #cm_train = confusion_matrix(sol_dict[fold][depth]['train']['y'], sol_dict[fold][depth]['train']['prediction'])\n",
    "\n",
    "            #result_dict[depth]['test']['accuracy'] += accuracy_score(sol_dict[fold][depth]['test']['y'], sol_dict[fold][depth]['test']['prediction']) / folds_available\n",
    "            #result_dict[depth]['train']['accuracy'] += accuracy_score(sol_dict[fold][depth]['train']['y'], sol_dict[fold][depth]['train']['prediction']) / folds_available\n",
    "            \n",
    "            for j,class_idx in enumerate(list_target_vars): #every target class possible\n",
    "\n",
    "\n",
    "                tp_test, fp_test, fn_test, tn_test = get_class_confusion_values(cm_test, class_idx-1) #-1 because conusion matrix cm starts indices with 0\n",
    "                tp_train, fp_train, fn_train, tn_train = get_class_confusion_values(cm_train, class_idx-1)\n",
    "\n",
    "                sens_test, spec_test, prec_test = calc_acc_sens_spec_prec(tp_test, fp_test, fn_test, tn_test)\n",
    "                sens_train, spec_train, prec_train = calc_acc_sens_spec_prec(tp_train, fp_train, fn_train, tn_train)\n",
    "\n",
    "                #acc_test, sens_test, spec_test, prec_test = calc_acc_sens_spec_prec(tp_test, fp_test, fn_test, tn_test)\n",
    "                #acc_train, sens_train, spec_train, prec_train = calc_acc_sens_spec_prec(tp_train, fp_train, fn_train, tn_train)\n",
    "\n",
    "                #result_dict[depth]['test'][class_idx]['accuracy'] += acc_test/folds_available #division here could maybe lead to precision problems\n",
    "                result_dict[depth]['test'][class_idx]['sensitivity'] += sens_test/folds_available\n",
    "                result_dict[depth]['test'][class_idx]['specificity'] += spec_test/folds_available\n",
    "                result_dict[depth]['test'][class_idx]['precision'] += prec_test/folds_available\n",
    "\n",
    "                #result_dict[depth]['train'][class_idx]['accuracy'] += acc_train/folds_available\n",
    "                result_dict[depth]['train'][class_idx]['sensitivity'] += sens_train/folds_available\n",
    "                result_dict[depth]['train'][class_idx]['specificity'] += spec_train/folds_available\n",
    "                result_dict[depth]['train'][class_idx]['precision'] += prec_train/folds_available\n",
    "        \n",
    "        mean_mcc_test = np.mean(mcc_scores_test)\n",
    "        mean_mcc_train = np.mean(mcc_scores_train)\n",
    "\n",
    "        result_dict[depth]['test']['mcc'] = mean_mcc_test\n",
    "        result_dict[depth]['train']['mcc'] = mean_mcc_train\n",
    "\n",
    "        #std_mcc_test = np.std(mcc_scores_test)\n",
    "        #std_mcc_train = np.std(mcc_scores_train)\n",
    "    \n",
    "    result_dict = calc_f1(result_dict= result_dict, list_target_vars= list_target_vars, max_tree_depth=max_tree_depth)\n",
    "    \n",
    "    return result_dict"
   ]
  },
  {
   "cell_type": "code",
   "execution_count": 52,
   "id": "a2af886a",
   "metadata": {},
   "outputs": [],
   "source": [
    "def get_evaluation_for_class(result_dict, target_var, depth, training_data = False):\n",
    "    rows_depths = []\n",
    "    cols = ['sensitivity','specificity', 'precision', 'f1']\n",
    "    for i in range(2,depth+1):\n",
    "        rows_depths.append(f'depth{i}')\n",
    "    df = pd.DataFrame([], index=rows_depths, columns=cols)\n",
    "    for j in range(2,depth+1):\n",
    "        if training_data == False:\n",
    "            df.at[f'depth{j}', 'sensitivity'] = result_dict[j]['test'][target_var]['sensitivity']\n",
    "            df.at[f'depth{j}', 'specificity'] = result_dict[j]['test'][target_var]['specificity']\n",
    "            df.at[f'depth{j}', 'precision'] = result_dict[j]['test'][target_var]['precision']\n",
    "            df.at[f'depth{j}', 'f1'] = result_dict[j]['test'][target_var]['f1']\n",
    "        else:\n",
    "            df.at[f'depth{j}', 'sensitivity'] = result_dict[j]['train'][target_var]['sensitivity']\n",
    "            df.at[f'depth{j}', 'specificity'] = result_dict[j]['train'][target_var]['specificity']\n",
    "            df.at[f'depth{j}', 'precision'] = result_dict[j]['train'][target_var]['precision']\n",
    "            df.at[f'depth{j}', 'f1'] = result_dict[j]['train'][target_var]['f1']\n",
    "\n",
    "    return df"
   ]
  },
  {
   "cell_type": "code",
   "execution_count": 53,
   "id": "7daf9578",
   "metadata": {},
   "outputs": [],
   "source": [
    "def get_accuracy_every_depth(result_dict, depth):\n",
    "    rows_depths = []\n",
    "    cols = ['test','train']\n",
    "    for i in range(2,depth+1):\n",
    "        rows_depths.append(f'depth{i}')\n",
    "    df = pd.DataFrame([], index=rows_depths, columns=cols)\n",
    "    for j in range(2,depth+1):\n",
    "        df.at[f'depth{j}', 'test'] = result_dict[j]['test']['accuracy']\n",
    "        df.at[f'depth{j}', 'train'] = result_dict[j]['train']['accuracy']\n",
    "    return df\n",
    "\n"
   ]
  },
  {
   "cell_type": "code",
   "execution_count": 54,
   "id": "d2a7476b",
   "metadata": {},
   "outputs": [],
   "source": [
    "def get_mcc_every_depth(result_dict, depth): #Matthews Correlation Coefficient\n",
    "    rows_depths = []\n",
    "    cols = ['test','train']\n",
    "    for i in range(2,depth+1):\n",
    "        rows_depths.append(f'depth{i}')\n",
    "    df = pd.DataFrame([], index=rows_depths, columns=cols)\n",
    "    for j in range(2,depth+1):\n",
    "        df.at[f'depth{j}', 'test'] = result_dict[j]['test']['mcc']\n",
    "        df.at[f'depth{j}', 'train'] = result_dict[j]['train']['mcc']\n",
    "    return df"
   ]
  },
  {
   "cell_type": "markdown",
   "id": "4880ba5c",
   "metadata": {},
   "source": [
    "# Auswertung für jeden Datensatz\n",
    "\n",
    "Was positive/negative target var ist und wovon sie repräsentiert wird, kann man in der jeweiligen Datei nachschauen"
   ]
  },
  {
   "cell_type": "code",
   "execution_count": 55,
   "id": "a7d3d1b2",
   "metadata": {},
   "outputs": [
    {
     "name": "stdout",
     "output_type": "stream",
     "text": [
      "            test     train\n",
      "depth2  0.807502  0.807502\n",
      "depth3  0.818148  0.818417\n",
      "depth4  0.820503  0.821743\n",
      "depth5  0.823492  0.824871\n",
      "depth6  0.824188  0.828838\n",
      "depth7  0.827628  0.835215\n",
      "depth8  0.829491  0.839414\n"
     ]
    }
   ],
   "source": [
    "# <=50K:1; >50K:2\n",
    "#result_dict_adult = solutions_all_depths_all_folds_bin(dataset_name='adult', pos_represent=1, neg_represent=2, max_tree_depth=8, folds_available=10)\n",
    "\n",
    "#print(result_dict_adult[8]['test']['accuracy'])\n",
    "\n",
    "meaning_target_vars = {\n",
    "    1 : '<=50K',\n",
    "    2 : '>50K'\n",
    "}\n",
    "\n",
    "target_vars = [1,2]\n",
    "\n",
    "result_dict_adult = solutions_all_depths_all_folds_multiclass(dataset_name='adult', list_target_vars = target_vars, max_tree_depth=8, folds_available=10)\n",
    "\n",
    "accuracy_adult = get_accuracy_every_depth(result_dict_adult, depth=8)\n",
    "\n",
    "print(accuracy_adult)\n",
    "\n",
    "\n"
   ]
  },
  {
   "cell_type": "code",
   "execution_count": 56,
   "id": "6a9800ab",
   "metadata": {},
   "outputs": [
    {
     "name": "stdout",
     "output_type": "stream",
     "text": [
      "            test     train\n",
      "depth2  0.484863  0.484846\n",
      "depth3  0.457045  0.457949\n",
      "depth4  0.445829  0.450375\n",
      "depth5   0.45841  0.463336\n",
      "depth6   0.50255  0.514052\n",
      "depth7  0.501515  0.522662\n",
      "depth8  0.487553  0.519078\n"
     ]
    }
   ],
   "source": [
    "accuracy_mcc = get_mcc_every_depth(result_dict_adult, depth=8)\n",
    "\n",
    "print(accuracy_mcc)"
   ]
  },
  {
   "cell_type": "code",
   "execution_count": 57,
   "id": "e705daee",
   "metadata": {},
   "outputs": [
    {
     "name": "stdout",
     "output_type": "stream",
     "text": [
      "Var <=50K results for test data:\n",
      "\n",
      "       sensitivity specificity precision        f1\n",
      "depth2    0.861849    0.634721  0.882402  0.872004\n",
      "depth3    0.924425    0.480276  0.849758   0.88552\n",
      "depth4    0.951716    0.403352  0.835313  0.889723\n",
      "depth5    0.949428    0.423117  0.839575  0.891129\n",
      "depth6    0.901197    0.579357  0.872619  0.886678\n",
      "depth7     0.91487    0.550263   0.86666  0.890113\n",
      "depth8    0.938474    0.483015  0.852348   0.89334\n",
      "Var <=50K results for  training data:\n",
      "\n",
      "       sensitivity specificity precision        f1\n",
      "depth2    0.861849    0.634722  0.882368  0.871988\n",
      "depth3    0.924595    0.480857  0.849905  0.885678\n",
      "depth4    0.952182    0.407053  0.836241  0.890453\n",
      "depth5    0.950044    0.426923  0.840538  0.891942\n",
      "depth6      0.9056      0.5848  0.874637  0.889849\n",
      "depth7    0.921013    0.562449  0.870585  0.895089\n",
      "depth8    0.945125    0.503342  0.858157  0.899544\n",
      "\n",
      "\n",
      "Var >50K results for test data:\n",
      "\n",
      "       sensitivity specificity precision        f1\n",
      "depth2    0.634721    0.861849  0.591066  0.612116\n",
      "depth3    0.480276    0.924425  0.666486  0.558262\n",
      "depth4    0.403352    0.951716  0.724757   0.51827\n",
      "depth5    0.423117    0.949428  0.724705   0.53429\n",
      "depth6    0.579357    0.901197   0.65542  0.615046\n",
      "depth7    0.550263     0.91487  0.676359   0.60683\n",
      "depth8    0.483015    0.938474  0.711774  0.575495\n",
      "Var >50K results for  training data:\n",
      "\n",
      "       sensitivity specificity precision        f1\n",
      "depth2    0.634722    0.861849  0.591029  0.612097\n",
      "depth3    0.480857    0.924595   0.66737  0.558965\n",
      "depth4    0.407053    0.952182  0.728763  0.522347\n",
      "depth5    0.426923    0.950044  0.729105  0.538519\n",
      "depth6      0.5848      0.9056  0.666637  0.623043\n",
      "depth7    0.562449    0.921013  0.696734  0.622431\n",
      "depth8    0.503342    0.945125  0.742674  0.600023\n",
      "\n",
      "\n"
     ]
    }
   ],
   "source": [
    "for i,name in enumerate(target_vars):\n",
    "    print(f'Var {meaning_target_vars[name]} results for test data:\\n')\n",
    "    print(get_evaluation_for_class(result_dict_adult, target_var=name, depth=8, training_data = False))\n",
    "    print(f'Var {meaning_target_vars[name]} results for  training data:\\n')\n",
    "    print(get_evaluation_for_class(result_dict_adult, target_var=name, depth=8, training_data = True))\n",
    "    print('\\n')"
   ]
  },
  {
   "cell_type": "code",
   "execution_count": 58,
   "id": "5801bdf4",
   "metadata": {},
   "outputs": [
    {
     "name": "stdout",
     "output_type": "stream",
     "text": [
      "0.8294909997929445\n"
     ]
    }
   ],
   "source": [
    "print(get_accuracy_every_depth(result_dict_adult, depth=8).at['depth8', 'test'])"
   ]
  },
  {
   "cell_type": "code",
   "execution_count": 59,
   "id": "71a35845",
   "metadata": {},
   "outputs": [
    {
     "name": "stdout",
     "output_type": "stream",
     "text": [
      "0.4570450261194325\n"
     ]
    }
   ],
   "source": [
    "print(result_dict_adult[3]['test']['mcc']) #For a multiclass problem, sklearn.metrics.matthews_corrcoef returns a single float value representing the overall Matthews correlation coefficient (MCC) across all classes"
   ]
  },
  {
   "cell_type": "markdown",
   "id": "2bf934fc",
   "metadata": {},
   "source": [
    "# Ausprobieren"
   ]
  },
  {
   "cell_type": "code",
   "execution_count": 60,
   "id": "853b2c84",
   "metadata": {},
   "outputs": [
    {
     "name": "stdout",
     "output_type": "stream",
     "text": [
      "      Unnamed: 0  y  prediction  leaf\n",
      "0              0  1           1   479\n",
      "1             24  1           1   511\n",
      "2             32  1           1   479\n",
      "3             76  1           1   383\n",
      "4             78  1           1   503\n",
      "...          ... ..         ...   ...\n",
      "4880       48831  1           1   303\n",
      "4881       48832  1           1   303\n",
      "4882       48833  1           1   300\n",
      "4883       48839  1           2   351\n",
      "4884       48841  2           2   349\n",
      "\n",
      "[4885 rows x 4 columns]\n"
     ]
    }
   ],
   "source": [
    "sol_dict_adult = get_solutions_all_folds_pulp(name_dataset='adult', depth=8, folds_available = 10)\n",
    "\n",
    "print(sol_dict_adult[1][8]['test']) #fold, depth, datatype\n",
    "\n"
   ]
  },
  {
   "cell_type": "code",
   "execution_count": 61,
   "id": "a32882d5",
   "metadata": {},
   "outputs": [
    {
     "name": "stdout",
     "output_type": "stream",
     "text": [
      "              precision    recall  f1-score   support\n",
      "\n",
      "           1       0.85      0.94      0.89      3716\n",
      "           2       0.70      0.46      0.56      1169\n",
      "\n",
      "    accuracy                           0.82      4885\n",
      "   macro avg       0.77      0.70      0.72      4885\n",
      "weighted avg       0.81      0.82      0.81      4885\n",
      "\n"
     ]
    }
   ],
   "source": [
    " #y_true and y_pred are your true and predicted class labels, respectively\n",
    "# report = classification_report(y_true, y_pred)\n",
    "\n",
    "report_adult = classification_report(sol_dict_adult[1][8]['test']['y'], sol_dict_adult[1][8]['test']['prediction'])\n",
    "print(report_adult)"
   ]
  },
  {
   "cell_type": "code",
   "execution_count": 62,
   "id": "c8973f13",
   "metadata": {},
   "outputs": [
    {
     "name": "stdout",
     "output_type": "stream",
     "text": [
      "0.824360286591607\n"
     ]
    }
   ],
   "source": [
    "accuracy = accuracy_score(sol_dict_adult[1][8]['test']['y'], sol_dict_adult[1][8]['test']['prediction'])\n",
    "print(accuracy)"
   ]
  },
  {
   "cell_type": "code",
   "execution_count": 63,
   "id": "b9aa33a5",
   "metadata": {},
   "outputs": [
    {
     "name": "stdout",
     "output_type": "stream",
     "text": [
      "[[432   0   0   0   0]\n",
      " [  0 397   0  20   9]\n",
      " [  0   0   0   0   1]\n",
      " [  0  26   0 378   0]\n",
      " [  0  15   0   0  18]]\n",
      "[432   0   0   0   0]\n",
      "[432   0   0   0   0   0 397   0  20   9   0   0   0   0   1   0  26   0\n",
      " 378   0   0  15   0   0  18]\n"
     ]
    }
   ],
   "source": [
    "#y_true = [...]  # true labels\n",
    "#y_pred = [...]  # predicted labels\n",
    "\n",
    "# Compute confusion matrix\n",
    "#cm = confusion_matrix(y_true, y_pred)\n",
    "\n",
    "sol_dict_nursery = get_solutions_all_folds_pulp(name_dataset='nursery', depth=8, folds_available = 10)\n",
    "\n",
    "# Compute confusion matrix\n",
    "cm = confusion_matrix(sol_dict_nursery[1][8]['test']['y'], sol_dict_nursery[1][8]['test']['prediction'])\n",
    "\n",
    "#tn, fp, fn, tp = cm.ravel() #just for binary?\n",
    "# For binary classification, cm looks like:\n",
    "# [[TN, FP],\n",
    "#  [FN, TP]]\n",
    "\n",
    "print(cm)\n",
    "print(cm[0])\n",
    "print(cm.ravel())\n"
   ]
  },
  {
   "cell_type": "code",
   "execution_count": 64,
   "id": "ad68a4a1",
   "metadata": {},
   "outputs": [
    {
     "data": {
      "image/png": "[encoded data removed]",
      "text/plain": [
       "<Figure size 640x480 with 2 Axes>"
      ]
     },
     "metadata": {},
     "output_type": "display_data"
    }
   ],
   "source": [
    "# Optional: specify class labels for better readability\n",
    "class_names = [1, 2, 3, 4, 5]\n",
    "\n",
    "# Create and plot confusion matrix display\n",
    "disp = ConfusionMatrixDisplay(confusion_matrix=cm, display_labels=class_names)\n",
    "disp.plot(cmap=\"Blues\")  # You can change colormap here\n",
    "plt.show()"
   ]
  },
  {
   "cell_type": "code",
   "execution_count": 65,
   "id": "215c0e7d",
   "metadata": {},
   "outputs": [
    {
     "name": "stdout",
     "output_type": "stream",
     "text": [
      "Class 0: TP=432, FP=0, FN=0, TN=864\n",
      "Class 1: TP=397, FP=41, FN=29, TN=829\n",
      "Class 2: TP=0, FP=0, FN=1, TN=1295\n",
      "Class 3: TP=378, FP=20, FN=26, TN=872\n",
      "Class 4: TP=18, FP=10, FN=15, TN=1253\n"
     ]
    }
   ],
   "source": [
    "def get_class_confusion_values(cm, class_idx):\n",
    "    TP = cm[class_idx, class_idx]\n",
    "    FN = cm[class_idx, :].sum() - TP\n",
    "    FP = cm[:, class_idx].sum() - TP\n",
    "    TN = cm.sum() - (TP + FP + FN)\n",
    "    return TP, FP, FN, TN\n",
    "\n",
    "# Example usage with confusion matrix cm and number of classes n_classes\n",
    "for i in range(cm.shape[0]):\n",
    "    TP, FP, FN, TN = get_class_confusion_values(cm, i)\n",
    "    print(f\"Class {i}: TP={TP}, FP={FP}, FN={FN}, TN={TN}\")"
   ]
  }
 ],
 "metadata": {
  "kernelspec": {
   "display_name": ".venv (3.12.3)",
   "language": "python",
   "name": "python3"
  },
  "language_info": {
   "codemirror_mode": {
    "name": "ipython",
    "version": 3
   },
   "file_extension": ".py",
   "mimetype": "text/x-python",
   "name": "python",
   "nbconvert_exporter": "python",
   "pygments_lexer": "ipython3",
   "version": "3.12.3"
  }
 },
 "nbformat": 4,
 "nbformat_minor": 5
}
