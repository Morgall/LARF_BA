{
 "cells": [
  {
   "cell_type": "code",
   "execution_count": null,
   "id": "9b9a85b4",
   "metadata": {},
   "outputs": [],
   "source": [
    "import pandas as pd\n",
    "import time\n",
    "import sys\n",
    "from pathlib import Path\n",
    "import numpy as np\n",
    "\n",
    "# Go up one directory to get to master/\n",
    "project_root = str(Path.cwd().parent)\n",
    "sys.path.append(project_root)\n",
    "\n"
   ]
  },
  {
   "cell_type": "code",
   "execution_count": 53,
   "id": "651eaef1",
   "metadata": {},
   "outputs": [],
   "source": [
    "def get_solutions_all_folds_pulp(name_dataset: str, depth=3, folds_available = 10) -> dict: #for 10 fold cross valdidation, carefull that trees have min depth 2\n",
    "    sol_dict = {} # one entry for every fold, [fold][depth]['test'] for train_data classification for fold of depth; same for training\n",
    "    for i in range(1,folds_available+1):\n",
    "        sol_dict[i] = {}\n",
    "        for j in range(2,depth+1):\n",
    "            sol_dict[i][j] = {}\n",
    "            sol_dict[i][j]['test'] = pd.read_csv(f\"../results/{name_dataset}/pulp/fold{i}/depth{j}_classification_{name_dataset}_test.csv\")\n",
    "            sol_dict[i][j]['train'] = pd.read_csv(f\"../results/{name_dataset}/pulp/fold{i}/depth{j}_classification_{name_dataset}_train.csv\")\n",
    "    return sol_dict\n",
    "\n",
    "#sol_dict = get_solutions_all_folds_pulp(name_dataset=name_dataset, depth= max_depth_available)\n",
    "\n",
    "#print(sol_dict[4][8]['train'])"
   ]
  },
  {
   "cell_type": "markdown",
   "id": "55b3d4ba",
   "metadata": {},
   "source": [
    "damit das hier immer funktioniert, muss das mapping vom binarizer auf die Zahlen immer gleich sein"
   ]
  },
  {
   "cell_type": "markdown",
   "id": "ca3c4aaf",
   "metadata": {},
   "source": [
    "Achtung: Man muss noch in den Ergebnissen zuordnen was in den Ursprungsdatensatz (das binarized wurde) als positive und was als negative gesehen wird. Also wie das label jetzt heißt dem ursprünglichen label zuordnen\n",
    "\n",
    "=> Ich habe mich entschieden das schon beim binarizen zu machen"
   ]
  },
  {
   "cell_type": "code",
   "execution_count": 54,
   "id": "940dc42f",
   "metadata": {},
   "outputs": [],
   "source": [
    "def acc_sens_spec_prec_bin(solution, pos_represent, neg_represent):\n",
    "    tp = len(solution[(solution['y'] == pos_represent) & (solution['prediction'] == pos_represent)])\n",
    "    tn = len(solution[(solution['y'] == neg_represent) & (solution['prediction'] == neg_represent)])\n",
    "    fp = len(solution[(solution['y'] == neg_represent) & (solution['prediction'] == pos_represent)])\n",
    "    fn = len(solution[(solution['y'] == pos_represent) & (solution['prediction'] == neg_represent)])\n",
    "    number_datapoints = tp+tn+fp+fn\n",
    "    if number_datapoints != len(solution):\n",
    "        print('error in calculation of acc')\n",
    "    sensitivity = tp/(tp+fn) #also called recall, True Positive Rate\n",
    "    specificity = tn/(tn+fp)\n",
    "    precision = tp/(tp+fp)\n",
    "    accuracy = (tp+tn)/number_datapoints\n",
    "    return accuracy, sensitivity, specificity,precision\n"
   ]
  },
  {
   "cell_type": "code",
   "execution_count": 55,
   "id": "37b984a8",
   "metadata": {},
   "outputs": [],
   "source": [
    "# does not contain time stuff\n",
    "def solutions_all_depths_all_folds_bin(dataset_name, pos_represent, neg_represent, max_tree_depth, folds_available):\n",
    "    sol_dict = get_solutions_all_folds_pulp(name_dataset = dataset_name, depth=max_tree_depth, folds_available = folds_available)\n",
    "    result_dict = dict()\n",
    "    for depth in range(2,max_tree_depth+1):\n",
    "        result_dict[depth] = dict()\n",
    "        result_dict[depth]['test'] = dict()\n",
    "        result_dict[depth]['train'] = dict()\n",
    "        sensitivity_test, specificity_test, precision_test, accuracy_test = 0, 0, 0, 0\n",
    "        sensitivity_train, specificity_train, precision_train, accuracy_train = 0, 0, 0, 0\n",
    "        for fold in range(1, folds_available+1):\n",
    "            sol_test = sol_dict[fold][depth]['test']\n",
    "            sol_train = sol_dict[fold][depth]['train']\n",
    "            acc_fold_test, sens_fold_test, spec_fold_test, prec_fold_test = acc_sens_spec_prec_bin(sol_test, pos_represent, neg_represent)\n",
    "            acc_fold_train, sens_fold_train, spec_fold_train, prec_fold_train = acc_sens_spec_prec_bin(sol_train, pos_represent, neg_represent)\n",
    "\n",
    "            sensitivity_test += sens_fold_test\n",
    "            specificity_test += spec_fold_test\n",
    "            precision_test += prec_fold_test\n",
    "            accuracy_test += acc_fold_test\n",
    "\n",
    "            sensitivity_train += sens_fold_train\n",
    "            specificity_train += spec_fold_train\n",
    "            precision_train += prec_fold_train\n",
    "            accuracy_train += acc_fold_train\n",
    "        \n",
    "        result_dict[depth]['test']['sensitivity'] = sensitivity_test/folds_available\n",
    "        result_dict[depth]['test']['specificity'] = specificity_test/folds_available\n",
    "        result_dict[depth]['test']['precision'] = precision_test/folds_available\n",
    "        result_dict[depth]['test']['accuracy'] = accuracy_test/folds_available\n",
    "\n",
    "        result_dict[depth]['train']['sensitivity'] = sensitivity_train/folds_available\n",
    "        result_dict[depth]['train']['specificity'] = specificity_train/folds_available\n",
    "        result_dict[depth]['train']['precision'] = precision_train/folds_available\n",
    "        result_dict[depth]['train']['accuracy'] = accuracy_train/folds_available\n",
    "    return result_dict\n",
    "\n",
    "\n",
    "\n"
   ]
  },
  {
   "cell_type": "code",
   "execution_count": 56,
   "id": "c267693b",
   "metadata": {},
   "outputs": [],
   "source": [
    "from sklearn.metrics import accuracy_score, precision_score, recall_score, classification_report\n",
    "\n",
    "# does not contain time stuff\n",
    "def solutions_all_depths_all_folds_multiclass(dataset_name, pos_represent, neg_represent, max_tree_depth, folds_available):\n",
    "    sol_dict = get_solutions_all_folds_pulp(name_dataset = dataset_name, depth=max_tree_depth, folds_available = folds_available)\n",
    "    result_dict = dict()\n",
    "    for depth in range(2,max_tree_depth+1):\n",
    "        result_dict[depth] = dict()\n",
    "        result_dict[depth]['test'] = dict()\n",
    "        result_dict[depth]['train'] = dict()\n",
    "        sensitivity_test, specificity_test, precision_test, accuracy_test = 0, 0, 0, 0\n",
    "        sensitivity_train, specificity_train, precision_train, accuracy_train = 0, 0, 0, 0\n",
    "        for fold in range(1, folds_available+1):\n",
    "            sol_test = sol_dict[fold][depth]['test']\n",
    "            sol_train = sol_dict[fold][depth]['train']\n",
    "            acc_fold_test, sens_fold_test, spec_fold_test, prec_fold_test = acc_sens_spec_prec_bin(sol_test, pos_represent, neg_represent)\n",
    "            acc_fold_train, sens_fold_train, spec_fold_train, prec_fold_train = acc_sens_spec_prec_bin(sol_train, pos_represent, neg_represent)\n",
    "\n",
    "            sensitivity_test += sens_fold_test\n",
    "            specificity_test += spec_fold_test\n",
    "            precision_test += prec_fold_test\n",
    "            accuracy_test += acc_fold_test\n",
    "\n",
    "            sensitivity_train += sens_fold_train\n",
    "            specificity_train += spec_fold_train\n",
    "            precision_train += prec_fold_train\n",
    "            accuracy_train += acc_fold_train\n",
    "        \n",
    "        result_dict[depth]['test']['sensitivity'] = sensitivity_test/folds_available\n",
    "        result_dict[depth]['test']['specificity'] = specificity_test/folds_available\n",
    "        result_dict[depth]['test']['precision'] = precision_test/folds_available\n",
    "        result_dict[depth]['test']['accuracy'] = accuracy_test/folds_available\n",
    "\n",
    "        result_dict[depth]['train']['sensitivity'] = sensitivity_train/folds_available\n",
    "        result_dict[depth]['train']['specificity'] = specificity_train/folds_available\n",
    "        result_dict[depth]['train']['precision'] = precision_train/folds_available\n",
    "        result_dict[depth]['train']['accuracy'] = accuracy_train/folds_available\n",
    "    return result_dict"
   ]
  },
  {
   "cell_type": "markdown",
   "id": "4880ba5c",
   "metadata": {},
   "source": [
    "# Auswertung für jeden Datensatz\n",
    "\n",
    "Was positive/negative target var ist und wovon sie repräsentiert wird, kann man in der jeweiligen Datei nachschauen"
   ]
  },
  {
   "cell_type": "code",
   "execution_count": 57,
   "id": "a7d3d1b2",
   "metadata": {},
   "outputs": [],
   "source": [
    "# <=50K:1; >50K:2\n",
    "#result_dict_adult = solutions_all_depths_all_folds_bin(dataset_name='adult', pos_represent=1, neg_represent=2, max_tree_depth=8, folds_available=10)\n",
    "\n",
    "#print(result_dict_adult[8]['test']['accuracy'])"
   ]
  },
  {
   "cell_type": "markdown",
   "id": "2bf934fc",
   "metadata": {},
   "source": [
    "Ausprobieren"
   ]
  },
  {
   "cell_type": "code",
   "execution_count": 58,
   "id": "853b2c84",
   "metadata": {},
   "outputs": [
    {
     "name": "stdout",
     "output_type": "stream",
     "text": [
      "      Unnamed: 0  y  prediction  leaf\n",
      "0              0  1           1   479\n",
      "1             24  1           1   511\n",
      "2             32  1           1   479\n",
      "3             76  1           1   383\n",
      "4             78  1           1   503\n",
      "...          ... ..         ...   ...\n",
      "4880       48831  1           1   303\n",
      "4881       48832  1           1   303\n",
      "4882       48833  1           1   300\n",
      "4883       48839  1           2   351\n",
      "4884       48841  2           2   349\n",
      "\n",
      "[4885 rows x 4 columns]\n"
     ]
    }
   ],
   "source": [
    "sol_dict_adult = get_solutions_all_folds_pulp(name_dataset='adult', depth=8, folds_available = 10)\n",
    "\n",
    "print(sol_dict_adult[1][8]['test']) #fold, depth, datatype\n",
    "\n"
   ]
  },
  {
   "cell_type": "code",
   "execution_count": 59,
   "id": "a32882d5",
   "metadata": {},
   "outputs": [
    {
     "name": "stdout",
     "output_type": "stream",
     "text": [
      "              precision    recall  f1-score   support\n",
      "\n",
      "           1       0.85      0.94      0.89      3716\n",
      "           2       0.70      0.46      0.56      1169\n",
      "\n",
      "    accuracy                           0.82      4885\n",
      "   macro avg       0.77      0.70      0.72      4885\n",
      "weighted avg       0.81      0.82      0.81      4885\n",
      "\n"
     ]
    }
   ],
   "source": [
    " #y_true and y_pred are your true and predicted class labels, respectively\n",
    "# report = classification_report(y_true, y_pred)\n",
    "\n",
    "report_adult = classification_report(sol_dict_adult[1][8]['test']['y'], sol_dict_adult[1][8]['test']['prediction'])\n",
    "print(report_adult)"
   ]
  },
  {
   "cell_type": "code",
   "execution_count": 60,
   "id": "c8973f13",
   "metadata": {},
   "outputs": [
    {
     "name": "stdout",
     "output_type": "stream",
     "text": [
      "0.824360286591607\n"
     ]
    }
   ],
   "source": [
    "accuracy = accuracy_score(sol_dict_adult[1][8]['test']['y'], sol_dict_adult[1][8]['test']['prediction'])\n",
    "print(accuracy)"
   ]
  },
  {
   "cell_type": "code",
   "execution_count": null,
   "id": "b9aa33a5",
   "metadata": {},
   "outputs": [
    {
     "name": "stdout",
     "output_type": "stream",
     "text": [
      "[[432   0   0   0   0]\n",
      " [  0 397   0  20   9]\n",
      " [  0   0   0   0   1]\n",
      " [  0  26   0 378   0]\n",
      " [  0  15   0   0  18]]\n",
      "[432   0   0   0   0]\n",
      "[432   0   0   0   0   0 397   0  20   9   0   0   0   0   1   0  26   0\n",
      " 378   0   0  15   0   0  18]\n"
     ]
    }
   ],
   "source": [
    "from sklearn.metrics import confusion_matrix, ConfusionMatrixDisplay\n",
    "import matplotlib.pyplot as plt\n",
    "\n",
    "#y_true = [...]  # true labels\n",
    "#y_pred = [...]  # predicted labels\n",
    "\n",
    "sol_dict_nursery = get_solutions_all_folds_pulp(name_dataset='nursery', depth=8, folds_available = 10)\n",
    "\n",
    "# Compute confusion matrix\n",
    "cm = confusion_matrix(sol_dict_nursery[1][8]['test']['y'], sol_dict_nursery[1][8]['test']['prediction'])\n",
    "\n",
    "#tn, fp, fn, tp = cm.ravel() #just for binary?\n",
    "# For binary classification, cm looks like:\n",
    "# [[TN, FP],\n",
    "#  [FN, TP]]\n",
    "\n",
    "print(cm)\n",
    "print(cm[0])\n",
    "print(cm.ravel())\n"
   ]
  },
  {
   "cell_type": "code",
   "execution_count": 62,
   "id": "ad68a4a1",
   "metadata": {},
   "outputs": [
    {
     "data": {
      "image/png": "[encoded data removed]",
      "text/plain": [
       "<Figure size 640x480 with 2 Axes>"
      ]
     },
     "metadata": {},
     "output_type": "display_data"
    }
   ],
   "source": [
    "# Optional: specify class labels for better readability\n",
    "# class_names = [0, 1, 2]\n",
    "\n",
    "# Create and plot confusion matrix display\n",
    "disp = ConfusionMatrixDisplay(confusion_matrix=cm) #, display_labels=class_names)\n",
    "disp.plot(cmap=\"Blues\")  # You can change colormap here\n",
    "plt.show()"
   ]
  },
  {
   "cell_type": "code",
   "execution_count": null,
   "id": "215c0e7d",
   "metadata": {},
   "outputs": [],
   "source": [
    "def get_class_confusion_values(cm, class_idx):\n",
    "    TP = cm[class_idx, class_idx]\n",
    "    FN = cm[class_idx, :].sum() - TP\n",
    "    FP = cm[:, class_idx].sum() - TP\n",
    "    TN = cm.sum() - (TP + FP + FN)\n",
    "    return TP, FP, FN, TN\n",
    "\n",
    "# Example usage with confusion matrix cm and number of classes n_classes\n",
    "for i in range(cm.shape[0]):\n",
    "    TP, FP, FN, TN = get_class_confusion_values(cm, i)\n",
    "    print(f\"Class {i}: TP={TP}, FP={FP}, FN={FN}, TN={TN}\")"
   ]
  }
 ],
 "metadata": {
  "kernelspec": {
   "display_name": ".venv (3.12.3)",
   "language": "python",
   "name": "python3"
  },
  "language_info": {
   "codemirror_mode": {
    "name": "ipython",
    "version": 3
   },
   "file_extension": ".py",
   "mimetype": "text/x-python",
   "name": "python",
   "nbconvert_exporter": "python",
   "pygments_lexer": "ipython3",
   "version": "3.12.3"
  }
 },
 "nbformat": 4,
 "nbformat_minor": 5
}
