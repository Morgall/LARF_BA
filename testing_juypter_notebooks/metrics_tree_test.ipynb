{
 "cells": [
  {
   "cell_type": "code",
   "execution_count": 16,
   "id": "9b9a85b4",
   "metadata": {},
   "outputs": [],
   "source": [
    "import pandas as pd\n",
    "import time\n",
    "import sys\n",
    "from pathlib import Path\n",
    "\n",
    "# Go up one directory to get to master/\n",
    "project_root = str(Path.cwd().parent)\n",
    "sys.path.append(project_root)\n",
    "\n"
   ]
  },
  {
   "cell_type": "code",
   "execution_count": 17,
   "id": "651eaef1",
   "metadata": {},
   "outputs": [],
   "source": [
    "def get_solutions_all_folds_pulp(name_dataset: str, depth=3, folds_available = 10) -> dict: #for 10 fold cross valdidation, carefull that trees have min depth 2\n",
    "    sol_dict = {} # one entry for every fold, [fold][depth]['test'] for train_data classification for fold of depth; same for training\n",
    "    for i in range(1,folds_available+1):\n",
    "        sol_dict[i] = {}\n",
    "        for j in range(2,depth+1):\n",
    "            sol_dict[i][j] = {}\n",
    "            sol_dict[i][j]['test'] = pd.read_csv(f\"../results/{name_dataset}/pulp/fold{i}/depth{j}_classification_{name_dataset}_test.csv\")\n",
    "            sol_dict[i][j]['train'] = pd.read_csv(f\"../results/{name_dataset}/pulp/fold{i}/depth{j}_classification_{name_dataset}_train.csv\")\n",
    "    return sol_dict\n",
    "\n",
    "#sol_dict = get_solutions_all_folds_pulp(name_dataset=name_dataset, depth= max_depth_available)\n",
    "\n",
    "#print(sol_dict[4][8]['train'])"
   ]
  },
  {
   "cell_type": "markdown",
   "id": "55b3d4ba",
   "metadata": {},
   "source": [
    "damit das hier immer funktioniert, muss das mapping vom binarizer auf die Zahlen immer gleich sein"
   ]
  },
  {
   "cell_type": "markdown",
   "id": "ca3c4aaf",
   "metadata": {},
   "source": [
    "Achtung: Man muss noch in den Ergebnissen zuordnen was in den Ursprungsdatensatz (das binarized wurde) als positive und was als negative gesehen wird. Also wie das label jetzt heißt dem ursprünglichen label zuordnen\n",
    "\n",
    "=> Ich habe mich entschieden das schon beim binarizen zu machen"
   ]
  },
  {
   "cell_type": "code",
   "execution_count": 18,
   "id": "940dc42f",
   "metadata": {},
   "outputs": [],
   "source": [
    "def acc_sens_spec_prec(solution, pos_represent, neg_represent):\n",
    "    tp = len(solution[(solution['y'] == pos_represent) & (solution['prediction'] == pos_represent)])\n",
    "    tn = len(solution[(solution['y'] == neg_represent) & (solution['prediction'] == neg_represent)])\n",
    "    fp = len(solution[(solution['y'] == neg_represent) & (solution['prediction'] == pos_represent)])\n",
    "    fn = len(solution[(solution['y'] == pos_represent) & (solution['prediction'] == neg_represent)])\n",
    "    number_datapoints = tp+tn+fp+fn\n",
    "    if number_datapoints != len(solution):\n",
    "        print('error in calculation of acc')\n",
    "    sensitivity = tp/(tp+fn) #also called recall, True Positive Rate\n",
    "    specificity = tn/(tn+fp)\n",
    "    precision = tp/(tp+fp)\n",
    "    accuracy = (tp+tn)/number_datapoints\n",
    "    return accuracy, sensitivity, specificity,precision\n"
   ]
  },
  {
   "cell_type": "code",
   "execution_count": 19,
   "id": "37b984a8",
   "metadata": {},
   "outputs": [],
   "source": [
    "# does not contain time stuff\n",
    "def solutions_all_depths_all_folds(dataset_name, pos_represent, neg_represent, max_tree_depth, folds_available):\n",
    "    sol_dict = get_solutions_all_folds_pulp(name_dataset = dataset_name, depth=max_tree_depth, folds_available = folds_available)\n",
    "    result_dict = dict()\n",
    "    for depth in range(2,max_tree_depth+1):\n",
    "        result_dict[depth] = dict()\n",
    "        result_dict[depth]['test'] = dict()\n",
    "        result_dict[depth]['train'] = dict()\n",
    "        sensitivity_test, specificity_test, precision_test, accuracy_test = 0, 0, 0, 0\n",
    "        sensitivity_train, specificity_train, precision_train, accuracy_train = 0, 0, 0, 0\n",
    "        for fold in range(1, folds_available+1):\n",
    "            sol_test = sol_dict[fold][depth]['test']\n",
    "            sol_train = sol_dict[fold][depth]['train']\n",
    "            acc_fold_test, sens_fold_test, spec_fold_test, prec_fold_test = acc_sens_spec_prec(sol_test, pos_represent, neg_represent)\n",
    "            acc_fold_train, sens_fold_train, spec_fold_train, prec_fold_train = acc_sens_spec_prec(sol_train, pos_represent, neg_represent)\n",
    "\n",
    "            sensitivity_test += sens_fold_test\n",
    "            specificity_test += spec_fold_test\n",
    "            precision_test += prec_fold_test\n",
    "            accuracy_test += acc_fold_test\n",
    "\n",
    "            sensitivity_train += sens_fold_train\n",
    "            specificity_train += spec_fold_train\n",
    "            precision_train += prec_fold_train\n",
    "            accuracy_train += acc_fold_train\n",
    "        \n",
    "        result_dict[depth]['test']['sensitivity'] = sensitivity_test/folds_available\n",
    "        result_dict[depth]['test']['specificity'] = specificity_test/folds_available\n",
    "        result_dict[depth]['test']['precision'] = precision_test/folds_available\n",
    "        result_dict[depth]['test']['accuracy'] = accuracy_test/folds_available\n",
    "\n",
    "        result_dict[depth]['train']['sensitivity'] = sensitivity_train/folds_available\n",
    "        result_dict[depth]['train']['specificity'] = specificity_train/folds_available\n",
    "        result_dict[depth]['train']['precision'] = precision_train/folds_available\n",
    "        result_dict[depth]['train']['accuracy'] = accuracy_train/folds_available\n",
    "    return result_dict\n",
    "\n",
    "\n",
    "\n"
   ]
  },
  {
   "cell_type": "markdown",
   "id": "4880ba5c",
   "metadata": {},
   "source": [
    "# Auswertung für jeden Datensatz\n",
    "\n",
    "Was positive/negative target var ist und wovon sie repräsentiert wird, kann man in der jeweiligen Datei nachschauen"
   ]
  },
  {
   "cell_type": "code",
   "execution_count": 21,
   "id": "a7d3d1b2",
   "metadata": {},
   "outputs": [
    {
     "name": "stdout",
     "output_type": "stream",
     "text": [
      "0.8294909997929445\n"
     ]
    }
   ],
   "source": [
    "# <=50K:1; >50K:2\n",
    "result_dict_adult = solutions_all_depths_all_folds(dataset_name='adult', pos_represent=1, neg_represent=2, max_tree_depth=8, folds_available=10)\n",
    "\n",
    "print(result_dict_adult[8]['test']['accuracy'])"
   ]
  }
 ],
 "metadata": {
  "kernelspec": {
   "display_name": ".venv (3.12.3)",
   "language": "python",
   "name": "python3"
  },
  "language_info": {
   "codemirror_mode": {
    "name": "ipython",
    "version": 3
   },
   "file_extension": ".py",
   "mimetype": "text/x-python",
   "name": "python",
   "nbconvert_exporter": "python",
   "pygments_lexer": "ipython3",
   "version": "3.12.3"
  }
 },
 "nbformat": 4,
 "nbformat_minor": 5
}
