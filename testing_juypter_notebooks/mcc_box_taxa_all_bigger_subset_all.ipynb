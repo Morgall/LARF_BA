{
 "cells": [
  {
   "cell_type": "code",
   "execution_count": 31,
   "id": "92a13476",
   "metadata": {},
   "outputs": [],
   "source": [
    "import pandas as pd\n",
    "import time\n",
    "import sys\n",
    "from pathlib import Path\n",
    "import numpy as np\n",
    "import matplotlib.pyplot as plt\n",
    "from sklearn.metrics import matthews_corrcoef\n",
    "import os\n",
    "import seaborn as sns\n",
    "sns.set_theme(style=\"white\", font_scale=1.1, rc={'xtick.bottom': True, 'ytick.left': True})\n",
    "\n",
    "\n",
    "# Go up one directory to get to master/\n",
    "project_root = str(Path.cwd().parent)\n",
    "sys.path.append(project_root)"
   ]
  },
  {
   "cell_type": "markdown",
   "id": "3ebc9e36",
   "metadata": {},
   "source": [
    "ist leave one group out cross val!"
   ]
  },
  {
   "cell_type": "code",
   "execution_count": 32,
   "id": "ee10cbbd",
   "metadata": {},
   "outputs": [],
   "source": [
    "def get_solutions_allruns_rollOCT(name_cohort: str, n_estimators = 500, depth_tree = 5, runs = 10, subset_feat = 'sqrt') -> dict:\n",
    "    dir_path = f'../microbiome_data/taxa_all_logo/refactored_random_forest/n{n_estimators}_d{depth_tree}_{subset_feat}'\n",
    "    sol_dict = {}\n",
    "    for run in range(1,runs+1):\n",
    "        sol_dict[run] = pd.read_csv(f\"{dir_path}/test_['{name_cohort}']/result_test_run{run}.csv\")\n",
    "    return sol_dict"
   ]
  },
  {
   "cell_type": "code",
   "execution_count": 33,
   "id": "2d4f0f47",
   "metadata": {},
   "outputs": [],
   "source": [
    "def get_solutions_allruns_sklearn(name_cohort: str, n_estimators = 500, depth_tree = 5, runs = 10, subset_feat = 'sqrt') -> dict:\n",
    "    dir_path = f'../microbiome_data/taxa_all_logo/sklearn_random_forest/n{n_estimators}_d{depth_tree}_{subset_feat}'\n",
    "    sol_dict = {}\n",
    "    for run in range(1,runs+1):\n",
    "        sol_dict[run] = pd.read_csv(f\"{dir_path}/test_['{name_cohort}']/result_test_run{run}.csv\")\n",
    "    return sol_dict"
   ]
  },
  {
   "cell_type": "code",
   "execution_count": 34,
   "id": "19d2de29",
   "metadata": {},
   "outputs": [],
   "source": [
    "def get_mcc_list_rollOCT(cohort_name, n_estimators = 500, depth_tree = 5, runs = 10, subset_feat = 'sqrt'):\n",
    "    sol_dict = get_solutions_allruns_rollOCT(name_cohort = cohort_name, n_estimators = n_estimators, depth_tree = depth_tree, runs = runs, subset_feat = subset_feat)\n",
    "    \n",
    "    mcc_scores = []\n",
    "\n",
    "    for run in range(1, runs+1):\n",
    "        y_true_test = sol_dict[run]['y']\n",
    "        y_predict_test = sol_dict[run]['prediction']\n",
    "        \n",
    "        mcc_test = matthews_corrcoef(y_true_test, y_predict_test) #For a multiclass problem, sklearn.metrics.matthews_corrcoef returns a single float value representing the overall Matthews correlation coefficient (MCC) across all classes\n",
    "        mcc_scores.append(mcc_test)\n",
    "    return mcc_scores"
   ]
  },
  {
   "cell_type": "code",
   "execution_count": 35,
   "id": "b7585698",
   "metadata": {},
   "outputs": [],
   "source": [
    "def get_mcc_list_sklearn(cohort_name, n_estimators = 500, depth_tree = 5, runs = 10, subset_feat = 'sqrt'):\n",
    "    sol_dict = get_solutions_allruns_sklearn(name_cohort = cohort_name, n_estimators = n_estimators, depth_tree = depth_tree, runs = runs, subset_feat = subset_feat)\n",
    "    \n",
    "    mcc_scores = []\n",
    "\n",
    "    for run in range(1, runs+1):\n",
    "        y_true_test = sol_dict[run]['y']\n",
    "        y_predict_test = sol_dict[run]['prediction']\n",
    "        \n",
    "        mcc_test = matthews_corrcoef(y_true_test, y_predict_test) #For a multiclass problem, sklearn.metrics.matthews_corrcoef returns a single float value representing the overall Matthews correlation coefficient (MCC) across all classes\n",
    "        mcc_scores.append(mcc_test)\n",
    "    return mcc_scores"
   ]
  },
  {
   "cell_type": "markdown",
   "id": "0b14f666",
   "metadata": {},
   "source": [
    "----------------- hier für größere subsets dann ---------------------------------"
   ]
  },
  {
   "cell_type": "code",
   "execution_count": null,
   "id": "f851f3ed",
   "metadata": {},
   "outputs": [],
   "source": [
    "def get_solutions_allruns_rollOCT_bigger(name_cohort: str, n_estimators = 500, depth_tree = 5, runs = 10, frac = 1) -> dict:\n",
    "    \n",
    "    subs = int(frac * 3960)-1\n",
    "\n",
    "    dir_path = f'../microbiome_data/taxa_all_logo/refactored_random_forest/n{n_estimators}_d{depth_tree}_s{frac}_f{subs}'\n",
    "    sol_dict = {}\n",
    "    for run in range(1,runs+1):\n",
    "        sol_dict[run] = pd.read_csv(f\"{dir_path}/test_['{name_cohort}']/result_test_run{run}.csv\")\n",
    "    return sol_dict\n",
    "\n",
    "\n",
    "def get_solutions_allruns_sklearn_bigger(name_cohort: str, n_estimators = 500, depth_tree = 5, runs = 10, frac = 1) -> dict:\n",
    "    subs = int(frac * 3960)-1\n",
    "    dir_path = f'../microbiome_data/taxa_all_logo/sklearn_random_forest/n{n_estimators}_d{depth_tree}_s{frac}_f{subs}'\n",
    "    sol_dict = {}\n",
    "    for run in range(1,runs+1):\n",
    "        sol_dict[run] = pd.read_csv(f\"{dir_path}/test_['{name_cohort}']/result_test_run{run}.csv\")\n",
    "    return sol_dict\n",
    "\n",
    "\n",
    "def get_mcc_list_rollOCT_bigger(cohort_name, n_estimators = 500, depth_tree = 5, runs = 10, frac = 1):\n",
    "    sol_dict = get_solutions_allruns_rollOCT_bigger(name_cohort = cohort_name, n_estimators = n_estimators, depth_tree = depth_tree, runs = runs, frac = frac)\n",
    "    \n",
    "    mcc_scores = []\n",
    "\n",
    "    for run in range(1, runs+1):\n",
    "        y_true_test = sol_dict[run]['y']\n",
    "        y_predict_test = sol_dict[run]['prediction']\n",
    "        \n",
    "        mcc_test = matthews_corrcoef(y_true_test, y_predict_test) #For a multiclass problem, sklearn.metrics.matthews_corrcoef returns a single float value representing the overall Matthews correlation coefficient (MCC) across all classes\n",
    "        mcc_scores.append(mcc_test)\n",
    "    return mcc_scores\n",
    "\n",
    "\n",
    "def get_mcc_list_sklearn_bigger(cohort_name, n_estimators = 500, depth_tree = 5, runs = 10, frac = 1):\n",
    "    sol_dict = get_solutions_allruns_sklearn_bigger(name_cohort = cohort_name, n_estimators = n_estimators, depth_tree = depth_tree, runs = runs, frac = frac)\n",
    "    \n",
    "    mcc_scores = []\n",
    "\n",
    "    for run in range(1, runs+1):\n",
    "        y_true_test = sol_dict[run]['y']\n",
    "        y_predict_test = sol_dict[run]['prediction']\n",
    "        \n",
    "        mcc_test = matthews_corrcoef(y_true_test, y_predict_test) #For a multiclass problem, sklearn.metrics.matthews_corrcoef returns a single float value representing the overall Matthews correlation coefficient (MCC) across all classes\n",
    "        mcc_scores.append(mcc_test)\n",
    "    return mcc_scores\n",
    "\n",
    "\n",
    "def get_mcc_list_sklearn_bigger(cohort_name, n_estimators = 500, depth_tree = 5, runs = 10, frac = 1):\n",
    "    sol_dict = get_solutions_allruns_sklearn_bigger(name_cohort = cohort_name, n_estimators = n_estimators, depth_tree = depth_tree, runs = runs, frac = frac)\n",
    "    \n",
    "    mcc_scores = []\n",
    "\n",
    "    for run in range(1, runs+1):\n",
    "        y_true_test = sol_dict[run]['y']\n",
    "        y_predict_test = sol_dict[run]['prediction']\n",
    "        \n",
    "        mcc_test = matthews_corrcoef(y_true_test, y_predict_test) #For a multiclass problem, sklearn.metrics.matthews_corrcoef returns a single float value representing the overall Matthews correlation coefficient (MCC) across all classes\n",
    "        mcc_scores.append(mcc_test)\n",
    "    return mcc_scores"
   ]
  },
  {
   "cell_type": "code",
   "execution_count": 37,
   "id": "0a599236",
   "metadata": {},
   "outputs": [],
   "source": [
    "def mcc_dict_both_trees(list_cohorts, n_estimators = 500, depth_tree = 5):\n",
    "    mcc_dict = dict() #entry contains list with #folds values\n",
    "    for i, cohort in enumerate(list_cohorts):\n",
    "        mcc_dict[cohort] = dict()\n",
    "        mcc_scores_rollOCT_sqrt = get_mcc_list_rollOCT(cohort_name = cohort, n_estimators = n_estimators, depth_tree = depth_tree, runs = 10, subset_feat = 'sqrt')\n",
    "        mcc_scores_sklearn_sqrt = get_mcc_list_sklearn(cohort_name = cohort, n_estimators = n_estimators, depth_tree = depth_tree, runs = 10, subset_feat = 'sqrt')\n",
    "        mcc_dict[cohort]['rollOCT_random_forest_63'] = mcc_scores_rollOCT_sqrt\n",
    "        mcc_dict[cohort]['sklearn_random_forest_63'] = mcc_scores_sklearn_sqrt\n",
    "        mcc_scores_rollOCT_98 = get_mcc_list_rollOCT_bigger(cohort_name = cohort, n_estimators = n_estimators, depth_tree = depth_tree, runs = 5, frac = 0.025)\n",
    "        mcc_scores_sklearn_98 = get_mcc_list_sklearn_bigger(cohort_name = cohort, n_estimators = n_estimators, depth_tree = depth_tree, runs = 5, frac = 0.025)\n",
    "        mcc_dict[cohort]['rollOCT_random_forest_98'] = mcc_scores_rollOCT_98\n",
    "        mcc_dict[cohort]['sklearn_random_forest_98'] = mcc_scores_sklearn_98\n",
    "        mcc_scores_rollOCT_117 = get_mcc_list_rollOCT_bigger(cohort_name = cohort, n_estimators = n_estimators, depth_tree = depth_tree, runs = 10, frac = 0.03)\n",
    "        mcc_scores_sklearn_117 = get_mcc_list_sklearn_bigger(cohort_name = cohort, n_estimators = n_estimators, depth_tree = depth_tree, runs = 10, frac = 0.03)\n",
    "        mcc_dict[cohort]['rollOCT_random_forest_117'] = mcc_scores_rollOCT_117\n",
    "        mcc_dict[cohort]['sklearn_random_forest_117'] = mcc_scores_sklearn_117\n",
    "    return mcc_dict\n",
    "    return mcc_dict"
   ]
  },
  {
   "cell_type": "code",
   "execution_count": 38,
   "id": "f9cc2fec",
   "metadata": {},
   "outputs": [],
   "source": [
    "def figure_mcc_seaborne(list_cohorts, alias_dict = dict(), n_estimators = 500, depth_tree = 5):\n",
    "    mcc_dict = mcc_dict_both_trees(list_cohorts = list_cohorts, n_estimators = n_estimators, depth_tree = depth_tree)\n",
    "    data = []\n",
    "    for cohort in list_cohorts:\n",
    "        for mcc_type in ['sklearn_random_forest_63', 'rollOCT_random_forest_63', 'sklearn_random_forest_98', 'rollOCT_random_forest_98', 'sklearn_random_forest_117', 'rollOCT_random_forest_117']:\n",
    "            for value in mcc_dict[cohort][mcc_type]:\n",
    "                data.append({\n",
    "                    'Cohort': alias_dict.get(cohort, cohort),\n",
    "                    'Type': mcc_type,\n",
    "                    'mcc': value\n",
    "                })\n",
    "    df = pd.DataFrame(data)\n",
    "\n",
    "    print(data)\n",
    "\n",
    "    fig = plt.figure(figsize=(17, 6))\n",
    "    sns.boxplot(x='Cohort', y='mcc', hue='Type', data=df, linewidth=1, width=0.6, dodge=True, palette='colorblind')\n",
    "    plt.ylim(-0.25, 1)\n",
    "    plt.title(f\"Overview: Impact of feature subset size per split; {n_estimators} estimators with tree depth {depth_tree}\")\n",
    "    #plt.legend(loc='center left', bbox_to_anchor=(1, 0.5))\n",
    "    #fig.savefig(os.path.join('../microbiome_data/taxa_all_logo', f'boxplot_taxa_all_n{n_estimators}_d{depth_tree}_{var_name}.png'))\n",
    "    fig.savefig(os.path.join('../microbiome_data/taxa_all_logo', f'boxplot_taxa_all_n{n_estimators}_d{depth_tree}_overview_subset_size.pdf'), format='pdf', bbox_inches='tight')\n",
    "    plt.show()"
   ]
  },
  {
   "cell_type": "code",
   "execution_count": 39,
   "id": "5a09f0bc",
   "metadata": {},
   "outputs": [],
   "source": [
    "cohort_list = ['Austria1', 'Brazil1', 'Canada1', 'China1', 'China2', 'China3', 'China4', 'China5', 'France1', 'Germany1', 'Germany2', 'India1', 'India2', 'Italy1', 'Japan1', 'USA1', 'USA2']\n",
    "\n",
    "alias_dict = {\n",
    "    'Austria1' : 'Austria1',\n",
    "    'Brazil1' : 'Brazil1',\n",
    "    'Canada1' : 'Canada1',\n",
    "    'China1' : 'China1',\n",
    "    'China2' : 'China2',\n",
    "    'China3' : 'China3',\n",
    "    'China4' : 'China4',\n",
    "    'China5' : 'China5',\n",
    "    'France1' : 'France1',\n",
    "    'Germany1' : 'Ger1',\n",
    "    'Germany2' : 'Ger2',\n",
    "    'India1' : 'India1',\n",
    "    'India2' : 'India2',\n",
    "    'Italy1' : 'Italy1',\n",
    "    'Japan1' : 'Japan1',\n",
    "    'USA1' : 'USA1',\n",
    "    'USA2' : 'USA2'\n",
    "}"
   ]
  },
  {
   "cell_type": "code",
   "execution_count": 40,
   "id": "81f045e1",
   "metadata": {},
   "outputs": [
    {
     "ename": "FileNotFoundError",
     "evalue": "[Errno 2] No such file or directory: \"../microbiome_data/taxa_all_logo/sklearn_random_forest/n500_d5_s0.03_f118/test_['Austria1']/result_test_run1.csv\"",
     "output_type": "error",
     "traceback": [
      "\u001b[31m---------------------------------------------------------------------------\u001b[39m",
      "\u001b[31mFileNotFoundError\u001b[39m                         Traceback (most recent call last)",
      "\u001b[36mCell\u001b[39m\u001b[36m \u001b[39m\u001b[32mIn[40]\u001b[39m\u001b[32m, line 1\u001b[39m\n\u001b[32m----> \u001b[39m\u001b[32m1\u001b[39m \u001b[43mfigure_mcc_seaborne\u001b[49m\u001b[43m(\u001b[49m\u001b[43mlist_cohorts\u001b[49m\u001b[43m \u001b[49m\u001b[43m=\u001b[49m\u001b[43m \u001b[49m\u001b[43mcohort_list\u001b[49m\u001b[43m,\u001b[49m\u001b[43m \u001b[49m\u001b[43malias_dict\u001b[49m\u001b[43m \u001b[49m\u001b[43m=\u001b[49m\u001b[43m \u001b[49m\u001b[43malias_dict\u001b[49m\u001b[43m,\u001b[49m\u001b[43m \u001b[49m\u001b[43mn_estimators\u001b[49m\u001b[43m \u001b[49m\u001b[43m=\u001b[49m\u001b[43m \u001b[49m\u001b[32;43m500\u001b[39;49m\u001b[43m,\u001b[49m\u001b[43m \u001b[49m\u001b[43mdepth_tree\u001b[49m\u001b[43m \u001b[49m\u001b[43m=\u001b[49m\u001b[43m \u001b[49m\u001b[32;43m5\u001b[39;49m\u001b[43m)\u001b[49m\n",
      "\u001b[36mCell\u001b[39m\u001b[36m \u001b[39m\u001b[32mIn[38]\u001b[39m\u001b[32m, line 2\u001b[39m, in \u001b[36mfigure_mcc_seaborne\u001b[39m\u001b[34m(list_cohorts, alias_dict, n_estimators, depth_tree)\u001b[39m\n\u001b[32m      1\u001b[39m \u001b[38;5;28;01mdef\u001b[39;00m\u001b[38;5;250m \u001b[39m\u001b[34mfigure_mcc_seaborne\u001b[39m(list_cohorts, alias_dict = \u001b[38;5;28mdict\u001b[39m(), n_estimators = \u001b[32m500\u001b[39m, depth_tree = \u001b[32m5\u001b[39m):\n\u001b[32m----> \u001b[39m\u001b[32m2\u001b[39m     mcc_dict = \u001b[43mmcc_dict_both_trees\u001b[49m\u001b[43m(\u001b[49m\u001b[43mlist_cohorts\u001b[49m\u001b[43m \u001b[49m\u001b[43m=\u001b[49m\u001b[43m \u001b[49m\u001b[43mlist_cohorts\u001b[49m\u001b[43m,\u001b[49m\u001b[43m \u001b[49m\u001b[43mn_estimators\u001b[49m\u001b[43m \u001b[49m\u001b[43m=\u001b[49m\u001b[43m \u001b[49m\u001b[43mn_estimators\u001b[49m\u001b[43m,\u001b[49m\u001b[43m \u001b[49m\u001b[43mdepth_tree\u001b[49m\u001b[43m \u001b[49m\u001b[43m=\u001b[49m\u001b[43m \u001b[49m\u001b[43mdepth_tree\u001b[49m\u001b[43m)\u001b[49m\n\u001b[32m      3\u001b[39m     data = []\n\u001b[32m      4\u001b[39m     \u001b[38;5;28;01mfor\u001b[39;00m cohort \u001b[38;5;129;01min\u001b[39;00m list_cohorts:\n",
      "\u001b[36mCell\u001b[39m\u001b[36m \u001b[39m\u001b[32mIn[37]\u001b[39m\u001b[32m, line 14\u001b[39m, in \u001b[36mmcc_dict_both_trees\u001b[39m\u001b[34m(list_cohorts, n_estimators, depth_tree)\u001b[39m\n\u001b[32m     12\u001b[39m mcc_dict[cohort][\u001b[33m'\u001b[39m\u001b[33msklearn_random_forest_98\u001b[39m\u001b[33m'\u001b[39m] = mcc_scores_sklearn_98\n\u001b[32m     13\u001b[39m mcc_scores_rollOCT_117 = get_mcc_list_rollOCT_bigger(cohort_name = cohort, n_estimators = n_estimators, depth_tree = depth_tree, runs = \u001b[32m10\u001b[39m, frac = \u001b[32m0.03\u001b[39m)\n\u001b[32m---> \u001b[39m\u001b[32m14\u001b[39m mcc_scores_sklearn_117 = \u001b[43mget_mcc_list_sklearn_bigger\u001b[49m\u001b[43m(\u001b[49m\u001b[43mcohort_name\u001b[49m\u001b[43m \u001b[49m\u001b[43m=\u001b[49m\u001b[43m \u001b[49m\u001b[43mcohort\u001b[49m\u001b[43m,\u001b[49m\u001b[43m \u001b[49m\u001b[43mn_estimators\u001b[49m\u001b[43m \u001b[49m\u001b[43m=\u001b[49m\u001b[43m \u001b[49m\u001b[43mn_estimators\u001b[49m\u001b[43m,\u001b[49m\u001b[43m \u001b[49m\u001b[43mdepth_tree\u001b[49m\u001b[43m \u001b[49m\u001b[43m=\u001b[49m\u001b[43m \u001b[49m\u001b[43mdepth_tree\u001b[49m\u001b[43m,\u001b[49m\u001b[43m \u001b[49m\u001b[43mruns\u001b[49m\u001b[43m \u001b[49m\u001b[43m=\u001b[49m\u001b[43m \u001b[49m\u001b[32;43m10\u001b[39;49m\u001b[43m,\u001b[49m\u001b[43m \u001b[49m\u001b[43mfrac\u001b[49m\u001b[43m \u001b[49m\u001b[43m=\u001b[49m\u001b[43m \u001b[49m\u001b[32;43m0.03\u001b[39;49m\u001b[43m)\u001b[49m\n\u001b[32m     15\u001b[39m mcc_dict[cohort][\u001b[33m'\u001b[39m\u001b[33mrollOCT_random_forest_117\u001b[39m\u001b[33m'\u001b[39m] = mcc_scores_rollOCT_117\n\u001b[32m     16\u001b[39m mcc_dict[cohort][\u001b[33m'\u001b[39m\u001b[33msklearn_random_forest_117\u001b[39m\u001b[33m'\u001b[39m] = mcc_scores_sklearn_117\n",
      "\u001b[36mCell\u001b[39m\u001b[36m \u001b[39m\u001b[32mIn[36]\u001b[39m\u001b[32m, line 56\u001b[39m, in \u001b[36mget_mcc_list_sklearn_bigger\u001b[39m\u001b[34m(cohort_name, n_estimators, depth_tree, runs, frac)\u001b[39m\n\u001b[32m     55\u001b[39m \u001b[38;5;28;01mdef\u001b[39;00m\u001b[38;5;250m \u001b[39m\u001b[34mget_mcc_list_sklearn_bigger\u001b[39m(cohort_name, n_estimators = \u001b[32m500\u001b[39m, depth_tree = \u001b[32m5\u001b[39m, runs = \u001b[32m10\u001b[39m, frac = \u001b[32m1\u001b[39m):\n\u001b[32m---> \u001b[39m\u001b[32m56\u001b[39m     sol_dict = \u001b[43mget_solutions_allruns_sklearn_bigger\u001b[49m\u001b[43m(\u001b[49m\u001b[43mname_cohort\u001b[49m\u001b[43m \u001b[49m\u001b[43m=\u001b[49m\u001b[43m \u001b[49m\u001b[43mcohort_name\u001b[49m\u001b[43m,\u001b[49m\u001b[43m \u001b[49m\u001b[43mn_estimators\u001b[49m\u001b[43m \u001b[49m\u001b[43m=\u001b[49m\u001b[43m \u001b[49m\u001b[43mn_estimators\u001b[49m\u001b[43m,\u001b[49m\u001b[43m \u001b[49m\u001b[43mdepth_tree\u001b[49m\u001b[43m \u001b[49m\u001b[43m=\u001b[49m\u001b[43m \u001b[49m\u001b[43mdepth_tree\u001b[49m\u001b[43m,\u001b[49m\u001b[43m \u001b[49m\u001b[43mruns\u001b[49m\u001b[43m \u001b[49m\u001b[43m=\u001b[49m\u001b[43m \u001b[49m\u001b[43mruns\u001b[49m\u001b[43m,\u001b[49m\u001b[43m \u001b[49m\u001b[43mfrac\u001b[49m\u001b[43m \u001b[49m\u001b[43m=\u001b[49m\u001b[43m \u001b[49m\u001b[43mfrac\u001b[49m\u001b[43m)\u001b[49m\n\u001b[32m     58\u001b[39m     mcc_scores = []\n\u001b[32m     60\u001b[39m     \u001b[38;5;28;01mfor\u001b[39;00m run \u001b[38;5;129;01min\u001b[39;00m \u001b[38;5;28mrange\u001b[39m(\u001b[32m1\u001b[39m, runs+\u001b[32m1\u001b[39m):\n",
      "\u001b[36mCell\u001b[39m\u001b[36m \u001b[39m\u001b[32mIn[36]\u001b[39m\u001b[32m, line 23\u001b[39m, in \u001b[36mget_solutions_allruns_sklearn_bigger\u001b[39m\u001b[34m(name_cohort, n_estimators, depth_tree, runs, frac)\u001b[39m\n\u001b[32m     21\u001b[39m sol_dict = {}\n\u001b[32m     22\u001b[39m \u001b[38;5;28;01mfor\u001b[39;00m run \u001b[38;5;129;01min\u001b[39;00m \u001b[38;5;28mrange\u001b[39m(\u001b[32m1\u001b[39m,runs+\u001b[32m1\u001b[39m):\n\u001b[32m---> \u001b[39m\u001b[32m23\u001b[39m     sol_dict[run] = \u001b[43mpd\u001b[49m\u001b[43m.\u001b[49m\u001b[43mread_csv\u001b[49m\u001b[43m(\u001b[49m\u001b[33;43mf\u001b[39;49m\u001b[33;43m\"\u001b[39;49m\u001b[38;5;132;43;01m{\u001b[39;49;00m\u001b[43mdir_path\u001b[49m\u001b[38;5;132;43;01m}\u001b[39;49;00m\u001b[33;43m/test_[\u001b[39;49m\u001b[33;43m'\u001b[39;49m\u001b[38;5;132;43;01m{\u001b[39;49;00m\u001b[43mname_cohort\u001b[49m\u001b[38;5;132;43;01m}\u001b[39;49;00m\u001b[33;43m'\u001b[39;49m\u001b[33;43m]/result_test_run\u001b[39;49m\u001b[38;5;132;43;01m{\u001b[39;49;00m\u001b[43mrun\u001b[49m\u001b[38;5;132;43;01m}\u001b[39;49;00m\u001b[33;43m.csv\u001b[39;49m\u001b[33;43m\"\u001b[39;49m\u001b[43m)\u001b[49m\n\u001b[32m     24\u001b[39m \u001b[38;5;28;01mreturn\u001b[39;00m sol_dict\n",
      "\u001b[36mFile \u001b[39m\u001b[32m~/Obsidian/Files/Bachelorarbeit/rlrf_my_try/.venv/lib/python3.12/site-packages/pandas/io/parsers/readers.py:1026\u001b[39m, in \u001b[36mread_csv\u001b[39m\u001b[34m(filepath_or_buffer, sep, delimiter, header, names, index_col, usecols, dtype, engine, converters, true_values, false_values, skipinitialspace, skiprows, skipfooter, nrows, na_values, keep_default_na, na_filter, verbose, skip_blank_lines, parse_dates, infer_datetime_format, keep_date_col, date_parser, date_format, dayfirst, cache_dates, iterator, chunksize, compression, thousands, decimal, lineterminator, quotechar, quoting, doublequote, escapechar, comment, encoding, encoding_errors, dialect, on_bad_lines, delim_whitespace, low_memory, memory_map, float_precision, storage_options, dtype_backend)\u001b[39m\n\u001b[32m   1013\u001b[39m kwds_defaults = _refine_defaults_read(\n\u001b[32m   1014\u001b[39m     dialect,\n\u001b[32m   1015\u001b[39m     delimiter,\n\u001b[32m   (...)\u001b[39m\u001b[32m   1022\u001b[39m     dtype_backend=dtype_backend,\n\u001b[32m   1023\u001b[39m )\n\u001b[32m   1024\u001b[39m kwds.update(kwds_defaults)\n\u001b[32m-> \u001b[39m\u001b[32m1026\u001b[39m \u001b[38;5;28;01mreturn\u001b[39;00m \u001b[43m_read\u001b[49m\u001b[43m(\u001b[49m\u001b[43mfilepath_or_buffer\u001b[49m\u001b[43m,\u001b[49m\u001b[43m \u001b[49m\u001b[43mkwds\u001b[49m\u001b[43m)\u001b[49m\n",
      "\u001b[36mFile \u001b[39m\u001b[32m~/Obsidian/Files/Bachelorarbeit/rlrf_my_try/.venv/lib/python3.12/site-packages/pandas/io/parsers/readers.py:620\u001b[39m, in \u001b[36m_read\u001b[39m\u001b[34m(filepath_or_buffer, kwds)\u001b[39m\n\u001b[32m    617\u001b[39m _validate_names(kwds.get(\u001b[33m\"\u001b[39m\u001b[33mnames\u001b[39m\u001b[33m\"\u001b[39m, \u001b[38;5;28;01mNone\u001b[39;00m))\n\u001b[32m    619\u001b[39m \u001b[38;5;66;03m# Create the parser.\u001b[39;00m\n\u001b[32m--> \u001b[39m\u001b[32m620\u001b[39m parser = \u001b[43mTextFileReader\u001b[49m\u001b[43m(\u001b[49m\u001b[43mfilepath_or_buffer\u001b[49m\u001b[43m,\u001b[49m\u001b[43m \u001b[49m\u001b[43m*\u001b[49m\u001b[43m*\u001b[49m\u001b[43mkwds\u001b[49m\u001b[43m)\u001b[49m\n\u001b[32m    622\u001b[39m \u001b[38;5;28;01mif\u001b[39;00m chunksize \u001b[38;5;129;01mor\u001b[39;00m iterator:\n\u001b[32m    623\u001b[39m     \u001b[38;5;28;01mreturn\u001b[39;00m parser\n",
      "\u001b[36mFile \u001b[39m\u001b[32m~/Obsidian/Files/Bachelorarbeit/rlrf_my_try/.venv/lib/python3.12/site-packages/pandas/io/parsers/readers.py:1620\u001b[39m, in \u001b[36mTextFileReader.__init__\u001b[39m\u001b[34m(self, f, engine, **kwds)\u001b[39m\n\u001b[32m   1617\u001b[39m     \u001b[38;5;28mself\u001b[39m.options[\u001b[33m\"\u001b[39m\u001b[33mhas_index_names\u001b[39m\u001b[33m\"\u001b[39m] = kwds[\u001b[33m\"\u001b[39m\u001b[33mhas_index_names\u001b[39m\u001b[33m\"\u001b[39m]\n\u001b[32m   1619\u001b[39m \u001b[38;5;28mself\u001b[39m.handles: IOHandles | \u001b[38;5;28;01mNone\u001b[39;00m = \u001b[38;5;28;01mNone\u001b[39;00m\n\u001b[32m-> \u001b[39m\u001b[32m1620\u001b[39m \u001b[38;5;28mself\u001b[39m._engine = \u001b[38;5;28;43mself\u001b[39;49m\u001b[43m.\u001b[49m\u001b[43m_make_engine\u001b[49m\u001b[43m(\u001b[49m\u001b[43mf\u001b[49m\u001b[43m,\u001b[49m\u001b[43m \u001b[49m\u001b[38;5;28;43mself\u001b[39;49m\u001b[43m.\u001b[49m\u001b[43mengine\u001b[49m\u001b[43m)\u001b[49m\n",
      "\u001b[36mFile \u001b[39m\u001b[32m~/Obsidian/Files/Bachelorarbeit/rlrf_my_try/.venv/lib/python3.12/site-packages/pandas/io/parsers/readers.py:1880\u001b[39m, in \u001b[36mTextFileReader._make_engine\u001b[39m\u001b[34m(self, f, engine)\u001b[39m\n\u001b[32m   1878\u001b[39m     \u001b[38;5;28;01mif\u001b[39;00m \u001b[33m\"\u001b[39m\u001b[33mb\u001b[39m\u001b[33m\"\u001b[39m \u001b[38;5;129;01mnot\u001b[39;00m \u001b[38;5;129;01min\u001b[39;00m mode:\n\u001b[32m   1879\u001b[39m         mode += \u001b[33m\"\u001b[39m\u001b[33mb\u001b[39m\u001b[33m\"\u001b[39m\n\u001b[32m-> \u001b[39m\u001b[32m1880\u001b[39m \u001b[38;5;28mself\u001b[39m.handles = \u001b[43mget_handle\u001b[49m\u001b[43m(\u001b[49m\n\u001b[32m   1881\u001b[39m \u001b[43m    \u001b[49m\u001b[43mf\u001b[49m\u001b[43m,\u001b[49m\n\u001b[32m   1882\u001b[39m \u001b[43m    \u001b[49m\u001b[43mmode\u001b[49m\u001b[43m,\u001b[49m\n\u001b[32m   1883\u001b[39m \u001b[43m    \u001b[49m\u001b[43mencoding\u001b[49m\u001b[43m=\u001b[49m\u001b[38;5;28;43mself\u001b[39;49m\u001b[43m.\u001b[49m\u001b[43moptions\u001b[49m\u001b[43m.\u001b[49m\u001b[43mget\u001b[49m\u001b[43m(\u001b[49m\u001b[33;43m\"\u001b[39;49m\u001b[33;43mencoding\u001b[39;49m\u001b[33;43m\"\u001b[39;49m\u001b[43m,\u001b[49m\u001b[43m \u001b[49m\u001b[38;5;28;43;01mNone\u001b[39;49;00m\u001b[43m)\u001b[49m\u001b[43m,\u001b[49m\n\u001b[32m   1884\u001b[39m \u001b[43m    \u001b[49m\u001b[43mcompression\u001b[49m\u001b[43m=\u001b[49m\u001b[38;5;28;43mself\u001b[39;49m\u001b[43m.\u001b[49m\u001b[43moptions\u001b[49m\u001b[43m.\u001b[49m\u001b[43mget\u001b[49m\u001b[43m(\u001b[49m\u001b[33;43m\"\u001b[39;49m\u001b[33;43mcompression\u001b[39;49m\u001b[33;43m\"\u001b[39;49m\u001b[43m,\u001b[49m\u001b[43m \u001b[49m\u001b[38;5;28;43;01mNone\u001b[39;49;00m\u001b[43m)\u001b[49m\u001b[43m,\u001b[49m\n\u001b[32m   1885\u001b[39m \u001b[43m    \u001b[49m\u001b[43mmemory_map\u001b[49m\u001b[43m=\u001b[49m\u001b[38;5;28;43mself\u001b[39;49m\u001b[43m.\u001b[49m\u001b[43moptions\u001b[49m\u001b[43m.\u001b[49m\u001b[43mget\u001b[49m\u001b[43m(\u001b[49m\u001b[33;43m\"\u001b[39;49m\u001b[33;43mmemory_map\u001b[39;49m\u001b[33;43m\"\u001b[39;49m\u001b[43m,\u001b[49m\u001b[43m \u001b[49m\u001b[38;5;28;43;01mFalse\u001b[39;49;00m\u001b[43m)\u001b[49m\u001b[43m,\u001b[49m\n\u001b[32m   1886\u001b[39m \u001b[43m    \u001b[49m\u001b[43mis_text\u001b[49m\u001b[43m=\u001b[49m\u001b[43mis_text\u001b[49m\u001b[43m,\u001b[49m\n\u001b[32m   1887\u001b[39m \u001b[43m    \u001b[49m\u001b[43merrors\u001b[49m\u001b[43m=\u001b[49m\u001b[38;5;28;43mself\u001b[39;49m\u001b[43m.\u001b[49m\u001b[43moptions\u001b[49m\u001b[43m.\u001b[49m\u001b[43mget\u001b[49m\u001b[43m(\u001b[49m\u001b[33;43m\"\u001b[39;49m\u001b[33;43mencoding_errors\u001b[39;49m\u001b[33;43m\"\u001b[39;49m\u001b[43m,\u001b[49m\u001b[43m \u001b[49m\u001b[33;43m\"\u001b[39;49m\u001b[33;43mstrict\u001b[39;49m\u001b[33;43m\"\u001b[39;49m\u001b[43m)\u001b[49m\u001b[43m,\u001b[49m\n\u001b[32m   1888\u001b[39m \u001b[43m    \u001b[49m\u001b[43mstorage_options\u001b[49m\u001b[43m=\u001b[49m\u001b[38;5;28;43mself\u001b[39;49m\u001b[43m.\u001b[49m\u001b[43moptions\u001b[49m\u001b[43m.\u001b[49m\u001b[43mget\u001b[49m\u001b[43m(\u001b[49m\u001b[33;43m\"\u001b[39;49m\u001b[33;43mstorage_options\u001b[39;49m\u001b[33;43m\"\u001b[39;49m\u001b[43m,\u001b[49m\u001b[43m \u001b[49m\u001b[38;5;28;43;01mNone\u001b[39;49;00m\u001b[43m)\u001b[49m\u001b[43m,\u001b[49m\n\u001b[32m   1889\u001b[39m \u001b[43m\u001b[49m\u001b[43m)\u001b[49m\n\u001b[32m   1890\u001b[39m \u001b[38;5;28;01massert\u001b[39;00m \u001b[38;5;28mself\u001b[39m.handles \u001b[38;5;129;01mis\u001b[39;00m \u001b[38;5;129;01mnot\u001b[39;00m \u001b[38;5;28;01mNone\u001b[39;00m\n\u001b[32m   1891\u001b[39m f = \u001b[38;5;28mself\u001b[39m.handles.handle\n",
      "\u001b[36mFile \u001b[39m\u001b[32m~/Obsidian/Files/Bachelorarbeit/rlrf_my_try/.venv/lib/python3.12/site-packages/pandas/io/common.py:873\u001b[39m, in \u001b[36mget_handle\u001b[39m\u001b[34m(path_or_buf, mode, encoding, compression, memory_map, is_text, errors, storage_options)\u001b[39m\n\u001b[32m    868\u001b[39m \u001b[38;5;28;01melif\u001b[39;00m \u001b[38;5;28misinstance\u001b[39m(handle, \u001b[38;5;28mstr\u001b[39m):\n\u001b[32m    869\u001b[39m     \u001b[38;5;66;03m# Check whether the filename is to be opened in binary mode.\u001b[39;00m\n\u001b[32m    870\u001b[39m     \u001b[38;5;66;03m# Binary mode does not support 'encoding' and 'newline'.\u001b[39;00m\n\u001b[32m    871\u001b[39m     \u001b[38;5;28;01mif\u001b[39;00m ioargs.encoding \u001b[38;5;129;01mand\u001b[39;00m \u001b[33m\"\u001b[39m\u001b[33mb\u001b[39m\u001b[33m\"\u001b[39m \u001b[38;5;129;01mnot\u001b[39;00m \u001b[38;5;129;01min\u001b[39;00m ioargs.mode:\n\u001b[32m    872\u001b[39m         \u001b[38;5;66;03m# Encoding\u001b[39;00m\n\u001b[32m--> \u001b[39m\u001b[32m873\u001b[39m         handle = \u001b[38;5;28;43mopen\u001b[39;49m\u001b[43m(\u001b[49m\n\u001b[32m    874\u001b[39m \u001b[43m            \u001b[49m\u001b[43mhandle\u001b[49m\u001b[43m,\u001b[49m\n\u001b[32m    875\u001b[39m \u001b[43m            \u001b[49m\u001b[43mioargs\u001b[49m\u001b[43m.\u001b[49m\u001b[43mmode\u001b[49m\u001b[43m,\u001b[49m\n\u001b[32m    876\u001b[39m \u001b[43m            \u001b[49m\u001b[43mencoding\u001b[49m\u001b[43m=\u001b[49m\u001b[43mioargs\u001b[49m\u001b[43m.\u001b[49m\u001b[43mencoding\u001b[49m\u001b[43m,\u001b[49m\n\u001b[32m    877\u001b[39m \u001b[43m            \u001b[49m\u001b[43merrors\u001b[49m\u001b[43m=\u001b[49m\u001b[43merrors\u001b[49m\u001b[43m,\u001b[49m\n\u001b[32m    878\u001b[39m \u001b[43m            \u001b[49m\u001b[43mnewline\u001b[49m\u001b[43m=\u001b[49m\u001b[33;43m\"\u001b[39;49m\u001b[33;43m\"\u001b[39;49m\u001b[43m,\u001b[49m\n\u001b[32m    879\u001b[39m \u001b[43m        \u001b[49m\u001b[43m)\u001b[49m\n\u001b[32m    880\u001b[39m     \u001b[38;5;28;01melse\u001b[39;00m:\n\u001b[32m    881\u001b[39m         \u001b[38;5;66;03m# Binary mode\u001b[39;00m\n\u001b[32m    882\u001b[39m         handle = \u001b[38;5;28mopen\u001b[39m(handle, ioargs.mode)\n",
      "\u001b[31mFileNotFoundError\u001b[39m: [Errno 2] No such file or directory: \"../microbiome_data/taxa_all_logo/sklearn_random_forest/n500_d5_s0.03_f118/test_['Austria1']/result_test_run1.csv\""
     ]
    }
   ],
   "source": [
    "figure_mcc_seaborne(list_cohorts = cohort_list, alias_dict = alias_dict, n_estimators = 500, depth_tree = 5)"
   ]
  }
 ],
 "metadata": {
  "kernelspec": {
   "display_name": ".venv (3.12.3)",
   "language": "python",
   "name": "python3"
  },
  "language_info": {
   "codemirror_mode": {
    "name": "ipython",
    "version": 3
   },
   "file_extension": ".py",
   "mimetype": "text/x-python",
   "name": "python",
   "nbconvert_exporter": "python",
   "pygments_lexer": "ipython3",
   "version": "3.12.3"
  }
 },
 "nbformat": 4,
 "nbformat_minor": 5
}
