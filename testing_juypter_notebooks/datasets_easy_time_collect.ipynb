{
 "cells": [
  {
   "cell_type": "code",
   "execution_count": 4,
   "id": "d0ca80e3",
   "metadata": {},
   "outputs": [],
   "source": [
    "import os\n",
    "import pandas as pd\n",
    "import re\n",
    "\n",
    "with open(\"dataset_tree_times_table.txt\", \"w\") as file:\n",
    "    pass"
   ]
  },
  {
   "cell_type": "code",
   "execution_count": null,
   "id": "155d8c17",
   "metadata": {},
   "outputs": [],
   "source": []
  },
  {
   "cell_type": "code",
   "execution_count": null,
   "id": "01027afb",
   "metadata": {},
   "outputs": [
    {
     "ename": "ValueError",
     "evalue": "cannot set a frame with no defined columns",
     "output_type": "error",
     "traceback": [
      "\u001b[31m---------------------------------------------------------------------------\u001b[39m",
      "\u001b[31mValueError\u001b[39m                                Traceback (most recent call last)",
      "\u001b[36mCell\u001b[39m\u001b[36m \u001b[39m\u001b[32mIn[5]\u001b[39m\u001b[32m, line 38\u001b[39m\n\u001b[32m     36\u001b[39m \u001b[38;5;66;03m# Append each name as a row\u001b[39;00m\n\u001b[32m     37\u001b[39m \u001b[38;5;28;01mfor\u001b[39;00m name \u001b[38;5;129;01min\u001b[39;00m list_names:\n\u001b[32m---> \u001b[39m\u001b[32m38\u001b[39m     \u001b[43mdf\u001b[49m\u001b[43m.\u001b[49m\u001b[43mloc\u001b[49m\u001b[43m[\u001b[49m\u001b[43mname\u001b[49m\u001b[43m]\u001b[49m = alias_dict[name]\n\u001b[32m     39\u001b[39m df[\u001b[33m'\u001b[39m\u001b[33msklearn_time\u001b[39m\u001b[33m'\u001b[39m] = \u001b[38;5;28;01mNone\u001b[39;00m\n\u001b[32m     40\u001b[39m df[\u001b[33m'\u001b[39m\u001b[33morig_rollOCT_time\u001b[39m\u001b[33m'\u001b[39m] = \u001b[38;5;28;01mNone\u001b[39;00m\n",
      "\u001b[36mFile \u001b[39m\u001b[32m~/Obsidian/Files/Bachelorarbeit/rlrf_my_try/.venv/lib/python3.12/site-packages/pandas/core/indexing.py:911\u001b[39m, in \u001b[36m_LocationIndexer.__setitem__\u001b[39m\u001b[34m(self, key, value)\u001b[39m\n\u001b[32m    908\u001b[39m \u001b[38;5;28mself\u001b[39m._has_valid_setitem_indexer(key)\n\u001b[32m    910\u001b[39m iloc = \u001b[38;5;28mself\u001b[39m \u001b[38;5;28;01mif\u001b[39;00m \u001b[38;5;28mself\u001b[39m.name == \u001b[33m\"\u001b[39m\u001b[33miloc\u001b[39m\u001b[33m\"\u001b[39m \u001b[38;5;28;01melse\u001b[39;00m \u001b[38;5;28mself\u001b[39m.obj.iloc\n\u001b[32m--> \u001b[39m\u001b[32m911\u001b[39m \u001b[43miloc\u001b[49m\u001b[43m.\u001b[49m\u001b[43m_setitem_with_indexer\u001b[49m\u001b[43m(\u001b[49m\u001b[43mindexer\u001b[49m\u001b[43m,\u001b[49m\u001b[43m \u001b[49m\u001b[43mvalue\u001b[49m\u001b[43m,\u001b[49m\u001b[43m \u001b[49m\u001b[38;5;28;43mself\u001b[39;49m\u001b[43m.\u001b[49m\u001b[43mname\u001b[49m\u001b[43m)\u001b[49m\n",
      "\u001b[36mFile \u001b[39m\u001b[32m~/Obsidian/Files/Bachelorarbeit/rlrf_my_try/.venv/lib/python3.12/site-packages/pandas/core/indexing.py:1932\u001b[39m, in \u001b[36m_iLocIndexer._setitem_with_indexer\u001b[39m\u001b[34m(self, indexer, value, name)\u001b[39m\n\u001b[32m   1929\u001b[39m     indexer, missing = convert_missing_indexer(indexer)\n\u001b[32m   1931\u001b[39m     \u001b[38;5;28;01mif\u001b[39;00m missing:\n\u001b[32m-> \u001b[39m\u001b[32m1932\u001b[39m         \u001b[38;5;28;43mself\u001b[39;49m\u001b[43m.\u001b[49m\u001b[43m_setitem_with_indexer_missing\u001b[49m\u001b[43m(\u001b[49m\u001b[43mindexer\u001b[49m\u001b[43m,\u001b[49m\u001b[43m \u001b[49m\u001b[43mvalue\u001b[49m\u001b[43m)\u001b[49m\n\u001b[32m   1933\u001b[39m         \u001b[38;5;28;01mreturn\u001b[39;00m\n\u001b[32m   1935\u001b[39m \u001b[38;5;28;01mif\u001b[39;00m name == \u001b[33m\"\u001b[39m\u001b[33mloc\u001b[39m\u001b[33m\"\u001b[39m:\n\u001b[32m   1936\u001b[39m     \u001b[38;5;66;03m# must come after setting of missing\u001b[39;00m\n",
      "\u001b[36mFile \u001b[39m\u001b[32m~/Obsidian/Files/Bachelorarbeit/rlrf_my_try/.venv/lib/python3.12/site-packages/pandas/core/indexing.py:2290\u001b[39m, in \u001b[36m_iLocIndexer._setitem_with_indexer_missing\u001b[39m\u001b[34m(self, indexer, value)\u001b[39m\n\u001b[32m   2287\u001b[39m \u001b[38;5;28;01melif\u001b[39;00m \u001b[38;5;28mself\u001b[39m.ndim == \u001b[32m2\u001b[39m:\n\u001b[32m   2288\u001b[39m     \u001b[38;5;28;01mif\u001b[39;00m \u001b[38;5;129;01mnot\u001b[39;00m \u001b[38;5;28mlen\u001b[39m(\u001b[38;5;28mself\u001b[39m.obj.columns):\n\u001b[32m   2289\u001b[39m         \u001b[38;5;66;03m# no columns and scalar\u001b[39;00m\n\u001b[32m-> \u001b[39m\u001b[32m2290\u001b[39m         \u001b[38;5;28;01mraise\u001b[39;00m \u001b[38;5;167;01mValueError\u001b[39;00m(\u001b[33m\"\u001b[39m\u001b[33mcannot set a frame with no defined columns\u001b[39m\u001b[33m\"\u001b[39m)\n\u001b[32m   2292\u001b[39m     has_dtype = \u001b[38;5;28mhasattr\u001b[39m(value, \u001b[33m\"\u001b[39m\u001b[33mdtype\u001b[39m\u001b[33m\"\u001b[39m)\n\u001b[32m   2293\u001b[39m     \u001b[38;5;28;01mif\u001b[39;00m \u001b[38;5;28misinstance\u001b[39m(value, ABCSeries):\n\u001b[32m   2294\u001b[39m         \u001b[38;5;66;03m# append a Series\u001b[39;00m\n",
      "\u001b[31mValueError\u001b[39m: cannot set a frame with no defined columns"
     ]
    }
   ],
   "source": [
    "list_names = ['adult', 'breast+cancer+wisconsin+diagnostic', 'car_evaluation', 'mushroom', 'nursery', 'seismic', 'spambase', 'wine', 'banknote+authentication', 'chess+king+rook+vs+king+pawn', 'monk1', 'monk2', 'monk3']\n",
    "\n",
    "alias_dict = {\n",
    "    'adult' : 'adult',\n",
    "    'breast+cancer+wisconsin+diagnostic' : 'bcwd',\n",
    "    'car_evaluation' : 'car_eval',\n",
    "    'mushroom' : 'mushroom',\n",
    "    'nursery' : 'nursery',\n",
    "    'seismic' : 'seismic',\n",
    "    'spambase' : 'spambase',\n",
    "    'wine' : 'wine',\n",
    "    'banknote+authentication' : 'banknote',\n",
    "    'chess+king+rook+vs+king+pawn' : 'chess',\n",
    "    'monk1' : 'monk1',\n",
    "    'monk2' : 'monk2',\n",
    "    'monk3' : 'monk3'\n",
    "}\n",
    "\n",
    "clean_dict = {\n",
    "    'adult' : 'adult',\n",
    "    'breast+cancer+wisconsin+diagnostic' : 'breast cancer wisconsin diagnostic',\n",
    "    'car_evaluation' : 'car evalualtion',\n",
    "    'mushroom' : 'mushroom',\n",
    "    'nursery' : 'nursery',\n",
    "    'seismic' : 'seismic',\n",
    "    'spambase' : 'spambase',\n",
    "    'wine' : 'wine',\n",
    "    'banknote+authentication' : 'banknote',\n",
    "    'chess+king+rook+vs+king+pawn' : 'king rook vs. king pawn',\n",
    "    'monk1' : 'monk1',\n",
    "    'monk2' : 'monk2',\n",
    "    'monk3' : 'monk3'\n",
    "}\n",
    "\n",
    "\n",
    "# Create empty DataFrame with row indices as the names\n",
    "df = pd.DataFrame(index=list_names)\n",
    "\n",
    "# Add the three columns initialized with None\n",
    "df['sklearn_time'] = None\n",
    "df['orig_rollOCT_time'] = None\n",
    "df['refac_rollOCT_time'] = None\n",
    "\n",
    "print(df)\n",
    "\n",
    "\n",
    "print(df)\n",
    "\n"
   ]
  },
  {
   "cell_type": "code",
   "execution_count": null,
   "id": "b19a8ca2",
   "metadata": {},
   "outputs": [
    {
     "name": "stdout",
     "output_type": "stream",
     "text": [
      "                                    Datasets sklearn_time orig_rollOCT_time  \\\n",
      "adult                                  adult         None              23.8   \n",
      "breast+cancer+wisconsin+diagnostic      bcwd         None               0.4   \n",
      "car_evaluation                      car_eval         None              0.12   \n",
      "mushroom                            mushroom         None              1.06   \n",
      "nursery                              nursery         None              0.83   \n",
      "seismic                              seismic         None              0.37   \n",
      "spambase                            spambase         None              1.21   \n",
      "wine                                    wine         None              0.04   \n",
      "banknote+authentication             banknote         None               0.1   \n",
      "chess+king+rook+vs+king+pawn           chess         None              0.26   \n",
      "monk1                                  monk1         None              0.03   \n",
      "monk2                                  monk2         None              0.05   \n",
      "monk3                                  monk3         None              0.04   \n",
      "\n",
      "                                   refac_rollOCT_time  \n",
      "adult                                            None  \n",
      "breast+cancer+wisconsin+diagnostic               None  \n",
      "car_evaluation                                   None  \n",
      "mushroom                                         None  \n",
      "nursery                                          None  \n",
      "seismic                                          None  \n",
      "spambase                                         None  \n",
      "wine                                             None  \n",
      "banknote+authentication                          None  \n",
      "chess+king+rook+vs+king+pawn                     None  \n",
      "monk1                                            None  \n",
      "monk2                                            None  \n",
      "monk3                                            None  \n"
     ]
    }
   ],
   "source": [
    "# orig_RollOCT\n",
    "\n",
    "for name in list_names:\n",
    "    sum_times = 0\n",
    "    for i in range(10): #folds\n",
    "        with open(f'../results/{name}/pulp/fold{i+1}/fold{i+1}_acc_times_{name}.txt', 'r') as file:\n",
    "            last_line = file.readlines()[-1]\n",
    "            match = re.search(r'\\d+\\.\\d+', last_line)  # Finds the first floating-point number\n",
    "            if match:\n",
    "                seconds = float(match.group())\n",
    "                sum_times += seconds\n",
    "    mean = sum_times/10\n",
    "    minutes= round(mean/60, 2)\n",
    "    df.at[name, 'orig_rollOCT_time'] = minutes\n",
    "\n",
    "\n",
    "print(df)\n",
    "            "
   ]
  },
  {
   "cell_type": "code",
   "execution_count": null,
   "id": "3ea95f1c",
   "metadata": {},
   "outputs": [],
   "source": []
  }
 ],
 "metadata": {
  "kernelspec": {
   "display_name": ".venv (3.12.3)",
   "language": "python",
   "name": "python3"
  },
  "language_info": {
   "codemirror_mode": {
    "name": "ipython",
    "version": 3
   },
   "file_extension": ".py",
   "mimetype": "text/x-python",
   "name": "python",
   "nbconvert_exporter": "python",
   "pygments_lexer": "ipython3",
   "version": "3.12.3"
  }
 },
 "nbformat": 4,
 "nbformat_minor": 5
}
