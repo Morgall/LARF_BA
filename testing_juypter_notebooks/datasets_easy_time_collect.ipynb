{
 "cells": [
  {
   "cell_type": "code",
   "execution_count": 121,
   "id": "d0ca80e3",
   "metadata": {},
   "outputs": [],
   "source": [
    "import os\n",
    "import pandas as pd\n",
    "import re\n",
    "\n",
    "with open(\"dataset_tree_times_table.txt\", \"w\") as file:\n",
    "    pass"
   ]
  },
  {
   "cell_type": "code",
   "execution_count": null,
   "id": "155d8c17",
   "metadata": {},
   "outputs": [],
   "source": []
  },
  {
   "cell_type": "code",
   "execution_count": null,
   "id": "01027afb",
   "metadata": {},
   "outputs": [
    {
     "name": "stdout",
     "output_type": "stream",
     "text": [
      "         sklearn_time orig_rollOCT_time refac_rollOCT_time\n",
      "adult            None              None               None\n",
      "bcwd             None              None               None\n",
      "car_eval         None              None               None\n",
      "mushroom         None              None               None\n",
      "nursery          None              None               None\n",
      "seismic          None              None               None\n",
      "spambase         None              None               None\n",
      "wine             None              None               None\n",
      "banknote         None              None               None\n",
      "chess            None              None               None\n",
      "monk1            None              None               None\n",
      "monk2            None              None               None\n",
      "monk3            None              None               None\n",
      "         sklearn_time orig_rollOCT_time refac_rollOCT_time\n",
      "adult            None              None               None\n",
      "bcwd             None              None               None\n",
      "car_eval         None              None               None\n",
      "mushroom         None              None               None\n",
      "nursery          None              None               None\n",
      "seismic          None              None               None\n",
      "spambase         None              None               None\n",
      "wine             None              None               None\n",
      "banknote         None              None               None\n",
      "chess            None              None               None\n",
      "monk1            None              None               None\n",
      "monk2            None              None               None\n",
      "monk3            None              None               None\n"
     ]
    }
   ],
   "source": [
    "list_names = ['adult', 'breast+cancer+wisconsin+diagnostic', 'car_evaluation', 'mushroom', 'nursery', 'seismic', 'spambase', 'wine', 'banknote+authentication', 'chess+king+rook+vs+king+pawn', 'monk1', 'monk2', 'monk3']\n",
    "\n",
    "alias_dict = {\n",
    "    'adult' : 'adult',\n",
    "    'breast+cancer+wisconsin+diagnostic' : 'bcwd',\n",
    "    'car_evaluation' : 'car_eval',\n",
    "    'mushroom' : 'mushroom',\n",
    "    'nursery' : 'nursery',\n",
    "    'seismic' : 'seismic',\n",
    "    'spambase' : 'spambase',\n",
    "    'wine' : 'wine',\n",
    "    'banknote+authentication' : 'banknote',\n",
    "    'chess+king+rook+vs+king+pawn' : 'chess',\n",
    "    'monk1' : 'monk1',\n",
    "    'monk2' : 'monk2',\n",
    "    'monk3' : 'monk3'\n",
    "}\n",
    "\n",
    "clean_dict = {\n",
    "    'adult' : 'adult',\n",
    "    'breast+cancer+wisconsin+diagnostic' : 'breast cancer wisconsin diagnostic',\n",
    "    'car_evaluation' : 'car evalualtion',\n",
    "    'mushroom' : 'mushroom',\n",
    "    'nursery' : 'nursery',\n",
    "    'seismic' : 'seismic',\n",
    "    'spambase' : 'spambase',\n",
    "    'wine' : 'wine',\n",
    "    'banknote+authentication' : 'banknote',\n",
    "    'chess+king+rook+vs+king+pawn' : 'king rook vs. king pawn',\n",
    "    'monk1' : 'monk1',\n",
    "    'monk2' : 'monk2',\n",
    "    'monk3' : 'monk3'\n",
    "}\n",
    "\n",
    "\n",
    "\n",
    "# Create empty DataFrame with row indices as the names\n",
    "df = pd.DataFrame(index=list_names)\n",
    "\n",
    "# Add the three columns initialized with None\n",
    "df['sklearn_time'] = None\n",
    "df['orig_rollOCT_time'] = None\n",
    "df['refac_rollOCT_time'] = None\n",
    "\n",
    "print(df)\n",
    "\n",
    "\n",
    "print(df)\n",
    "\n"
   ]
  },
  {
   "cell_type": "code",
   "execution_count": 123,
   "id": "b19a8ca2",
   "metadata": {},
   "outputs": [
    {
     "ename": "FileNotFoundError",
     "evalue": "[Errno 2] No such file or directory: '../results/bcwd/pulp/fold1/fold1_acc_times_bcwd.txt'",
     "output_type": "error",
     "traceback": [
      "\u001b[31m---------------------------------------------------------------------------\u001b[39m",
      "\u001b[31mFileNotFoundError\u001b[39m                         Traceback (most recent call last)",
      "\u001b[36mCell\u001b[39m\u001b[36m \u001b[39m\u001b[32mIn[123]\u001b[39m\u001b[32m, line 6\u001b[39m\n\u001b[32m      4\u001b[39m sum_times = \u001b[32m0\u001b[39m\n\u001b[32m      5\u001b[39m \u001b[38;5;28;01mfor\u001b[39;00m i \u001b[38;5;129;01min\u001b[39;00m \u001b[38;5;28mrange\u001b[39m(\u001b[32m10\u001b[39m): \u001b[38;5;66;03m#folds\u001b[39;00m\n\u001b[32m----> \u001b[39m\u001b[32m6\u001b[39m     \u001b[38;5;28;01mwith\u001b[39;00m \u001b[38;5;28;43mopen\u001b[39;49m\u001b[43m(\u001b[49m\u001b[33;43mf\u001b[39;49m\u001b[33;43m'\u001b[39;49m\u001b[33;43m../results/\u001b[39;49m\u001b[38;5;132;43;01m{\u001b[39;49;00m\u001b[43mname\u001b[49m\u001b[38;5;132;43;01m}\u001b[39;49;00m\u001b[33;43m/pulp/fold\u001b[39;49m\u001b[38;5;132;43;01m{\u001b[39;49;00m\u001b[43mi\u001b[49m\u001b[43m+\u001b[49m\u001b[32;43m1\u001b[39;49m\u001b[38;5;132;43;01m}\u001b[39;49;00m\u001b[33;43m/fold\u001b[39;49m\u001b[38;5;132;43;01m{\u001b[39;49;00m\u001b[43mi\u001b[49m\u001b[43m+\u001b[49m\u001b[32;43m1\u001b[39;49m\u001b[38;5;132;43;01m}\u001b[39;49;00m\u001b[33;43m_acc_times_\u001b[39;49m\u001b[38;5;132;43;01m{\u001b[39;49;00m\u001b[43mname\u001b[49m\u001b[38;5;132;43;01m}\u001b[39;49;00m\u001b[33;43m.txt\u001b[39;49m\u001b[33;43m'\u001b[39;49m\u001b[43m,\u001b[49m\u001b[43m \u001b[49m\u001b[33;43m'\u001b[39;49m\u001b[33;43mr\u001b[39;49m\u001b[33;43m'\u001b[39;49m\u001b[43m)\u001b[49m \u001b[38;5;28;01mas\u001b[39;00m file:\n\u001b[32m      7\u001b[39m         last_line = file.readlines()[-\u001b[32m1\u001b[39m]\n\u001b[32m      8\u001b[39m         match = re.search(\u001b[33mr\u001b[39m\u001b[33m'\u001b[39m\u001b[33m\\\u001b[39m\u001b[33md+\u001b[39m\u001b[33m\\\u001b[39m\u001b[33m.\u001b[39m\u001b[33m\\\u001b[39m\u001b[33md+\u001b[39m\u001b[33m'\u001b[39m, last_line)  \u001b[38;5;66;03m# Finds the first floating-point number\u001b[39;00m\n",
      "\u001b[36mFile \u001b[39m\u001b[32m~/Obsidian/Files/Bachelorarbeit/rlrf_my_try/.venv/lib/python3.12/site-packages/IPython/core/interactiveshell.py:343\u001b[39m, in \u001b[36m_modified_open\u001b[39m\u001b[34m(file, *args, **kwargs)\u001b[39m\n\u001b[32m    336\u001b[39m \u001b[38;5;28;01mif\u001b[39;00m file \u001b[38;5;129;01min\u001b[39;00m {\u001b[32m0\u001b[39m, \u001b[32m1\u001b[39m, \u001b[32m2\u001b[39m}:\n\u001b[32m    337\u001b[39m     \u001b[38;5;28;01mraise\u001b[39;00m \u001b[38;5;167;01mValueError\u001b[39;00m(\n\u001b[32m    338\u001b[39m         \u001b[33mf\u001b[39m\u001b[33m\"\u001b[39m\u001b[33mIPython won\u001b[39m\u001b[33m'\u001b[39m\u001b[33mt let you open fd=\u001b[39m\u001b[38;5;132;01m{\u001b[39;00mfile\u001b[38;5;132;01m}\u001b[39;00m\u001b[33m by default \u001b[39m\u001b[33m\"\u001b[39m\n\u001b[32m    339\u001b[39m         \u001b[33m\"\u001b[39m\u001b[33mas it is likely to crash IPython. If you know what you are doing, \u001b[39m\u001b[33m\"\u001b[39m\n\u001b[32m    340\u001b[39m         \u001b[33m\"\u001b[39m\u001b[33myou can use builtins\u001b[39m\u001b[33m'\u001b[39m\u001b[33m open.\u001b[39m\u001b[33m\"\u001b[39m\n\u001b[32m    341\u001b[39m     )\n\u001b[32m--> \u001b[39m\u001b[32m343\u001b[39m \u001b[38;5;28;01mreturn\u001b[39;00m \u001b[43mio_open\u001b[49m\u001b[43m(\u001b[49m\u001b[43mfile\u001b[49m\u001b[43m,\u001b[49m\u001b[43m \u001b[49m\u001b[43m*\u001b[49m\u001b[43margs\u001b[49m\u001b[43m,\u001b[49m\u001b[43m \u001b[49m\u001b[43m*\u001b[49m\u001b[43m*\u001b[49m\u001b[43mkwargs\u001b[49m\u001b[43m)\u001b[49m\n",
      "\u001b[31mFileNotFoundError\u001b[39m: [Errno 2] No such file or directory: '../results/bcwd/pulp/fold1/fold1_acc_times_bcwd.txt'"
     ]
    }
   ],
   "source": [
    "# orig_RollOCT\n",
    "\n",
    "for name in list_names:\n",
    "    sum_times = 0\n",
    "    for i in range(10): #folds\n",
    "        with open(f'../results/{name}/pulp/fold{i+1}/fold{i+1}_acc_times_{name}.txt', 'r') as file:\n",
    "            last_line = file.readlines()[-1]\n",
    "            match = re.search(r'\\d+\\.\\d+', last_line)  # Finds the first floating-point number\n",
    "            if match:\n",
    "                seconds = float(match.group())\n",
    "                sum_times += seconds\n",
    "    mean = sum_times/10\n",
    "    df.at[name, 'orig_rollOCT_time'] = round(mean, 3)\n",
    "    #minutes= round(mean/60, 2)\n",
    "    #df.at[name, 'orig_rollOCT_time'] = minutes\n",
    "\n",
    "\n",
    "print(df)\n",
    "            "
   ]
  },
  {
   "cell_type": "code",
   "execution_count": null,
   "id": "3ea95f1c",
   "metadata": {},
   "outputs": [
    {
     "name": "stdout",
     "output_type": "stream",
     "text": [
      "                                   sklearn_time orig_rollOCT_time  \\\n",
      "adult                                     0.144          1427.873   \n",
      "breast+cancer+wisconsin+diagnostic        0.006            23.927   \n",
      "car_evaluation                            0.005             7.062   \n",
      "mushroom                                  0.018            63.858   \n",
      "nursery                                   0.013            49.953   \n",
      "seismic                                   0.007            22.106   \n",
      "spambase                                   0.01             72.53   \n",
      "wine                                      0.004              2.58   \n",
      "banknote+authentication                   0.004             5.965   \n",
      "chess+king+rook+vs+king+pawn              0.006            15.803   \n",
      "monk1                                     0.005             1.744   \n",
      "monk2                                     0.004             2.901   \n",
      "monk3                                     0.004              2.35   \n",
      "\n",
      "                                   refac_rollOCT_time  \n",
      "adult                                            None  \n",
      "breast+cancer+wisconsin+diagnostic               None  \n",
      "car_evaluation                                   None  \n",
      "mushroom                                         None  \n",
      "nursery                                          None  \n",
      "seismic                                          None  \n",
      "spambase                                         None  \n",
      "wine                                             None  \n",
      "banknote+authentication                          None  \n",
      "chess+king+rook+vs+king+pawn                     None  \n",
      "monk1                                            None  \n",
      "monk2                                            None  \n",
      "monk3                                            None  \n"
     ]
    }
   ],
   "source": [
    "#sklearn\n",
    "\n",
    "for name in list_names:\n",
    "    sum_times = 0\n",
    "    for i in range(10): #folds\n",
    "        with open(f'../results/{name}/cart/fold{i+1}/fold{i+1}_times_{name}.txt', 'r') as file:\n",
    "            last_line = file.readlines()[-1]\n",
    "            match = re.search(r'\\d+\\.\\d+', last_line)  # Finds the first floating-point number\n",
    "            if match:\n",
    "                seconds = float(match.group())\n",
    "                sum_times += seconds\n",
    "    mean = sum_times/10\n",
    "    df.at[name, 'sklearn_time'] = round(mean, 3)\n",
    "    #minutes= round(mean/60, 2)\n",
    "    #df.at[name, 'orig_rollOCT_time'] = minutes\n",
    "\n",
    "\n",
    "print(df)"
   ]
  },
  {
   "cell_type": "code",
   "execution_count": null,
   "id": "a9a096c6",
   "metadata": {},
   "outputs": [
    {
     "name": "stdout",
     "output_type": "stream",
     "text": [
      "                                   sklearn_time orig_rollOCT_time  \\\n",
      "adult                                     0.144          1427.873   \n",
      "breast+cancer+wisconsin+diagnostic        0.006            23.927   \n",
      "car_evaluation                            0.005             7.062   \n",
      "mushroom                                  0.018            63.858   \n",
      "nursery                                   0.013            49.953   \n",
      "seismic                                   0.007            22.106   \n",
      "spambase                                   0.01             72.53   \n",
      "wine                                      0.004              2.58   \n",
      "banknote+authentication                   0.004             5.965   \n",
      "chess+king+rook+vs+king+pawn              0.006            15.803   \n",
      "monk1                                     0.005             1.744   \n",
      "monk2                                     0.004             2.901   \n",
      "monk3                                     0.004              2.35   \n",
      "\n",
      "                                   refac_rollOCT_time  \n",
      "adult                                        1314.671  \n",
      "breast+cancer+wisconsin+diagnostic             23.183  \n",
      "car_evaluation                                   1.91  \n",
      "mushroom                                       41.419  \n",
      "nursery                                         7.006  \n",
      "seismic                                        12.132  \n",
      "spambase                                       53.891  \n",
      "wine                                            2.039  \n",
      "banknote+authentication                         1.509  \n",
      "chess+king+rook+vs+king+pawn                    5.374  \n",
      "monk1                                           0.245  \n",
      "monk2                                           0.987  \n",
      "monk3                                           0.824  \n"
     ]
    }
   ],
   "source": [
    "#refac_RollOCT\n",
    "\n",
    "for name in list_names:\n",
    "    sum_times = 0\n",
    "    for i in range(10): #folds\n",
    "        with open(f'../results/{name}_refactored_tree_pulp/fold{i+1}/fold{i+1}_time_{name}.txt', 'r') as file:\n",
    "            last_line = file.readlines()[-1]\n",
    "            match = re.search(r'\\d+\\.\\d+', last_line)  # Finds the first floating-point number\n",
    "            if match:\n",
    "                seconds = float(match.group())\n",
    "                sum_times += seconds\n",
    "    mean = sum_times/10\n",
    "    df.at[name, 'refac_rollOCT_time'] = round(mean, 3)\n",
    "    #minutes= round(mean/60, 2)\n",
    "    #df.at[name, 'orig_rollOCT_time'] = minutes\n",
    "\n",
    "print(df)"
   ]
  },
  {
   "cell_type": "code",
   "execution_count": null,
   "id": "914349e2",
   "metadata": {},
   "outputs": [
    {
     "name": "stdout",
     "output_type": "stream",
     "text": [
      "                                   sklearn_time orig_rollOCT_time  \\\n",
      "adult                                     0.144          1427.873   \n",
      "breast+cancer+wisconsin+diagnostic        0.006            23.927   \n",
      "car_evaluation                            0.005             7.062   \n",
      "mushroom                                  0.018            63.858   \n",
      "nursery                                   0.013            49.953   \n",
      "seismic                                   0.007            22.106   \n",
      "spambase                                   0.01             72.53   \n",
      "wine                                      0.004              2.58   \n",
      "banknote+authentication                   0.004             5.965   \n",
      "chess+king+rook+vs+king+pawn              0.006            15.803   \n",
      "monk1                                     0.005             1.744   \n",
      "monk2                                     0.004             2.901   \n",
      "monk3                                     0.004              2.35   \n",
      "\n",
      "                                   refac_rollOCT_time  speedup_factor  \n",
      "adult                                        1314.671           1.086  \n",
      "breast+cancer+wisconsin+diagnostic             23.183           1.032  \n",
      "car_evaluation                                   1.91           3.697  \n",
      "mushroom                                       41.419           1.542  \n",
      "nursery                                         7.006           7.130  \n",
      "seismic                                        12.132           1.822  \n",
      "spambase                                       53.891           1.346  \n",
      "wine                                            2.039           1.265  \n",
      "banknote+authentication                         1.509           3.953  \n",
      "chess+king+rook+vs+king+pawn                    5.374           2.941  \n",
      "monk1                                           0.245           7.118  \n",
      "monk2                                           0.987           2.939  \n",
      "monk3                                           0.824           2.852  \n"
     ]
    }
   ],
   "source": [
    "#df['speedup_factor'] = df['old_time'] / df['new_time']\n",
    "\n",
    "df['speedup_factor'] = df['orig_rollOCT_time'] / df['refac_rollOCT_time']\n",
    "df['speedup_factor'] = df['speedup_factor'].astype(float)\n",
    "df['speedup_factor'] = df['speedup_factor'].round(3)\n",
    "\n",
    "print(df)"
   ]
  },
  {
   "cell_type": "code",
   "execution_count": null,
   "id": "79dd5096",
   "metadata": {},
   "outputs": [],
   "source": [
    "df.to_csv('data_easy_times.txt', sep='&', index=True)"
   ]
  }
 ],
 "metadata": {
  "kernelspec": {
   "display_name": ".venv (3.12.3)",
   "language": "python",
   "name": "python3"
  },
  "language_info": {
   "codemirror_mode": {
    "name": "ipython",
    "version": 3
   },
   "file_extension": ".py",
   "mimetype": "text/x-python",
   "name": "python",
   "nbconvert_exporter": "python",
   "pygments_lexer": "ipython3",
   "version": "3.12.3"
  }
 },
 "nbformat": 4,
 "nbformat_minor": 5
}
