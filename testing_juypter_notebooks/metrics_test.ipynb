{
 "cells": [
  {
   "cell_type": "code",
   "execution_count": 44,
   "id": "9b9a85b4",
   "metadata": {},
   "outputs": [],
   "source": [
    "import pandas as pd\n",
    "import time\n",
    "import sys\n",
    "from pathlib import Path\n",
    "\n",
    "# Go up one directory to get to master/\n",
    "project_root = str(Path.cwd().parent)\n",
    "sys.path.append(project_root)\n",
    "\n"
   ]
  },
  {
   "cell_type": "code",
   "execution_count": 45,
   "id": "549ba1a7",
   "metadata": {},
   "outputs": [],
   "source": [
    "depth_result = 8\n",
    "name_dataset = \"adult\""
   ]
  },
  {
   "cell_type": "markdown",
   "id": "97a25307",
   "metadata": {},
   "source": [
    "Achtung: Man muss noch in den Ergebnissen zuordnen was in den ursprungsdatensatz (das binarized wurde) als positive und was als negative gesehen wird. Also wie das label jetzt heißt dem ursprünglichen label zuordnen"
   ]
  },
  {
   "cell_type": "code",
   "execution_count": null,
   "id": "651eaef1",
   "metadata": {},
   "outputs": [],
   "source": []
  },
  {
   "cell_type": "code",
   "execution_count": 46,
   "id": "125b78a9",
   "metadata": {},
   "outputs": [],
   "source": [
    "\n",
    "# remember to modify path\n",
    "def get_solution_pulp(dataset: str, depth: int) -> pd.DataFrame:\n",
    "    solution = pd.read_csv(f\"../results/{dataset}/output_depth_{depth}_classification_test_pulp.csv\")\n",
    "    target_labels_col = solution['y']\n",
    "    prediction_col = solution['prediction']\n",
    "    return solution, target_labels_col, prediction_col"
   ]
  },
  {
   "cell_type": "code",
   "execution_count": 47,
   "id": "e8d8ce74",
   "metadata": {},
   "outputs": [],
   "source": [
    "solution, target_labels_col, prediction_col  = get_solution_pulp(dataset = name_dataset, depth=depth_result)"
   ]
  },
  {
   "cell_type": "markdown",
   "id": "55b3d4ba",
   "metadata": {},
   "source": [
    "damit das hier immer funktioniert, muss das mapping vom binarizer auf die Zahlen immer gleich sein"
   ]
  },
  {
   "cell_type": "code",
   "execution_count": 48,
   "id": "0933562c",
   "metadata": {},
   "outputs": [
    {
     "name": "stdout",
     "output_type": "stream",
     "text": [
      "{1: '<=50K', 2: '>50K'}\n"
     ]
    }
   ],
   "source": [
    "# specifics can of course vary (maybe use list or dict later)\n",
    "\n",
    "origin_dataset_test = pd.read_csv(f\"../datasets/{name_dataset}/adult.test\", sep=',', skipinitialspace=True, header=None) #16281 rows\n",
    "# Remove dots from the 'target' column\n",
    "origin_target_col = origin_dataset_test[14].astype(str).str.replace('.', '', regex=False)\n",
    "#print(origin_target_col)\n",
    "\n",
    "df = pd.concat([origin_target_col, target_labels_col], axis=1)\n",
    "\n",
    "mapping = df.drop_duplicates().set_index('y')[14].to_dict() #this should fail if columns and the binarization dont consistently match\n",
    "print(mapping)\n",
    "\n",
    "#Convention for now: >50K is positive, <=50K is negative"
   ]
  },
  {
   "cell_type": "code",
   "execution_count": 49,
   "id": "35bdc692",
   "metadata": {},
   "outputs": [
    {
     "name": "stdout",
     "output_type": "stream",
     "text": [
      "0        1\n",
      "1        1\n",
      "2        2\n",
      "3        2\n",
      "4        1\n",
      "        ..\n",
      "16276    1\n",
      "16277    1\n",
      "16278    1\n",
      "16279    1\n",
      "16280    2\n",
      "Name: y, Length: 16281, dtype: int64\n",
      "0        1\n",
      "1        1\n",
      "2        1\n",
      "3        2\n",
      "4        1\n",
      "        ..\n",
      "16276    1\n",
      "16277    1\n",
      "16278    2\n",
      "16279    1\n",
      "16280    2\n",
      "Name: prediction, Length: 16281, dtype: int64\n"
     ]
    }
   ],
   "source": [
    "print(target_labels_col)\n",
    "print(prediction_col)"
   ]
  },
  {
   "cell_type": "code",
   "execution_count": null,
   "id": "c25d2eb4",
   "metadata": {},
   "outputs": [
    {
     "name": "stdout",
     "output_type": "stream",
     "text": [
      "16281\n",
      "16281\n"
     ]
    }
   ],
   "source": [
    "def acc_sens_spec_prec(solution, pos_represent, neg_represent): #16281\n",
    "    tp = len(solution[(solution['y'] == pos_represent) & (solution['prediction'] == pos_represent)])\n",
    "    tn = len(solution[(solution['y'] == neg_represent) & (solution['prediction'] == neg_represent)])\n",
    "    fp = len(solution[(solution['y'] == neg_represent) & (solution['prediction'] == pos_represent)])\n",
    "    fn = len(solution[(solution['y'] == pos_represent) & (solution['prediction'] == neg_represent)])\n",
    "    number_datapoints = tp+tn+fp+fn\n",
    "    if number_datapoints != len(solution):\n",
    "        print('error in calculation of acc')\n",
    "    sensitivity = tp/(tp+fn) #also called recall, True Positive Rate\n",
    "    specificity = tn/(tn+fp)\n",
    "    precision = tp/(tp+fp)\n",
    "    accuracy = (tp+tn)/number_datapoints\n",
    "    return accuracy, sensitivity, specificity,precision\n",
    "\n",
    "\n",
    "\n",
    "\n",
    "acc, sens, spec, prec = acc_sens_spec_prec(solution=solution, pos_represent=2, neg_represent=1)\n",
    "print(acc_sens_spec_prec(solution=solution, pos_represent=2, neg_represent=1))"
   ]
  }
 ],
 "metadata": {
  "kernelspec": {
   "display_name": ".venv",
   "language": "python",
   "name": "python3"
  },
  "language_info": {
   "codemirror_mode": {
    "name": "ipython",
    "version": 3
   },
   "file_extension": ".py",
   "mimetype": "text/x-python",
   "name": "python",
   "nbconvert_exporter": "python",
   "pygments_lexer": "ipython3",
   "version": "3.12.3"
  }
 },
 "nbformat": 4,
 "nbformat_minor": 5
}
