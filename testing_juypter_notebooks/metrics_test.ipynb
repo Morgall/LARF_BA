{
 "cells": [
  {
   "cell_type": "code",
   "execution_count": 48,
   "id": "9b9a85b4",
   "metadata": {},
   "outputs": [],
   "source": [
    "import pandas as pd\n",
    "import time\n",
    "import sys\n",
    "from pathlib import Path\n",
    "\n",
    "# Go up one directory to get to master/\n",
    "project_root = str(Path.cwd().parent)\n",
    "sys.path.append(project_root)\n",
    "\n"
   ]
  },
  {
   "cell_type": "markdown",
   "id": "97a25307",
   "metadata": {},
   "source": [
    "Achtung: Man muss noch in den Ergebnissen zuordnen was in den ursprungsdatensatz (das binarized wurde) als positive und was als negative gesehen wird. Also wie das label jetzt heißt dem ursprünglichen label zuordnen"
   ]
  },
  {
   "cell_type": "code",
   "execution_count": 49,
   "id": "125b78a9",
   "metadata": {},
   "outputs": [],
   "source": [
    "\n",
    "# remember to modify path\n",
    "def get_solution_pulp(dataset: str, depth: int) -> pd.DataFrame:\n",
    "    solution = pd.read_csv(f\"../results/{dataset}/output_depth_{depth}_classification_test_pulp.csv\")\n",
    "    target_labels_col = solution['y']\n",
    "    prediction_col = solution['prediction']\n",
    "    return target_labels_col, prediction_col"
   ]
  },
  {
   "cell_type": "code",
   "execution_count": 50,
   "id": "f54b7b00",
   "metadata": {},
   "outputs": [],
   "source": [
    "def acc(target_labels_col: pd.DataFrame, prediction_col: pd.DataFrame) -> float:\n",
    "    amount_correct = (prediction_col == target_labels_col).sum()\n",
    "    amount_false = (prediction_col != target_labels_col).sum()\n",
    "    print(amount_correct)\n",
    "    print(amount_false)\n",
    "    print(amount_correct+amount_false)"
   ]
  },
  {
   "cell_type": "code",
   "execution_count": 51,
   "id": "e8d8ce74",
   "metadata": {},
   "outputs": [
    {
     "name": "stdout",
     "output_type": "stream",
     "text": [
      "0        1\n",
      "1        1\n",
      "2        2\n",
      "3        2\n",
      "4        1\n",
      "        ..\n",
      "16276    1\n",
      "16277    1\n",
      "16278    1\n",
      "16279    1\n",
      "16280    2\n",
      "Name: y, Length: 16281, dtype: int64\n",
      "0        1\n",
      "1        1\n",
      "2        1\n",
      "3        2\n",
      "4        1\n",
      "        ..\n",
      "16276    1\n",
      "16277    1\n",
      "16278    2\n",
      "16279    1\n",
      "16280    2\n",
      "Name: prediction, Length: 16281, dtype: int64\n"
     ]
    }
   ],
   "source": [
    "depth_result = 8\n",
    "dataset = \"adult\"\n",
    "\n",
    "target_labels_col, prediction_col  = get_solution_pulp(dataset = dataset, depth=depth_result)\n",
    "\n",
    "print(target_labels_col)\n",
    "print(prediction_col)\n",
    "\n",
    "\n"
   ]
  },
  {
   "cell_type": "code",
   "execution_count": 52,
   "id": "c25d2eb4",
   "metadata": {},
   "outputs": [
    {
     "name": "stdout",
     "output_type": "stream",
     "text": [
      "13532\n",
      "2749\n",
      "16281\n"
     ]
    }
   ],
   "source": [
    "acc = acc(target_labels_col, prediction_col)\n",
    "\n",
    "#acc = len(prediction_col == target_labels_col) / len(target_labels_col)\n",
    "#print(acc)"
   ]
  }
 ],
 "metadata": {
  "kernelspec": {
   "display_name": ".venv",
   "language": "python",
   "name": "python3"
  },
  "language_info": {
   "codemirror_mode": {
    "name": "ipython",
    "version": 3
   },
   "file_extension": ".py",
   "mimetype": "text/x-python",
   "name": "python",
   "nbconvert_exporter": "python",
   "pygments_lexer": "ipython3",
   "version": "3.12.3"
  }
 },
 "nbformat": 4,
 "nbformat_minor": 5
}
