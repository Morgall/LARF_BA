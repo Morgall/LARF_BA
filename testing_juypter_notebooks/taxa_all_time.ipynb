{
 "cells": [
  {
   "cell_type": "code",
   "execution_count": 16,
   "id": "79c4a8ba",
   "metadata": {},
   "outputs": [],
   "source": [
    "import pandas as pd\n",
    "import re"
   ]
  },
  {
   "cell_type": "code",
   "execution_count": 17,
   "id": "d59fe180",
   "metadata": {},
   "outputs": [
    {
     "name": "stdout",
     "output_type": "stream",
     "text": [
      "129.81903181910513\n",
      "0.3320356448491414\n"
     ]
    }
   ],
   "source": [
    "dir_path = '../microbiome_data/taxa_all_logo/refactored_random_forest/n500_d5_sqrt'\n",
    "\n",
    "cohort_list = ['Austria1', 'Brazil1', 'Canada1', 'China1', 'China2', 'China3', 'China4', 'China5', 'France1', 'Germany1', 'Germany2', 'India1', 'India2', 'Italy1', 'Japan1', 'USA1', 'USA2']\n",
    "\n",
    "alias_dict = {\n",
    "    'Austria1' : 'Austria1',\n",
    "    'Brazil1' : 'Brazil1',\n",
    "    'Canada1' : 'Canada1',\n",
    "    'China1' : 'China1',\n",
    "    'China2' : 'China2',\n",
    "    'China3' : 'China3',\n",
    "    'China4' : 'China4',\n",
    "    'China5' : 'China5',\n",
    "    'France1' : 'France1',\n",
    "    'Germany1' : 'Germany1',\n",
    "    'Germany2' : 'Germany2',\n",
    "    'India1' : 'India1',\n",
    "    'India2' : 'India2',\n",
    "    'Italy1' : 'Italy1',\n",
    "    'Japan1' : 'Japan1',\n",
    "    'USA1' : 'USA1',\n",
    "    'USA2' : 'USA2'\n",
    "}\n",
    "\n",
    "overall_average_time = 0\n",
    "\n",
    "for cohort in cohort_list:\n",
    "    sum = 0\n",
    "    for i in range(10):\n",
    "        with open(f'{dir_path}/test_[\\'{cohort}\\']/time_run{i+1}.txt', 'r') as file:\n",
    "            last_line = file.readlines()[-1]\n",
    "            match = re.search(r'\\d+\\.\\d+', last_line)  # Finds the first floating-point number\n",
    "            if match:\n",
    "                seconds = float(match.group())\n",
    "                sum += seconds\n",
    "    overall_average_time += sum/10\n",
    "\n",
    "print(overall_average_time/60)\n",
    "\n",
    "dir_path = '../microbiome_data/taxa_all_logo/sklearn_random_forest/n500_d5_sqrt'\n",
    "\n",
    "overall_average_time = 0\n",
    "\n",
    "for cohort in cohort_list:\n",
    "    sum = 0\n",
    "    for i in range(10):\n",
    "        with open(f'{dir_path}/test_[\\'{cohort}\\']/time_run{i+1}.txt', 'r') as file:\n",
    "            last_line = file.readlines()[-1]\n",
    "            match = re.search(r'\\d+\\.\\d+', last_line)  # Finds the first floating-point number\n",
    "            if match:\n",
    "                seconds = float(match.group())\n",
    "                sum += seconds\n",
    "    overall_average_time += sum/10\n",
    "\n",
    "print(overall_average_time/60)\n",
    "            "
   ]
  },
  {
   "cell_type": "code",
   "execution_count": 18,
   "id": "f73ef014",
   "metadata": {},
   "outputs": [
    {
     "name": "stdout",
     "output_type": "stream",
     "text": [
      "196.14294639348984\n",
      "0.43512425263722737\n"
     ]
    }
   ],
   "source": [
    "dir_path = '../microbiome_data/taxa_all_logo/refactored_random_forest/n500_d5_s0.025_f98'\n",
    "\n",
    "overall_average_time = 0\n",
    "\n",
    "for cohort in cohort_list:\n",
    "    sum = 0\n",
    "    for i in range(5):\n",
    "        with open(f'{dir_path}/test_[\\'{cohort}\\']/time_run{i+1}.txt', 'r') as file:\n",
    "            last_line = file.readlines()[-1]\n",
    "            match = re.search(r'\\d+\\.\\d+', last_line)  # Finds the first floating-point number\n",
    "            if match:\n",
    "                seconds = float(match.group())\n",
    "                sum += seconds\n",
    "    overall_average_time += sum/5\n",
    "\n",
    "print(overall_average_time/60)\n",
    "\n",
    "dir_path = '../microbiome_data/taxa_all_logo/sklearn_random_forest/n500_d5_s0.025_f98'\n",
    "\n",
    "overall_average_time = 0\n",
    "\n",
    "for cohort in cohort_list:\n",
    "    sum = 0\n",
    "    for i in range(5):\n",
    "        with open(f'{dir_path}/test_[\\'{cohort}\\']/time_run{i+1}.txt', 'r') as file:\n",
    "            last_line = file.readlines()[-1]\n",
    "            match = re.search(r'\\d+\\.\\d+', last_line)  # Finds the first floating-point number\n",
    "            if match:\n",
    "                seconds = float(match.group())\n",
    "                sum += seconds\n",
    "    overall_average_time += sum/5\n",
    "\n",
    "print(overall_average_time/60)"
   ]
  },
  {
   "cell_type": "code",
   "execution_count": 19,
   "id": "b49b5af6",
   "metadata": {},
   "outputs": [
    {
     "name": "stdout",
     "output_type": "stream",
     "text": [
      "340.77532091220223\n",
      "0.4863649559020996\n"
     ]
    }
   ],
   "source": [
    "dir_path = '../microbiome_data/taxa_all_logo/refactored_random_forest/n500_d5_s0.03_f117'\n",
    "\n",
    "overall_average_time = 0\n",
    "\n",
    "for cohort in cohort_list:\n",
    "    sum = 0\n",
    "    for i in range(10):\n",
    "        with open(f'{dir_path}/test_[\\'{cohort}\\']/time_run{i+1}.txt', 'r') as file:\n",
    "            last_line = file.readlines()[-1]\n",
    "            match = re.search(r'\\d+\\.\\d+', last_line)  # Finds the first floating-point number\n",
    "            if match:\n",
    "                seconds = float(match.group())\n",
    "                sum += seconds\n",
    "    overall_average_time += sum/10\n",
    "\n",
    "print(overall_average_time/60)\n",
    "\n",
    "dir_path = '../microbiome_data/taxa_all_logo/sklearn_random_forest/n500_d5_s0.03_f117'\n",
    "\n",
    "overall_average_time = 0\n",
    "\n",
    "for cohort in cohort_list:\n",
    "    sum = 0\n",
    "    for i in range(10):\n",
    "        with open(f'{dir_path}/test_[\\'{cohort}\\']/time_run{i+1}.txt', 'r') as file:\n",
    "            last_line = file.readlines()[-1]\n",
    "            match = re.search(r'\\d+\\.\\d+', last_line)  # Finds the first floating-point number\n",
    "            if match:\n",
    "                seconds = float(match.group())\n",
    "                sum += seconds\n",
    "    overall_average_time += sum/10\n",
    "\n",
    "print(overall_average_time/60)"
   ]
  },
  {
   "cell_type": "code",
   "execution_count": 20,
   "id": "afb9d49d",
   "metadata": {},
   "outputs": [
    {
     "name": "stdout",
     "output_type": "stream",
     "text": [
      "561.545494038264\n",
      "0.5364700611432394\n"
     ]
    }
   ],
   "source": [
    "dir_path = '../microbiome_data/taxa_all_logo/refactored_random_forest/n500_d5_s0.035_f137'\n",
    "\n",
    "overall_average_time = 0\n",
    "\n",
    "for cohort in cohort_list:\n",
    "    sum = 0\n",
    "    for i in range(10):\n",
    "        with open(f'{dir_path}/test_[\\'{cohort}\\']/time_run{i+1}.txt', 'r') as file:\n",
    "            last_line = file.readlines()[-1]\n",
    "            match = re.search(r'\\d+\\.\\d+', last_line)  # Finds the first floating-point number\n",
    "            if match:\n",
    "                seconds = float(match.group())\n",
    "                sum += seconds\n",
    "    overall_average_time += sum/10\n",
    "\n",
    "print(overall_average_time/60)\n",
    "\n",
    "dir_path = '../microbiome_data/taxa_all_logo/sklearn_random_forest/n500_d5_s0.035_f137'\n",
    "\n",
    "overall_average_time = 0\n",
    "\n",
    "for cohort in cohort_list:\n",
    "    sum = 0\n",
    "    for i in range(10):\n",
    "        with open(f'{dir_path}/test_[\\'{cohort}\\']/time_run{i+1}.txt', 'r') as file:\n",
    "            last_line = file.readlines()[-1]\n",
    "            match = re.search(r'\\d+\\.\\d+', last_line)  # Finds the first floating-point number\n",
    "            if match:\n",
    "                seconds = float(match.group())\n",
    "                sum += seconds\n",
    "    overall_average_time += sum/10\n",
    "\n",
    "print(overall_average_time/60)"
   ]
  },
  {
   "cell_type": "code",
   "execution_count": 12,
   "id": "6023ec92",
   "metadata": {},
   "outputs": [
    {
     "name": "stdout",
     "output_type": "stream",
     "text": [
      "              sklearn_RF  lookahead_RF\n",
      "63 features         0.33        129.82\n",
      "98 features         0.44        196.14\n",
      "117 features        0.49        340.78\n",
      "137 features        0.54        561.55\n"
     ]
    }
   ],
   "source": [
    "import pandas as pd\n",
    "\n",
    "# Define the data as a dictionary with two columns\n",
    "data = {\n",
    "    'sklearn_RF': [0.33, 0.44, 0.49, 0.54],\n",
    "    'lookahead_RF': [129.82, 196.14, 340.78, 561.55]\n",
    "}\n",
    "\n",
    "# Define the row labels\n",
    "row_labels = ['63 features', '98 features', '117 features', '137 features']\n",
    "\n",
    "# Create the DataFrame with the data and row labels\n",
    "df = pd.DataFrame(data, index=row_labels)\n",
    "\n",
    "print(df)"
   ]
  },
  {
   "cell_type": "code",
   "execution_count": 13,
   "id": "eb04cb31",
   "metadata": {},
   "outputs": [],
   "source": [
    "df_2 = df.copy()\n",
    "\n",
    "#df_2 = df.drop(['speedup_factor'], axis=1)\n",
    "\n",
    "# Reset index to turn row labels (datasets) into a column\n",
    "df_2 = df_2.reset_index().rename(columns={'index': 'subset_size'})\n",
    "\n",
    "\n",
    "# Melt wide-format df to long-format for seaborn\n",
    "df_long = df_2.melt(id_vars='subset_size', var_name='method', value_name='runtime')\n",
    "\n",
    "#df_long['dataset'] = df_long['dataset'].map(alias_dict)"
   ]
  },
  {
   "cell_type": "code",
   "execution_count": null,
   "id": "eb85fe40",
   "metadata": {},
   "outputs": [
    {
     "data": {
      "image/png": "[encoded data removed]",
      "text/plain": [
       "<Figure size 686.75x600 with 1 Axes>"
      ]
     },
     "metadata": {},
     "output_type": "display_data"
    }
   ],
   "source": [
    "import seaborn as sns\n",
    "import matplotlib.pyplot as plt\n",
    "import os\n",
    "\n",
    "g = sns.catplot(\n",
    "    data=df_long,\n",
    "    y='subset_size',\n",
    "    x='runtime',\n",
    "    hue='method',\n",
    "    kind='bar',\n",
    "    height=6,\n",
    "    aspect=0.9,\n",
    "    width=0.5,\n",
    "    palette='colorblind'\n",
    ")\n",
    "#g.set(xscale='log')\n",
    "g._legend.set_title('')  # remove legend title\n",
    "plt.ylabel('Feature subset size')\n",
    "#plt.xlabel('Runtime [min] (log scale)')\n",
    "plt.xlabel('Runtime [min]')\n",
    "plt.title('Runtime Comparison for different feature subset sizes')\n",
    "plt.savefig(os.path.join('../microbiome_data/taxa_all_logo', f'times_forest_subset_sizes.svg'), format='svg', bbox_inches='tight')\n",
    "\n",
    "plt.show()"
   ]
  }
 ],
 "metadata": {
  "kernelspec": {
   "display_name": ".venv (3.12.3)",
   "language": "python",
   "name": "python3"
  },
  "language_info": {
   "codemirror_mode": {
    "name": "ipython",
    "version": 3
   },
   "file_extension": ".py",
   "mimetype": "text/x-python",
   "name": "python",
   "nbconvert_exporter": "python",
   "pygments_lexer": "ipython3",
   "version": "3.12.3"
  }
 },
 "nbformat": 4,
 "nbformat_minor": 5
}
