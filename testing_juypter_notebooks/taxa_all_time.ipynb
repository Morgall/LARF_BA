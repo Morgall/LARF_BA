{
 "cells": [
  {
   "cell_type": "code",
   "execution_count": 11,
   "id": "79c4a8ba",
   "metadata": {},
   "outputs": [],
   "source": [
    "import pandas as pd\n",
    "import re"
   ]
  },
  {
   "cell_type": "code",
   "execution_count": null,
   "id": "d59fe180",
   "metadata": {},
   "outputs": [
    {
     "name": "stdout",
     "output_type": "stream",
     "text": [
      "7789.141909146308\n",
      "19.922138690948483\n"
     ]
    }
   ],
   "source": [
    "dir_path = '../microbiome_data/taxa_all_logo/refactored_random_forest/n500_d5_sqrt'\n",
    "\n",
    "cohort_list = ['Austria1', 'Brazil1', 'Canada1', 'China1', 'China2', 'China3', 'China4', 'China5', 'France1', 'Germany1', 'Germany2', 'India1', 'India2', 'Italy1', 'Japan1', 'USA1', 'USA2']\n",
    "\n",
    "alias_dict = {\n",
    "    'Austria1' : 'Austria1',\n",
    "    'Brazil1' : 'Brazil1',\n",
    "    'Canada1' : 'Canada1',\n",
    "    'China1' : 'China1',\n",
    "    'China2' : 'China2',\n",
    "    'China3' : 'China3',\n",
    "    'China4' : 'China4',\n",
    "    'China5' : 'China5',\n",
    "    'France1' : 'France1',\n",
    "    'Germany1' : 'Germany1',\n",
    "    'Germany2' : 'Germany2',\n",
    "    'India1' : 'India1',\n",
    "    'India2' : 'India2',\n",
    "    'Italy1' : 'Italy1',\n",
    "    'Japan1' : 'Japan1',\n",
    "    'USA1' : 'USA1',\n",
    "    'USA2' : 'USA2'\n",
    "}\n",
    "\n",
    "overall_average_time = 0\n",
    "\n",
    "for cohort in cohort_list:\n",
    "    sum = 0\n",
    "    for i in range(10):\n",
    "        with open(f'{dir_path}/test_[\\'{cohort}\\']/time_run{i+1}.txt', 'r') as file:\n",
    "            last_line = file.readlines()[-1]\n",
    "            match = re.search(r'\\d+\\.\\d+', last_line)  # Finds the first floating-point number\n",
    "            if match:\n",
    "                seconds = float(match.group())\n",
    "                sum += seconds\n",
    "    overall_average_time += sum/10\n",
    "\n",
    "print(overall_average_time/60)\n",
    "\n",
    "dir_path = '../microbiome_data/taxa_all_logo/sklearn_random_forest/n500_d5_sqrt'\n",
    "\n",
    "overall_average_time = 0\n",
    "\n",
    "for cohort in cohort_list:\n",
    "    sum = 0\n",
    "    for i in range(10):\n",
    "        with open(f'{dir_path}/test_[\\'{cohort}\\']/time_run{i+1}.txt', 'r') as file:\n",
    "            last_line = file.readlines()[-1]\n",
    "            match = re.search(r'\\d+\\.\\d+', last_line)  # Finds the first floating-point number\n",
    "            if match:\n",
    "                seconds = float(match.group())\n",
    "                sum += seconds\n",
    "    overall_average_time += sum/10\n",
    "\n",
    "print(overall_average_time/60)\n",
    "            "
   ]
  },
  {
   "cell_type": "code",
   "execution_count": null,
   "id": "f73ef014",
   "metadata": {},
   "outputs": [
    {
     "name": "stdout",
     "output_type": "stream",
     "text": [
      "11768.576783609391\n",
      "26.10745515823364\n"
     ]
    }
   ],
   "source": [
    "dir_path = '../microbiome_data/taxa_all_logo/refactored_random_forest/n500_d5_s0.025_f98'\n",
    "\n",
    "overall_average_time = 0\n",
    "\n",
    "for cohort in cohort_list:\n",
    "    sum = 0\n",
    "    for i in range(5):\n",
    "        with open(f'{dir_path}/test_[\\'{cohort}\\']/time_run{i+1}.txt', 'r') as file:\n",
    "            last_line = file.readlines()[-1]\n",
    "            match = re.search(r'\\d+\\.\\d+', last_line)  # Finds the first floating-point number\n",
    "            if match:\n",
    "                seconds = float(match.group())\n",
    "                sum += seconds\n",
    "    overall_average_time += sum/5\n",
    "\n",
    "print(overall_average_time/60)\n",
    "\n",
    "dir_path = '../microbiome_data/taxa_all_logo/sklearn_random_forest/n500_d5_s0.025_f98'\n",
    "\n",
    "overall_average_time = 0\n",
    "\n",
    "for cohort in cohort_list:\n",
    "    sum = 0\n",
    "    for i in range(5):\n",
    "        with open(f'{dir_path}/test_[\\'{cohort}\\']/time_run{i+1}.txt', 'r') as file:\n",
    "            last_line = file.readlines()[-1]\n",
    "            match = re.search(r'\\d+\\.\\d+', last_line)  # Finds the first floating-point number\n",
    "            if match:\n",
    "                seconds = float(match.group())\n",
    "                sum += seconds\n",
    "    overall_average_time += sum/5\n",
    "\n",
    "print(overall_average_time/60)"
   ]
  },
  {
   "cell_type": "code",
   "execution_count": null,
   "id": "b49b5af6",
   "metadata": {},
   "outputs": [
    {
     "name": "stdout",
     "output_type": "stream",
     "text": [
      "20446.519254732135\n",
      "29.181897354125976\n"
     ]
    }
   ],
   "source": [
    "dir_path = '../microbiome_data/taxa_all_logo/refactored_random_forest/n500_d5_s0.03_f117'\n",
    "\n",
    "overall_average_time = 0\n",
    "\n",
    "for cohort in cohort_list:\n",
    "    sum = 0\n",
    "    for i in range(10):\n",
    "        with open(f'{dir_path}/test_[\\'{cohort}\\']/time_run{i+1}.txt', 'r') as file:\n",
    "            last_line = file.readlines()[-1]\n",
    "            match = re.search(r'\\d+\\.\\d+', last_line)  # Finds the first floating-point number\n",
    "            if match:\n",
    "                seconds = float(match.group())\n",
    "                sum += seconds\n",
    "    overall_average_time += sum/10\n",
    "\n",
    "print(overall_average_time/60)\n",
    "\n",
    "dir_path = '../microbiome_data/taxa_all_logo/sklearn_random_forest/n500_d5_s0.03_f117'\n",
    "\n",
    "overall_average_time = 0\n",
    "\n",
    "for cohort in cohort_list:\n",
    "    sum = 0\n",
    "    for i in range(10):\n",
    "        with open(f'{dir_path}/test_[\\'{cohort}\\']/time_run{i+1}.txt', 'r') as file:\n",
    "            last_line = file.readlines()[-1]\n",
    "            match = re.search(r'\\d+\\.\\d+', last_line)  # Finds the first floating-point number\n",
    "            if match:\n",
    "                seconds = float(match.group())\n",
    "                sum += seconds\n",
    "    overall_average_time += sum/10\n",
    "\n",
    "print(overall_average_time/60)"
   ]
  },
  {
   "cell_type": "code",
   "execution_count": null,
   "id": "afb9d49d",
   "metadata": {},
   "outputs": [
    {
     "name": "stdout",
     "output_type": "stream",
     "text": [
      "33692.72964229584\n",
      "32.18820366859436\n"
     ]
    }
   ],
   "source": [
    "dir_path = '../microbiome_data/taxa_all_logo/refactored_random_forest/n500_d5_s0.035_f137'\n",
    "\n",
    "overall_average_time = 0\n",
    "\n",
    "for cohort in cohort_list:\n",
    "    sum = 0\n",
    "    for i in range(10):\n",
    "        with open(f'{dir_path}/test_[\\'{cohort}\\']/time_run{i+1}.txt', 'r') as file:\n",
    "            last_line = file.readlines()[-1]\n",
    "            match = re.search(r'\\d+\\.\\d+', last_line)  # Finds the first floating-point number\n",
    "            if match:\n",
    "                seconds = float(match.group())\n",
    "                sum += seconds\n",
    "    overall_average_time += sum/10\n",
    "\n",
    "print(overall_average_time/60)\n",
    "\n",
    "dir_path = '../microbiome_data/taxa_all_logo/sklearn_random_forest/n500_d5_s0.035_f137'\n",
    "\n",
    "overall_average_time = 0\n",
    "\n",
    "for cohort in cohort_list:\n",
    "    sum = 0\n",
    "    for i in range(10):\n",
    "        with open(f'{dir_path}/test_[\\'{cohort}\\']/time_run{i+1}.txt', 'r') as file:\n",
    "            last_line = file.readlines()[-1]\n",
    "            match = re.search(r'\\d+\\.\\d+', last_line)  # Finds the first floating-point number\n",
    "            if match:\n",
    "                seconds = float(match.group())\n",
    "                sum += seconds\n",
    "    overall_average_time += sum/10\n",
    "\n",
    "print(overall_average_time/60)"
   ]
  }
 ],
 "metadata": {
  "kernelspec": {
   "display_name": ".venv (3.12.3)",
   "language": "python",
   "name": "python3"
  },
  "language_info": {
   "codemirror_mode": {
    "name": "ipython",
    "version": 3
   },
   "file_extension": ".py",
   "mimetype": "text/x-python",
   "name": "python",
   "nbconvert_exporter": "python",
   "pygments_lexer": "ipython3",
   "version": "3.12.3"
  }
 },
 "nbformat": 4,
 "nbformat_minor": 5
}
