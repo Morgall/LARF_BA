{
 "cells": [
  {
   "cell_type": "code",
   "execution_count": 34,
   "id": "d0ca80e3",
   "metadata": {},
   "outputs": [
    {
     "data": {
      "text/plain": [
       "'with open(\"dataset_forest_props_times_table.txt\", \"w\") as file:\\n    pass'"
      ]
     },
     "execution_count": 34,
     "metadata": {},
     "output_type": "execute_result"
    }
   ],
   "source": [
    "import os\n",
    "import pandas as pd\n",
    "import re\n",
    "\n",
    "\"\"\"with open(\"dataset_forest_props_times_table.txt\", \"w\") as file:\n",
    "    pass\"\"\""
   ]
  },
  {
   "cell_type": "code",
   "execution_count": null,
   "id": "155d8c17",
   "metadata": {},
   "outputs": [],
   "source": []
  },
  {
   "cell_type": "code",
   "execution_count": 35,
   "id": "01027afb",
   "metadata": {},
   "outputs": [
    {
     "name": "stdout",
     "output_type": "stream",
     "text": [
      "                                   sklearn_forest_time less_rf_time la_rf_time\n",
      "adult                                             None         None       None\n",
      "breast+cancer+wisconsin+diagnostic                None         None       None\n",
      "car_evaluation                                    None         None       None\n",
      "mushroom                                          None         None       None\n",
      "nursery                                           None         None       None\n",
      "seismic                                           None         None       None\n",
      "spambase                                          None         None       None\n",
      "wine                                              None         None       None\n",
      "banknote+authentication                           None         None       None\n",
      "chess+king+rook+vs+king+pawn                      None         None       None\n",
      "monk1                                             None         None       None\n",
      "monk2                                             None         None       None\n",
      "monk3                                             None         None       None\n"
     ]
    }
   ],
   "source": [
    "list_names = ['adult', 'breast+cancer+wisconsin+diagnostic', 'car_evaluation', 'mushroom', 'nursery', 'seismic', 'spambase', 'wine', 'banknote+authentication', 'chess+king+rook+vs+king+pawn', 'monk1', 'monk2', 'monk3']\n",
    "\n",
    "alias_dict = {\n",
    "    'adult' : 'adult',\n",
    "    'breast+cancer+wisconsin+diagnostic' : 'bcwd',\n",
    "    'car_evaluation' : 'car_eval',\n",
    "    'mushroom' : 'mushroom',\n",
    "    'nursery' : 'nursery',\n",
    "    'seismic' : 'seismic',\n",
    "    'spambase' : 'spambase',\n",
    "    'wine' : 'wine',\n",
    "    'banknote+authentication' : 'banknote',\n",
    "    'chess+king+rook+vs+king+pawn' : 'chess',\n",
    "    'monk1' : 'monk1',\n",
    "    'monk2' : 'monk2',\n",
    "    'monk3' : 'monk3'\n",
    "}\n",
    "\n",
    "clean_dict = {\n",
    "    'adult' : 'adult',\n",
    "    'breast+cancer+wisconsin+diagnostic' : 'breast cancer wisconsin diagnostic',\n",
    "    'car_evaluation' : 'car evalualtion',\n",
    "    'mushroom' : 'mushroom',\n",
    "    'nursery' : 'nursery',\n",
    "    'seismic' : 'seismic',\n",
    "    'spambase' : 'spambase',\n",
    "    'wine' : 'wine',\n",
    "    'banknote+authentication' : 'banknote',\n",
    "    'chess+king+rook+vs+king+pawn' : 'king rook vs. king pawn',\n",
    "    'monk1' : 'monk1',\n",
    "    'monk2' : 'monk2',\n",
    "    'monk3' : 'monk3'\n",
    "}\n",
    "\n",
    "\n",
    "\n",
    "# Create empty DataFrame with row indices as the names\n",
    "df = pd.DataFrame(index=list_names)\n",
    "\n",
    "# Add the three columns initialized with None\n",
    "#df['datapoints'] = None\n",
    "#df['bin_features'] = None\n",
    "df['sklearn_forest_time'] = None\n",
    "df['less_rf_time'] = None\n",
    "df['la_rf_time'] = None\n",
    "\n",
    "print(df)\n",
    "\n",
    "\n"
   ]
  },
  {
   "cell_type": "code",
   "execution_count": 48,
   "id": "b19a8ca2",
   "metadata": {},
   "outputs": [
    {
     "name": "stdout",
     "output_type": "stream",
     "text": [
      "                                   sklearn_forest_time less_rf_time la_rf_time\n",
      "adult                                             0.86    60691.949   3572.414\n",
      "breast+cancer+wisconsin+diagnostic               0.113      274.785     41.917\n",
      "car_evaluation                                   0.079      115.786     97.619\n",
      "mushroom                                          0.14     3187.749    437.011\n",
      "nursery                                          0.196      710.141    678.457\n",
      "seismic                                          0.106      286.509    163.744\n",
      "spambase                                         0.124     1231.761    275.751\n",
      "wine                                             0.066       52.505     46.969\n",
      "banknote+authentication                          0.075      122.261    306.352\n",
      "chess+king+rook+vs+king+pawn                     0.094      256.454    364.683\n",
      "monk1                                            0.069       61.725    235.481\n",
      "monk2                                            0.072       84.837    245.504\n",
      "monk3                                            0.066       67.105    233.113\n"
     ]
    }
   ],
   "source": [
    "# sklearn forest\n",
    "\n",
    "#results/scikit_learn_forest/{dataset_name}/n_est{n_estimators}_depth{depth_tree}_2\n",
    "\n",
    "for name in list_names:\n",
    "    sum = 0\n",
    "    for i in range(5): #folds\n",
    "        mean_run = 0\n",
    "        for run in range(5):\n",
    "            with open(f'../results/scikit_learn_forest/{name}/n_est50_depth8/fold{i+1}/fold{i+1}_time_{name}_run{run+1}.txt', 'r') as file:\n",
    "                last_line = file.readlines()[-1]\n",
    "                match = re.search(r'\\d+\\.\\d+', last_line)  # Finds the first floating-point number\n",
    "                if match:\n",
    "                    seconds = float(match.group())\n",
    "                    sum_times += seconds\n",
    "        sum_times = sum_times/5 # averaging run\n",
    "        sum += sum_times\n",
    "    sum = sum/5\n",
    "    df.at[name, 'sklearn_forest_time'] = round(sum, 3)\n",
    "    #minutes= round(mean/60, 2)\n",
    "    #df.at[name, 'orig_rollOCT_time'] = minutes\n",
    "\n",
    "\n",
    "print(df)\n",
    "            "
   ]
  },
  {
   "cell_type": "code",
   "execution_count": null,
   "id": "3ea95f1c",
   "metadata": {},
   "outputs": [
    {
     "name": "stdout",
     "output_type": "stream",
     "text": [
      "                                   sklearn_forest_time less_rf_time la_rf_time\n",
      "adult                                             6.45    60691.949       None\n",
      "breast+cancer+wisconsin+diagnostic               0.506      274.785       None\n",
      "car_evaluation                                   0.568      115.786       None\n",
      "mushroom                                         1.025     3187.749       None\n",
      "nursery                                          1.418      710.141       None\n",
      "seismic                                          0.722      286.509       None\n",
      "spambase                                         0.893     1231.761       None\n",
      "wine                                             0.451       52.505       None\n",
      "banknote+authentication                          0.542      122.261       None\n",
      "chess+king+rook+vs+king+pawn                     0.679      256.454       None\n",
      "monk1                                            0.483       61.725       None\n",
      "monk2                                            0.517       84.837       None\n",
      "monk3                                            0.469       67.105       None\n"
     ]
    }
   ],
   "source": [
    "#less rf\n",
    "# results/less_random_forest_{dataset_name}/n_est{number_of_estimators}_depth{depth_rolling_tree}\n",
    "\n",
    "for name in list_names:\n",
    "    sum_times = 0\n",
    "    for i in range(5): #folds\n",
    "        mean_run = 0\n",
    "        for run in range(5):\n",
    "            with open(f'../results/less_random_forest_{name}/n_est50_depth8/fold{i+1}/fold{i+1}_time_{name}_run{run+1}.txt', 'r') as file:\n",
    "                last_line = file.readlines()[-1]\n",
    "                match = re.search(r'\\d+\\.\\d+', last_line)  # Finds the first floating-point number\n",
    "                if match:\n",
    "                    seconds = float(match.group())\n",
    "                    sum_times += seconds\n",
    "        sum_times = sum_times/5 # averaging run\n",
    "        sum += sum_times\n",
    "    sum = sum/5\n",
    "    df.at[name, 'less_rf_time'] = round(sum, 3)\n",
    "    #minutes= round(mean/60, 2)\n",
    "    #df.at[name, 'orig_rollOCT_time'] = minutes\n",
    "\n",
    "\n",
    "print(df)"
   ]
  },
  {
   "cell_type": "code",
   "execution_count": null,
   "id": "a9a096c6",
   "metadata": {},
   "outputs": [
    {
     "name": "stdout",
     "output_type": "stream",
     "text": [
      "                                   sklearn_forest_time less_rf_time la_rf_time\n",
      "adult                                             6.45    60691.949   3572.414\n",
      "breast+cancer+wisconsin+diagnostic               0.506      274.785     41.917\n",
      "car_evaluation                                   0.568      115.786     97.619\n",
      "mushroom                                         1.025     3187.749    437.011\n",
      "nursery                                          1.418      710.141    678.457\n",
      "seismic                                          0.722      286.509    163.744\n",
      "spambase                                         0.893     1231.761    275.751\n",
      "wine                                             0.451       52.505     46.969\n",
      "banknote+authentication                          0.542      122.261    306.352\n",
      "chess+king+rook+vs+king+pawn                     0.679      256.454    364.683\n",
      "monk1                                            0.483       61.725    235.481\n",
      "monk2                                            0.517       84.837    245.504\n",
      "monk3                                            0.469       67.105    233.113\n"
     ]
    }
   ],
   "source": [
    "#la_forest\n",
    "\n",
    "# results/refactored_random_forest/{dataset_name}/n_est{number_of_estimators}_depth{depth_rolling_tree}\n",
    "\n",
    "\n",
    "for name in list_names:\n",
    "    sum_times = 0\n",
    "    for i in range(5): #folds\n",
    "        mean_run = 0\n",
    "        for run in range(5):\n",
    "            with open(f'../results/refactored_random_forest/{name}/n_est50_depth8/fold{i+1}/fold{i+1}_time_{name}_run{run+1}.txt', 'r') as file:\n",
    "                last_line = file.readlines()[-1]\n",
    "                match = re.search(r'\\d+\\.\\d+', last_line)  # Finds the first floating-point number\n",
    "                if match:\n",
    "                    seconds = float(match.group())\n",
    "                    sum_times += seconds\n",
    "        sum_times = sum_times/5 # averaging run\n",
    "        sum += sum_times\n",
    "    sum = sum/5\n",
    "    df.at[name, 'la_rf_time'] = round(sum, 3)\n",
    "    #minutes= round(mean/60, 2)\n",
    "    #df.at[name, 'orig_rollOCT_time'] = minutes\n",
    "\n",
    "print(df)"
   ]
  },
  {
   "cell_type": "code",
   "execution_count": 39,
   "id": "914349e2",
   "metadata": {},
   "outputs": [
    {
     "data": {
      "text/plain": [
       "\"#df['speedup_factor'] = df['old_time'] / df['new_time']\\n\\ndf['speedup_factor'] = df['orig_rollOCT_time'] / df['refac_rollOCT_time']\\ndf['speedup_factor'] = df['speedup_factor'].astype(float)\\ndf['speedup_factor'] = df['speedup_factor'].round(3)\\n\\nprint(df)\""
      ]
     },
     "execution_count": 39,
     "metadata": {},
     "output_type": "execute_result"
    }
   ],
   "source": [
    "\"\"\"#df['speedup_factor'] = df['old_time'] / df['new_time']\n",
    "\n",
    "df['speedup_factor'] = df['orig_rollOCT_time'] / df['refac_rollOCT_time']\n",
    "df['speedup_factor'] = df['speedup_factor'].astype(float)\n",
    "df['speedup_factor'] = df['speedup_factor'].round(3)\n",
    "\n",
    "print(df)\"\"\""
   ]
  },
  {
   "cell_type": "code",
   "execution_count": 41,
   "id": "7572eb4a",
   "metadata": {},
   "outputs": [
    {
     "name": "stdout",
     "output_type": "stream",
     "text": [
      "67143.56700000001\n"
     ]
    }
   ],
   "source": [
    "print(df['less_rf_time'].sum())"
   ]
  },
  {
   "cell_type": "code",
   "execution_count": 40,
   "id": "79dd5096",
   "metadata": {},
   "outputs": [],
   "source": [
    "df.to_csv('data_easy_forest_times.txt', sep='&', index=True)"
   ]
  }
 ],
 "metadata": {
  "kernelspec": {
   "display_name": ".venv (3.12.3)",
   "language": "python",
   "name": "python3"
  },
  "language_info": {
   "codemirror_mode": {
    "name": "ipython",
    "version": 3
   },
   "file_extension": ".py",
   "mimetype": "text/x-python",
   "name": "python",
   "nbconvert_exporter": "python",
   "pygments_lexer": "ipython3",
   "version": "3.12.3"
  }
 },
 "nbformat": 4,
 "nbformat_minor": 5
}
