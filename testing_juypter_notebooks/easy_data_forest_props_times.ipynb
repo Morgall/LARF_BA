{
 "cells": [
  {
   "cell_type": "code",
   "execution_count": 11,
   "id": "d0ca80e3",
   "metadata": {},
   "outputs": [
    {
     "data": {
      "text/plain": [
       "'with open(\"dataset_forest_props_times_table.txt\", \"w\") as file:\\n    pass'"
      ]
     },
     "execution_count": 11,
     "metadata": {},
     "output_type": "execute_result"
    }
   ],
   "source": [
    "import os\n",
    "import pandas as pd\n",
    "import re\n",
    "\n",
    "\"\"\"with open(\"dataset_forest_props_times_table.txt\", \"w\") as file:\n",
    "    pass\"\"\""
   ]
  },
  {
   "cell_type": "code",
   "execution_count": 12,
   "id": "01027afb",
   "metadata": {},
   "outputs": [
    {
     "name": "stdout",
     "output_type": "stream",
     "text": [
      "                                   sklearn_rf_time less_rf_time  \\\n",
      "adult                                         None         None   \n",
      "breast+cancer+wisconsin+diagnostic            None         None   \n",
      "car_evaluation                                None         None   \n",
      "mushroom                                      None         None   \n",
      "nursery                                       None         None   \n",
      "seismic                                       None         None   \n",
      "spambase                                      None         None   \n",
      "wine                                          None         None   \n",
      "banknote+authentication                       None         None   \n",
      "chess+king+rook+vs+king+pawn                  None         None   \n",
      "monk1                                         None         None   \n",
      "monk2                                         None         None   \n",
      "monk3                                         None         None   \n",
      "\n",
      "                                   lookahead_rf_time  \n",
      "adult                                           None  \n",
      "breast+cancer+wisconsin+diagnostic              None  \n",
      "car_evaluation                                  None  \n",
      "mushroom                                        None  \n",
      "nursery                                         None  \n",
      "seismic                                         None  \n",
      "spambase                                        None  \n",
      "wine                                            None  \n",
      "banknote+authentication                         None  \n",
      "chess+king+rook+vs+king+pawn                    None  \n",
      "monk1                                           None  \n",
      "monk2                                           None  \n",
      "monk3                                           None  \n"
     ]
    }
   ],
   "source": [
    "list_names = ['adult', 'breast+cancer+wisconsin+diagnostic', 'car_evaluation', 'mushroom', 'nursery', 'seismic', 'spambase', 'wine', 'banknote+authentication', 'chess+king+rook+vs+king+pawn', 'monk1', 'monk2', 'monk3']\n",
    "\n",
    "alias_dict = {\n",
    "    'adult' : 'adult',\n",
    "    'breast+cancer+wisconsin+diagnostic' : 'bcwd',\n",
    "    'car_evaluation' : 'car_eval',\n",
    "    'mushroom' : 'mushroom',\n",
    "    'nursery' : 'nursery',\n",
    "    'seismic' : 'seismic',\n",
    "    'spambase' : 'spambase',\n",
    "    'wine' : 'wine',\n",
    "    'banknote+authentication' : 'banknote',\n",
    "    'chess+king+rook+vs+king+pawn' : 'chess',\n",
    "    'monk1' : 'monk1',\n",
    "    'monk2' : 'monk2',\n",
    "    'monk3' : 'monk3'\n",
    "}\n",
    "\n",
    "clean_dict = {\n",
    "    'adult' : 'adult',\n",
    "    'breast+cancer+wisconsin+diagnostic' : 'breast cancer wisconsin diagnostic',\n",
    "    'car_evaluation' : 'car evalualtion',\n",
    "    'mushroom' : 'mushroom',\n",
    "    'nursery' : 'nursery',\n",
    "    'seismic' : 'seismic',\n",
    "    'spambase' : 'spambase',\n",
    "    'wine' : 'wine',\n",
    "    'banknote+authentication' : 'banknote',\n",
    "    'chess+king+rook+vs+king+pawn' : 'king rook vs. king pawn',\n",
    "    'monk1' : 'monk1',\n",
    "    'monk2' : 'monk2',\n",
    "    'monk3' : 'monk3'\n",
    "}\n",
    "\n",
    "\n",
    "\n",
    "# Create empty DataFrame with row indices as the names\n",
    "df = pd.DataFrame(index=list_names)\n",
    "\n",
    "# Add the three columns initialized with None\n",
    "#df['datapoints'] = None\n",
    "#df['bin_features'] = None\n",
    "df['sklearn_rf_time'] = None\n",
    "df['less_rf_time'] = None\n",
    "df['lookahead_rf_time'] = None\n",
    "\n",
    "print(df)\n",
    "\n",
    "\n"
   ]
  },
  {
   "cell_type": "code",
   "execution_count": 13,
   "id": "b19a8ca2",
   "metadata": {},
   "outputs": [
    {
     "name": "stdout",
     "output_type": "stream",
     "text": [
      "                                   sklearn_rf_time less_rf_time  \\\n",
      "adult                                        0.011         None   \n",
      "breast+cancer+wisconsin+diagnostic           0.001         None   \n",
      "car_evaluation                               0.001         None   \n",
      "mushroom                                     0.002         None   \n",
      "nursery                                      0.003         None   \n",
      "seismic                                      0.001         None   \n",
      "spambase                                     0.002         None   \n",
      "wine                                         0.001         None   \n",
      "banknote+authentication                      0.001         None   \n",
      "chess+king+rook+vs+king+pawn                 0.001         None   \n",
      "monk1                                        0.001         None   \n",
      "monk2                                        0.001         None   \n",
      "monk3                                        0.001         None   \n",
      "\n",
      "                                   lookahead_rf_time  \n",
      "adult                                           None  \n",
      "breast+cancer+wisconsin+diagnostic              None  \n",
      "car_evaluation                                  None  \n",
      "mushroom                                        None  \n",
      "nursery                                         None  \n",
      "seismic                                         None  \n",
      "spambase                                        None  \n",
      "wine                                            None  \n",
      "banknote+authentication                         None  \n",
      "chess+king+rook+vs+king+pawn                    None  \n",
      "monk1                                           None  \n",
      "monk2                                           None  \n",
      "monk3                                           None  \n"
     ]
    }
   ],
   "source": [
    "# sklearn forest\n",
    "\n",
    "#results/scikit_learn_forest/{dataset_name}/n_est{n_estimators}_depth{depth_tree}_2\n",
    "\n",
    "for name in list_names:\n",
    "    sum = 0\n",
    "    for i in range(5): #folds\n",
    "        sum_times = 0\n",
    "        for run in range(5):\n",
    "            with open(f'../results/scikit_learn_forest/{name}/n_est50_depth8_3/fold{i+1}/fold{i+1}_time_{name}_run{run+1}.txt', 'r') as file:\n",
    "                last_line = file.readlines()[-1]\n",
    "                match = re.search(r'\\d+\\.\\d+', last_line)  # Finds the first floating-point number\n",
    "                if match:\n",
    "                    seconds = float(match.group())\n",
    "                    #print(seconds)\n",
    "                    sum_times += seconds\n",
    "        sum_times = sum_times/5 # averaging run\n",
    "        sum += sum_times\n",
    "    sum = sum/5\n",
    "    df.at[name, 'sklearn_rf_time'] = round(sum/60, 3)\n",
    "    #minutes= round(mean/60, 2)\n",
    "    #df.at[name, 'orig_rollOCT_time'] = minutes\n",
    "\n",
    "\n",
    "print(df)\n",
    "            "
   ]
  },
  {
   "cell_type": "code",
   "execution_count": 14,
   "id": "3ea95f1c",
   "metadata": {},
   "outputs": [
    {
     "name": "stdout",
     "output_type": "stream",
     "text": [
      "                                   sklearn_rf_time less_rf_time  \\\n",
      "adult                                        0.011      113.236   \n",
      "breast+cancer+wisconsin+diagnostic           0.001        0.516   \n",
      "car_evaluation                               0.001        0.217   \n",
      "mushroom                                     0.002        5.965   \n",
      "nursery                                      0.003        1.328   \n",
      "seismic                                      0.001        0.535   \n",
      "spambase                                     0.002        2.298   \n",
      "wine                                         0.001        0.098   \n",
      "banknote+authentication                      0.001        0.228   \n",
      "chess+king+rook+vs+king+pawn                 0.001        0.479   \n",
      "monk1                                        0.001        0.115   \n",
      "monk2                                        0.001        0.158   \n",
      "monk3                                        0.001        0.125   \n",
      "\n",
      "                                   lookahead_rf_time  \n",
      "adult                                           None  \n",
      "breast+cancer+wisconsin+diagnostic              None  \n",
      "car_evaluation                                  None  \n",
      "mushroom                                        None  \n",
      "nursery                                         None  \n",
      "seismic                                         None  \n",
      "spambase                                        None  \n",
      "wine                                            None  \n",
      "banknote+authentication                         None  \n",
      "chess+king+rook+vs+king+pawn                    None  \n",
      "monk1                                           None  \n",
      "monk2                                           None  \n",
      "monk3                                           None  \n"
     ]
    }
   ],
   "source": [
    "#less rf\n",
    "# results/less_random_forest_{dataset_name}/n_est{number_of_estimators}_depth{depth_rolling_tree}\n",
    "\n",
    "for name in list_names:\n",
    "    sum = 0\n",
    "    for i in range(5): #folds\n",
    "        sum_times = 0\n",
    "        for run in range(5):\n",
    "            with open(f'../results/less_random_forest_{name}/n_est50_depth8/fold{i+1}/fold{i+1}_time_{name}_run{run+1}.txt', 'r') as file:\n",
    "                last_line = file.readlines()[-1]\n",
    "                match = re.search(r'\\d+\\.\\d+', last_line)  # Finds the first floating-point number\n",
    "                if match:\n",
    "                    seconds = float(match.group())\n",
    "                    #print(seconds)\n",
    "                    sum_times += seconds\n",
    "        sum_times = sum_times/5 # averaging run\n",
    "        sum += sum_times\n",
    "    sum = sum/5\n",
    "    df.at[name, 'less_rf_time'] = round(sum/60, 3)\n",
    "    #minutes= round(mean/60, 2)\n",
    "    #df.at[name, 'orig_rollOCT_time'] = minutes\n",
    "\n",
    "print(df)"
   ]
  },
  {
   "cell_type": "code",
   "execution_count": 15,
   "id": "a9a096c6",
   "metadata": {},
   "outputs": [
    {
     "name": "stdout",
     "output_type": "stream",
     "text": [
      "                                   sklearn_rf_time less_rf_time  \\\n",
      "adult                                        0.011      113.236   \n",
      "breast+cancer+wisconsin+diagnostic           0.001        0.516   \n",
      "car_evaluation                               0.001        0.217   \n",
      "mushroom                                     0.002        5.965   \n",
      "nursery                                      0.003        1.328   \n",
      "seismic                                      0.001        0.535   \n",
      "spambase                                     0.002        2.298   \n",
      "wine                                         0.001        0.098   \n",
      "banknote+authentication                      0.001        0.228   \n",
      "chess+king+rook+vs+king+pawn                 0.001        0.479   \n",
      "monk1                                        0.001        0.115   \n",
      "monk2                                        0.001        0.158   \n",
      "monk3                                        0.001        0.125   \n",
      "\n",
      "                                   lookahead_rf_time  \n",
      "adult                                          5.364  \n",
      "breast+cancer+wisconsin+diagnostic             0.068  \n",
      "car_evaluation                                 0.167  \n",
      "mushroom                                       0.692  \n",
      "nursery                                        1.149  \n",
      "seismic                                        0.249  \n",
      "spambase                                        0.43  \n",
      "wine                                           0.042  \n",
      "banknote+authentication                        0.274  \n",
      "chess+king+rook+vs+king+pawn                   0.438  \n",
      "monk1                                          0.221  \n",
      "monk2                                          0.234  \n",
      "monk3                                          0.218  \n"
     ]
    }
   ],
   "source": [
    "#la_forest\n",
    "\n",
    "# results/refactored_random_forest/{dataset_name}/n_est{number_of_estimators}_depth{depth_rolling_tree}\n",
    "\n",
    "\n",
    "for name in list_names:\n",
    "    sum = 0\n",
    "    for i in range(5): #folds\n",
    "        sum_times = 0\n",
    "        for run in range(5):\n",
    "            with open(f'../results/refactored_random_forest/{name}/n_est50_depth8_2/fold{i+1}/fold{i+1}_time_{name}_run{run+1}.txt', 'r') as file:\n",
    "                last_line = file.readlines()[-1]\n",
    "                match = re.search(r'\\d+\\.\\d+', last_line)  # Finds the first floating-point number\n",
    "                if match:\n",
    "                    seconds = float(match.group())\n",
    "                    #print(seconds)\n",
    "                    sum_times += seconds\n",
    "        sum_times = sum_times/5 # averaging run\n",
    "        sum += sum_times\n",
    "    sum = sum/5\n",
    "    df.at[name, 'lookahead_rf_time'] = round(sum/60, 3)\n",
    "    #minutes= round(mean/60, 2)\n",
    "    #df.at[name, 'orig_rollOCT_time'] = minutes\n",
    "\n",
    "print(df)"
   ]
  },
  {
   "cell_type": "code",
   "execution_count": 16,
   "id": "914349e2",
   "metadata": {},
   "outputs": [
    {
     "data": {
      "text/plain": [
       "\"#df['speedup_factor'] = df['old_time'] / df['new_time']\\n\\ndf['speedup_factor'] = df['orig_rollOCT_time'] / df['refac_rollOCT_time']\\ndf['speedup_factor'] = df['speedup_factor'].astype(float)\\ndf['speedup_factor'] = df['speedup_factor'].round(3)\\n\\nprint(df)\""
      ]
     },
     "execution_count": 16,
     "metadata": {},
     "output_type": "execute_result"
    }
   ],
   "source": [
    "\"\"\"#df['speedup_factor'] = df['old_time'] / df['new_time']\n",
    "\n",
    "df['speedup_factor'] = df['orig_rollOCT_time'] / df['refac_rollOCT_time']\n",
    "df['speedup_factor'] = df['speedup_factor'].astype(float)\n",
    "df['speedup_factor'] = df['speedup_factor'].round(3)\n",
    "\n",
    "print(df)\"\"\""
   ]
  },
  {
   "cell_type": "code",
   "execution_count": 17,
   "id": "7572eb4a",
   "metadata": {},
   "outputs": [
    {
     "name": "stdout",
     "output_type": "stream",
     "text": [
      "125.298\n"
     ]
    }
   ],
   "source": [
    "print(df['less_rf_time'].sum())"
   ]
  },
  {
   "cell_type": "code",
   "execution_count": 18,
   "id": "79dd5096",
   "metadata": {},
   "outputs": [],
   "source": [
    "#df.to_csv('data_easy_forest_times.txt', sep='&', index=True)"
   ]
  },
  {
   "cell_type": "code",
   "execution_count": 19,
   "id": "11209b08",
   "metadata": {},
   "outputs": [],
   "source": [
    "alias_dict = {\n",
    "    'adult' : 'adult',\n",
    "    'breast+cancer+wisconsin+diagnostic' : 'bcwd',\n",
    "    'car_evaluation' : 'car_eval',\n",
    "    'mushroom' : 'mushroom',\n",
    "    'nursery' : 'nursery',\n",
    "    'seismic' : 'seismic',\n",
    "    'spambase' : 'spambase',\n",
    "    'wine' : 'wine',\n",
    "    'banknote+authentication' : 'banknote',\n",
    "    'chess+king+rook+vs+king+pawn' : 'chess',\n",
    "    'monk1' : 'monk1',\n",
    "    'monk2' : 'monk2',\n",
    "    'monk3' : 'monk3'\n",
    "}"
   ]
  },
  {
   "cell_type": "code",
   "execution_count": 20,
   "id": "5b17e9db",
   "metadata": {},
   "outputs": [],
   "source": [
    "df_2 = df.copy()\n",
    "\n",
    "#df_2 = df.drop(['speedup_factor'], axis=1)\n",
    "\n",
    "# Reset index to turn row labels (datasets) into a column\n",
    "df_2 = df_2.reset_index().rename(columns={'index': 'dataset'})\n",
    "\n",
    "\n",
    "# Melt wide-format df to long-format for seaborn\n",
    "df_long = df_2.melt(id_vars='dataset', var_name='method', value_name='runtime')\n",
    "\n",
    "df_long['dataset'] = df_long['dataset'].map(alias_dict)"
   ]
  },
  {
   "cell_type": "code",
   "execution_count": null,
   "id": "e2ff0fcd",
   "metadata": {},
   "outputs": [
    {
     "data": {
      "image/png": "[encoded data removed]",
      "text/plain": [
       "<Figure size 658.25x600 with 1 Axes>"
      ]
     },
     "metadata": {},
     "output_type": "display_data"
    }
   ],
   "source": [
    "import seaborn as sns\n",
    "import matplotlib.pyplot as plt\n",
    "\n",
    "g = sns.catplot(\n",
    "    data=df_long,\n",
    "    y='dataset',\n",
    "    x='runtime',\n",
    "    hue='method',\n",
    "    kind='bar',\n",
    "    height=6,\n",
    "    aspect=0.8,\n",
    "    palette='colorblind'\n",
    ")\n",
    "g.set(xscale='log')\n",
    "g._legend.set_title('')  # remove legend title\n",
    "plt.ylabel('Dataset')\n",
    "plt.xlabel('Runtime [min] (log scale)')\n",
    "plt.title('Runtime Comparison per Dataset and Method')\n",
    "plt.savefig(os.path.join('../results', f'times_forest_log.svg'), format='svg', bbox_inches='tight')\n",
    "plt.show()"
   ]
  }
 ],
 "metadata": {
  "kernelspec": {
   "display_name": ".venv (3.12.3)",
   "language": "python",
   "name": "python3"
  },
  "language_info": {
   "codemirror_mode": {
    "name": "ipython",
    "version": 3
   },
   "file_extension": ".py",
   "mimetype": "text/x-python",
   "name": "python",
   "nbconvert_exporter": "python",
   "pygments_lexer": "ipython3",
   "version": "3.12.3"
  }
 },
 "nbformat": 4,
 "nbformat_minor": 5
}
