{
 "cells": [
  {
   "cell_type": "code",
   "execution_count": 1,
   "id": "d49af9cb",
   "metadata": {},
   "outputs": [],
   "source": [
    "from forest.forest_subset_features.class_forest import CustomEnsembleClassifier\n",
    "import pandas as pd\n",
    "import time\n",
    "import os"
   ]
  },
  {
   "cell_type": "code",
   "execution_count": 2,
   "id": "28578ed4",
   "metadata": {},
   "outputs": [],
   "source": [
    "from sklearn.model_selection import train_test_split\n",
    "\n",
    "#data_seismic = pd.read_csv(\"datasets/seismic/seismic_bin.csv\")\n",
    "data_test = pd.read_csv(\"datasets/example_datasets/stacked.csv\")\n",
    "\n",
    "data = data_test\n",
    "\n",
    "\n",
    "X = data.drop(columns=['y'])  # All columns except the target\n",
    "y = data['y']                 # Only the target column\n",
    "\n",
    "X_train, X_test, y_train, y_test = train_test_split(X, y, test_size=100, stratify=y, random_state=42)\n",
    "\n",
    "stacked_train = pd.concat([y_train, X_train], axis=1, ignore_index=False)\n",
    "stacked_test = pd.concat([y_test, X_test],axis=1, ignore_index=False)\n",
    "\n",
    "train_data = stacked_train\n",
    "test_data = stacked_test\n",
    "\n",
    "#feature_columns = train_data.columns[1:]\n",
    "\n",
    "feature_columns = X_train.columns\n",
    "#print(feature_columns)"
   ]
  },
  {
   "cell_type": "code",
   "execution_count": null,
   "id": "28f1a416",
   "metadata": {},
   "outputs": [],
   "source": [
    "tree_kwargs = dict(depth=8, criterion='gini', target_label='y', features=list(range(X_train.shape[1])))\n",
    "\n",
    "ensemble = CustomEnsembleClassifier(n_estimators=2, tree_kwargs=tree_kwargs, random_state=42, cores_to_use=6)"
   ]
  },
  {
   "cell_type": "code",
   "execution_count": 4,
   "id": "78cd21b2",
   "metadata": {},
   "outputs": [
    {
     "ename": "TypeError",
     "evalue": "'NoneType' object is not iterable",
     "output_type": "error",
     "traceback": [
      "\u001b[31m---------------------------------------------------------------------------\u001b[39m",
      "\u001b[31mRemoteTraceback\u001b[39m                           Traceback (most recent call last)",
      "\u001b[31mRemoteTraceback\u001b[39m: \n\"\"\"\nTraceback (most recent call last):\n  File \"/usr/lib/python3.12/multiprocessing/pool.py\", line 125, in worker\n    result = (True, func(*args, **kwds))\n                    ^^^^^^^^^^^^^^^^^^^\n  File \"/usr/lib/python3.12/multiprocessing/pool.py\", line 48, in mapstar\n    return list(map(*args))\n           ^^^^^^^^^^^^^^^^\n  File \"/home/drood/Obsidian/Files/Bachelorarbeit/rlrf_my_try/rolling_lookahead_dt_restructured/forest/forest_subset_features/class_forest.py\", line 33, in fit_single_tree\n    tree = CustomTreeWrapper(train_data=train_data, test_data=test_data, **tree_kwargs)\n           ^^^^^^^^^^^^^^^^^^^^^^^^^^^^^^^^^^^^^^^^^^^^^^^^^^^^^^^^^^^^^^^^^^^^^^^^^^^^\n  File \"/home/drood/Obsidian/Files/Bachelorarbeit/rlrf_my_try/rolling_lookahead_dt_restructured/forest/forest_subset_features/class_tree.py\", line 29, in __init__\n    self.construct()\n  File \"/home/drood/Obsidian/Files/Bachelorarbeit/rlrf_my_try/rolling_lookahead_dt_restructured/forest/forest_subset_features/class_tree.py\", line 32, in construct\n    train, test = preprocess_dataframes( #./rollo_oct/utils/helpers.py\n                  ^^^^^^^^^^^^^^^^^^^^^^^^^^^^^^^^^^^^^^^^^^^^^^^^^^^^\n  File \"/home/drood/Obsidian/Files/Bachelorarbeit/rlrf_my_try/rolling_lookahead_dt_restructured/helpers/helpers.py\", line 189, in preprocess_dataframes\n    train_df.rename(columns={feature: str(i) for i, feature in enumerate(features, start=1)}, inplace=True) #  DataFrame columns renaming ['y', 'age', 'income', 'score', ...] to ['y', '1', '2', '3', ...]\n                                                               ^^^^^^^^^^^^^^^^^^^^^^^^^^^^\nTypeError: 'NoneType' object is not iterable\n\"\"\"",
      "\nThe above exception was the direct cause of the following exception:\n",
      "\u001b[31mTypeError\u001b[39m                                 Traceback (most recent call last)",
      "\u001b[36mCell\u001b[39m\u001b[36m \u001b[39m\u001b[32mIn[4]\u001b[39m\u001b[32m, line 1\u001b[39m\n\u001b[32m----> \u001b[39m\u001b[32m1\u001b[39m \u001b[43mensemble\u001b[49m\u001b[43m.\u001b[49m\u001b[43mparallel_fit\u001b[49m\u001b[43m(\u001b[49m\u001b[43mX_train\u001b[49m\u001b[43m,\u001b[49m\u001b[43m \u001b[49m\u001b[43my_train\u001b[49m\u001b[43m)\u001b[49m\n",
      "\u001b[36mFile \u001b[39m\u001b[32m~/Obsidian/Files/Bachelorarbeit/rlrf_my_try/rolling_lookahead_dt_restructured/forest/forest_subset_features/class_forest.py:112\u001b[39m, in \u001b[36mCustomEnsembleClassifier.parallel_fit\u001b[39m\u001b[34m(self, X, y)\u001b[39m\n\u001b[32m    109\u001b[39m random_states = [\u001b[38;5;28mself\u001b[39m.random_state + i \u001b[38;5;28;01mfor\u001b[39;00m i \u001b[38;5;129;01min\u001b[39;00m \u001b[38;5;28mrange\u001b[39m(\u001b[38;5;28mself\u001b[39m.n_estimators)] \u001b[38;5;28;01mif\u001b[39;00m \u001b[38;5;28mself\u001b[39m.random_state \u001b[38;5;129;01mis\u001b[39;00m \u001b[38;5;129;01mnot\u001b[39;00m \u001b[38;5;28;01mNone\u001b[39;00m \u001b[38;5;28;01melse\u001b[39;00m [\u001b[38;5;28;01mNone\u001b[39;00m]*\u001b[38;5;28mself\u001b[39m.n_estimators\n\u001b[32m    110\u001b[39m args = [(X, y, \u001b[38;5;28mself\u001b[39m.tree_kwargs, rs) \u001b[38;5;28;01mfor\u001b[39;00m rs \u001b[38;5;129;01min\u001b[39;00m random_states]\n\u001b[32m--> \u001b[39m\u001b[32m112\u001b[39m results = \u001b[43mpool\u001b[49m\u001b[43m.\u001b[49m\u001b[43mmap\u001b[49m\u001b[43m(\u001b[49m\u001b[43mfit_single_tree\u001b[49m\u001b[43m,\u001b[49m\u001b[43m \u001b[49m\u001b[43margs\u001b[49m\u001b[43m)\u001b[49m\n\u001b[32m    113\u001b[39m pool.close()\n\u001b[32m    114\u001b[39m pool.join()\n",
      "\u001b[36mFile \u001b[39m\u001b[32m/usr/lib/python3.12/multiprocessing/pool.py:367\u001b[39m, in \u001b[36mPool.map\u001b[39m\u001b[34m(self, func, iterable, chunksize)\u001b[39m\n\u001b[32m    362\u001b[39m \u001b[38;5;28;01mdef\u001b[39;00m\u001b[38;5;250m \u001b[39m\u001b[34mmap\u001b[39m(\u001b[38;5;28mself\u001b[39m, func, iterable, chunksize=\u001b[38;5;28;01mNone\u001b[39;00m):\n\u001b[32m    363\u001b[39m \u001b[38;5;250m    \u001b[39m\u001b[33;03m'''\u001b[39;00m\n\u001b[32m    364\u001b[39m \u001b[33;03m    Apply `func` to each element in `iterable`, collecting the results\u001b[39;00m\n\u001b[32m    365\u001b[39m \u001b[33;03m    in a list that is returned.\u001b[39;00m\n\u001b[32m    366\u001b[39m \u001b[33;03m    '''\u001b[39;00m\n\u001b[32m--> \u001b[39m\u001b[32m367\u001b[39m     \u001b[38;5;28;01mreturn\u001b[39;00m \u001b[38;5;28;43mself\u001b[39;49m\u001b[43m.\u001b[49m\u001b[43m_map_async\u001b[49m\u001b[43m(\u001b[49m\u001b[43mfunc\u001b[49m\u001b[43m,\u001b[49m\u001b[43m \u001b[49m\u001b[43miterable\u001b[49m\u001b[43m,\u001b[49m\u001b[43m \u001b[49m\u001b[43mmapstar\u001b[49m\u001b[43m,\u001b[49m\u001b[43m \u001b[49m\u001b[43mchunksize\u001b[49m\u001b[43m)\u001b[49m\u001b[43m.\u001b[49m\u001b[43mget\u001b[49m\u001b[43m(\u001b[49m\u001b[43m)\u001b[49m\n",
      "\u001b[36mFile \u001b[39m\u001b[32m/usr/lib/python3.12/multiprocessing/pool.py:774\u001b[39m, in \u001b[36mApplyResult.get\u001b[39m\u001b[34m(self, timeout)\u001b[39m\n\u001b[32m    772\u001b[39m     \u001b[38;5;28;01mreturn\u001b[39;00m \u001b[38;5;28mself\u001b[39m._value\n\u001b[32m    773\u001b[39m \u001b[38;5;28;01melse\u001b[39;00m:\n\u001b[32m--> \u001b[39m\u001b[32m774\u001b[39m     \u001b[38;5;28;01mraise\u001b[39;00m \u001b[38;5;28mself\u001b[39m._value\n",
      "\u001b[31mTypeError\u001b[39m: 'NoneType' object is not iterable"
     ]
    }
   ],
   "source": [
    "ensemble.parallel_fit(X_train, y_train)"
   ]
  },
  {
   "cell_type": "code",
   "execution_count": null,
   "id": "ed89908b",
   "metadata": {},
   "outputs": [
    {
     "name": "stderr",
     "output_type": "stream",
     "text": [
      "/home/drood/Obsidian/Files/Bachelorarbeit/rlrf_my_try/rolling_lookahead_dt_restructured/rolling_lookahead_dt_pulp/oct/optimal_tree_pulp.py:367: FutureWarning: Series.__getitem__ treating keys as positions is deprecated. In a future version, integer keys will always be treated as labels (consistent with DataFrame behavior). To access a value by position, use `ser.iloc[pos]`\n",
      "  x = np.array(i[P])\n",
      "/home/drood/Obsidian/Files/Bachelorarbeit/rlrf_my_try/rolling_lookahead_dt_restructured/rolling_lookahead_dt_pulp/oct/optimal_tree_pulp.py:367: FutureWarning: Series.__getitem__ treating keys as positions is deprecated. In a future version, integer keys will always be treated as labels (consistent with DataFrame behavior). To access a value by position, use `ser.iloc[pos]`\n",
      "  x = np.array(i[P])\n"
     ]
    }
   ],
   "source": [
    "y_pred = ensemble.predict(X_test)"
   ]
  },
  {
   "cell_type": "code",
   "execution_count": null,
   "id": "379289ce",
   "metadata": {},
   "outputs": [
    {
     "name": "stdout",
     "output_type": "stream",
     "text": [
      "94     2\n",
      "42     1\n",
      "52     1\n",
      "29     1\n",
      "106    2\n",
      "      ..\n",
      "27     1\n",
      "123    3\n",
      "77     2\n",
      "109    2\n",
      "38     1\n",
      "Name: y, Length: 100, dtype: int64\n",
      "     y  prediction\n",
      "94   2           1\n",
      "42   1           1\n",
      "52   1           1\n",
      "29   1           2\n",
      "106  2           1\n",
      "..  ..         ...\n",
      "27   1           1\n",
      "123  3           3\n",
      "77   2           2\n",
      "109  2           2\n",
      "38   1           1\n",
      "\n",
      "[100 rows x 2 columns]\n",
      "[1 2 3]\n"
     ]
    }
   ],
   "source": [
    "res = pd.DataFrame()\n",
    "print(y_test)\n",
    "res['y'] = y_test\n",
    "res['prediction'] = y_pred\n",
    "print(res)\n",
    "unique_values = res['prediction'].unique()\n",
    "print(unique_values)"
   ]
  },
  {
   "cell_type": "code",
   "execution_count": null,
   "id": "8819e94f",
   "metadata": {},
   "outputs": [
    {
     "ename": "KeyError",
     "evalue": "'[98, 11, 47, 6, 29, 31, 64, 48, 94, 63, 89] not in index'",
     "output_type": "error",
     "traceback": [
      "\u001b[31m---------------------------------------------------------------------------\u001b[39m",
      "\u001b[31mKeyError\u001b[39m                                  Traceback (most recent call last)",
      "\u001b[36mCell\u001b[39m\u001b[36m \u001b[39m\u001b[32mIn[10]\u001b[39m\u001b[32m, line 38\u001b[39m\n\u001b[32m     35\u001b[39m selected_features = rng.choice(all_features_list, size=amount_X_consider, replace=\u001b[38;5;28;01mFalse\u001b[39;00m).tolist()\n\u001b[32m     37\u001b[39m     \u001b[38;5;66;03m# Use only the selected features for this tree\u001b[39;00m\n\u001b[32m---> \u001b[39m\u001b[32m38\u001b[39m train = \u001b[43mtrain\u001b[49m\u001b[43m[\u001b[49m\u001b[43m[\u001b[49m\u001b[33;43m'\u001b[39;49m\u001b[33;43my\u001b[39;49m\u001b[33;43m'\u001b[39;49m\u001b[43m]\u001b[49m\u001b[43m \u001b[49m\u001b[43m+\u001b[49m\u001b[43m \u001b[49m\u001b[43mselected_features\u001b[49m\u001b[43m]\u001b[49m\n\u001b[32m     39\u001b[39m test = test[[\u001b[33m'\u001b[39m\u001b[33my\u001b[39m\u001b[33m'\u001b[39m] + selected_features]\n\u001b[32m     41\u001b[39m P = selected_features  \u001b[38;5;66;03m# list of indices\u001b[39;00m\n",
      "\u001b[36mFile \u001b[39m\u001b[32m~/Obsidian/Files/Bachelorarbeit/rlrf_my_try/.venv/lib/python3.12/site-packages/pandas/core/frame.py:4113\u001b[39m, in \u001b[36mDataFrame.__getitem__\u001b[39m\u001b[34m(self, key)\u001b[39m\n\u001b[32m   4111\u001b[39m     \u001b[38;5;28;01mif\u001b[39;00m is_iterator(key):\n\u001b[32m   4112\u001b[39m         key = \u001b[38;5;28mlist\u001b[39m(key)\n\u001b[32m-> \u001b[39m\u001b[32m4113\u001b[39m     indexer = \u001b[38;5;28;43mself\u001b[39;49m\u001b[43m.\u001b[49m\u001b[43mcolumns\u001b[49m\u001b[43m.\u001b[49m\u001b[43m_get_indexer_strict\u001b[49m\u001b[43m(\u001b[49m\u001b[43mkey\u001b[49m\u001b[43m,\u001b[49m\u001b[43m \u001b[49m\u001b[33;43m\"\u001b[39;49m\u001b[33;43mcolumns\u001b[39;49m\u001b[33;43m\"\u001b[39;49m\u001b[43m)\u001b[49m[\u001b[32m1\u001b[39m]\n\u001b[32m   4115\u001b[39m \u001b[38;5;66;03m# take() does not accept boolean indexers\u001b[39;00m\n\u001b[32m   4116\u001b[39m \u001b[38;5;28;01mif\u001b[39;00m \u001b[38;5;28mgetattr\u001b[39m(indexer, \u001b[33m\"\u001b[39m\u001b[33mdtype\u001b[39m\u001b[33m\"\u001b[39m, \u001b[38;5;28;01mNone\u001b[39;00m) == \u001b[38;5;28mbool\u001b[39m:\n",
      "\u001b[36mFile \u001b[39m\u001b[32m~/Obsidian/Files/Bachelorarbeit/rlrf_my_try/.venv/lib/python3.12/site-packages/pandas/core/indexes/base.py:6212\u001b[39m, in \u001b[36mIndex._get_indexer_strict\u001b[39m\u001b[34m(self, key, axis_name)\u001b[39m\n\u001b[32m   6209\u001b[39m \u001b[38;5;28;01melse\u001b[39;00m:\n\u001b[32m   6210\u001b[39m     keyarr, indexer, new_indexer = \u001b[38;5;28mself\u001b[39m._reindex_non_unique(keyarr)\n\u001b[32m-> \u001b[39m\u001b[32m6212\u001b[39m \u001b[38;5;28;43mself\u001b[39;49m\u001b[43m.\u001b[49m\u001b[43m_raise_if_missing\u001b[49m\u001b[43m(\u001b[49m\u001b[43mkeyarr\u001b[49m\u001b[43m,\u001b[49m\u001b[43m \u001b[49m\u001b[43mindexer\u001b[49m\u001b[43m,\u001b[49m\u001b[43m \u001b[49m\u001b[43maxis_name\u001b[49m\u001b[43m)\u001b[49m\n\u001b[32m   6214\u001b[39m keyarr = \u001b[38;5;28mself\u001b[39m.take(indexer)\n\u001b[32m   6215\u001b[39m \u001b[38;5;28;01mif\u001b[39;00m \u001b[38;5;28misinstance\u001b[39m(key, Index):\n\u001b[32m   6216\u001b[39m     \u001b[38;5;66;03m# GH 42790 - Preserve name from an Index\u001b[39;00m\n",
      "\u001b[36mFile \u001b[39m\u001b[32m~/Obsidian/Files/Bachelorarbeit/rlrf_my_try/.venv/lib/python3.12/site-packages/pandas/core/indexes/base.py:6264\u001b[39m, in \u001b[36mIndex._raise_if_missing\u001b[39m\u001b[34m(self, key, indexer, axis_name)\u001b[39m\n\u001b[32m   6261\u001b[39m     \u001b[38;5;28;01mraise\u001b[39;00m \u001b[38;5;167;01mKeyError\u001b[39;00m(\u001b[33mf\u001b[39m\u001b[33m\"\u001b[39m\u001b[33mNone of [\u001b[39m\u001b[38;5;132;01m{\u001b[39;00mkey\u001b[38;5;132;01m}\u001b[39;00m\u001b[33m] are in the [\u001b[39m\u001b[38;5;132;01m{\u001b[39;00maxis_name\u001b[38;5;132;01m}\u001b[39;00m\u001b[33m]\u001b[39m\u001b[33m\"\u001b[39m)\n\u001b[32m   6263\u001b[39m not_found = \u001b[38;5;28mlist\u001b[39m(ensure_index(key)[missing_mask.nonzero()[\u001b[32m0\u001b[39m]].unique())\n\u001b[32m-> \u001b[39m\u001b[32m6264\u001b[39m \u001b[38;5;28;01mraise\u001b[39;00m \u001b[38;5;167;01mKeyError\u001b[39;00m(\u001b[33mf\u001b[39m\u001b[33m\"\u001b[39m\u001b[38;5;132;01m{\u001b[39;00mnot_found\u001b[38;5;132;01m}\u001b[39;00m\u001b[33m not in index\u001b[39m\u001b[33m\"\u001b[39m)\n",
      "\u001b[31mKeyError\u001b[39m: '[98, 11, 47, 6, 29, 31, 64, 48, 94, 63, 89] not in index'"
     ]
    }
   ],
   "source": [
    "import numpy as np\n",
    "import pandas as pd\n",
    "import copy\n",
    "import logging\n",
    "from typing import Union, List\n",
    "\n",
    "\n",
    "from sklearn.model_selection import train_test_split\n",
    "\n",
    "#data_seismic = pd.read_csv(\"datasets/seismic/seismic_bin.csv\")\n",
    "data_test = pd.read_csv(\"datasets/example_datasets/stacked.csv\")\n",
    "\n",
    "data = data_test\n",
    "\n",
    "\n",
    "X = data.drop(columns=['y'])  # All columns except the target\n",
    "y = data['y']                 # Only the target column\n",
    "\n",
    "X_train, X_test, y_train, y_test = train_test_split(X, y, test_size=100, stratify=y, random_state=42)\n",
    "\n",
    "train = pd.concat([y_train, X_train], axis=1, ignore_index=False)\n",
    "test = pd.concat([y_test, X_test],axis=1, ignore_index=False)\n",
    "\n",
    "df = pd.concat([train_data, test_data])\n",
    "K = sorted(list(set(df.y))) #K is a sorted list of all unique class labels (target categories) present in the combined training and test data\n",
    "\n",
    "all_features_list = [int(i) for i in list(train.loc[:, train.columns != 'y'].columns)] #used to be P\n",
    "features_orig_dataset = len(all_features_list)\n",
    "\n",
    "K = sorted(list(set(df.y)))\n",
    "\n",
    "# --- Choose subset of features for THIS TREE/BLOCK (random forest style) ---\n",
    "amount_X_consider = max(1, int(np.sqrt(features_orig_dataset)))\n",
    "rng = np.random.RandomState(None)\n",
    "selected_features = rng.choice(all_features_list, size=amount_X_consider, replace=False).tolist()\n",
    "\n",
    "    # Use only the selected features for this tree\n",
    "train = train[['y'] + selected_features]\n",
    "test = test[['y'] + selected_features]\n",
    "\n",
    "P = selected_features  # list of indices\n",
    "P = list(P)\n",
    "\n",
    "#features = df.iloc[:, 1:] \n",
    "features = data.loc[:, data.columns != 'y']\n",
    "\n",
    "selected_feature_cols = np.random.choice(features.columns, size=amount_X_consider, replace=True)\n",
    "selected_features = features[selected_feature_cols]"
   ]
  },
  {
   "cell_type": "code",
   "execution_count": null,
   "id": "6a0559ad",
   "metadata": {},
   "outputs": [
    {
     "name": "stdout",
     "output_type": "stream",
     "text": [
      "0\n",
      "1\n",
      "2\n",
      "3\n",
      "4\n",
      "5\n",
      "6\n",
      "7\n",
      "8\n",
      "9\n",
      "10\n"
     ]
    }
   ],
   "source": [
    "for feature in P:\n",
    "    print(feature)"
   ]
  },
  {
   "cell_type": "code",
   "execution_count": null,
   "id": "2acf8223",
   "metadata": {},
   "outputs": [],
   "source": [
    "def gini_index(arr: np.array,\n",
    "               instance_size: int,\n",
    "               K: list,\n",
    "               y_idx: int = 0,\n",
    "               weighted: bool = True):\n",
    "    \"\"\"\n",
    "\n",
    "    :param arr:\n",
    "    :param instance_size:\n",
    "    :param K:\n",
    "    :param y_idx:\n",
    "    :param weighted:\n",
    "    :return:\n",
    "    \"\"\"\n",
    "    sum_ = 0\n",
    "    for k in K:\n",
    "        sum_ += np.power(len(arr[np.where(arr[:, y_idx] == k)]) / len(arr), 2)\n",
    "    sum_ = 1 - sum_\n",
    "    if weighted:\n",
    "        sum_ = (len(arr) / instance_size) * sum_\n",
    "    return sum_"
   ]
  },
  {
   "cell_type": "code",
   "execution_count": null,
   "id": "894e0e4c",
   "metadata": {},
   "outputs": [],
   "source": [
    "def calculate_gini_old(data: pd.DataFrame,\n",
    "                   P: list,\n",
    "                   K: list,\n",
    "                   nodes: dict) -> dict:\n",
    "    \"\"\"\n",
    "\n",
    "    :param data: pd.DataFrame — The dataset\n",
    "    :param P: list Indices of features to consider\n",
    "    :param K: lsit Unique class labels\n",
    "    :param nodes: dict — Contains: \"leaf_nodes\": list of leaf node identifiers. leaf_nodes_path\": dict mapping each leaf node to a path (list of values for features).\n",
    "    :return:\n",
    "    \"\"\"\n",
    "    df_arr = np.array(data)\n",
    "    n = len(data) # total number of instances.\n",
    "    gini_dict = dict()\n",
    "    for leaf_ in nodes[\"leaf_nodes\"]:\n",
    "        temp = dict() # store Gini values for this leaf\n",
    "        first_var = nodes[\"leaf_nodes_path\"][leaf_][0] #{'leaf_nodes': [4, 5, 6, 7], 'leaf_nodes_path': {4: [1, 1], 5: [1, 0], 6: [0, 1], 7: [0, 0]}}\n",
    "        second_var = nodes[\"leaf_nodes_path\"][leaf_][1] #first_var, second_var — the first two values in the path to this leaf (used as feature values for filtering)\n",
    "        for feature_i in P:\n",
    "            arr = df_arr[np.where((df_arr[:, feature_i] == first_var))] #Selects rows where feature feature_i equals first_var.\n",
    "\n",
    "            for feature_j in P:\n",
    "                arr_2 = arr[np.where(arr[:, feature_j] == second_var)] #Further filters to rows where feature feature_j equals second_var\n",
    "                if len(arr_2) > 0: #Calculate Gini index for arr_2 (so for all rows matching (1, 0; having/not having feature i) the decision variables)\n",
    "                    temp[feature_i, feature_j] = gini_index(arr=arr_2,\n",
    "                                                            instance_size=n,\n",
    "                                                            K=K,\n",
    "                                                            weighted=True)\n",
    "        gini_dict[leaf_] = copy.deepcopy(temp)\n",
    "        del temp\n",
    "        del arr\n",
    "\n",
    "    return gini_dict"
   ]
  },
  {
   "cell_type": "code",
   "execution_count": null,
   "id": "86f06a27",
   "metadata": {},
   "outputs": [],
   "source": [
    "def generate_nodes(depth: int) -> list:\n",
    "    \"\"\"\n",
    "\n",
    "    :param depth:\n",
    "    :return:\n",
    "    \"\"\"\n",
    "    nodes = list(range(1, int(round(2 ** (depth + 1)))))\n",
    "    parent_nodes = nodes[0: 2 ** (depth + 1) - 2 ** depth - 1]\n",
    "    leaf_nodes = nodes[-2 ** depth:]\n",
    "    return parent_nodes, leaf_nodes"
   ]
  },
  {
   "cell_type": "code",
   "execution_count": null,
   "id": "76c33aa7",
   "metadata": {},
   "outputs": [],
   "source": [
    "leaf_nodes_path = {4: [1, 1], #dict for all leafes in depth 2 tree and der respective split conditions\n",
    "                       5: [1, 0],\n",
    "                       6: [0, 1],\n",
    "                       7: [0, 0]}\n",
    "depth = 2\n",
    "parent_nodes, leaf_nodes = generate_nodes(depth) # (for depth 2) returns [1,2,3] and [4,5,6,7]\n",
    "\n",
    "nodes = dict()\n",
    "nodes[\"leaf_nodes\"] = leaf_nodes\n",
    "nodes[\"leaf_nodes_path\"] = leaf_nodes_path\n"
   ]
  },
  {
   "cell_type": "code",
   "execution_count": null,
   "id": "f6761a79",
   "metadata": {},
   "outputs": [
    {
     "name": "stdout",
     "output_type": "stream",
     "text": [
      "{4: {(0, 0): np.float64(0.0), (0, 1): np.float64(0.0), (0, 2): np.float64(0.0), (0, 3): np.float64(0.0), (0, 4): np.float64(0.0), (0, 6): np.float64(0.0), (0, 7): np.float64(0.0), (0, 8): np.float64(0.0), (0, 9): np.float64(0.0), (0, 10): np.float64(0.0), (1, 0): np.float64(0.0), (1, 1): np.float64(0.02775941837409121), (1, 2): np.float64(0.0), (1, 3): np.float64(0.0), (1, 4): np.float64(0.0056179775280898875), (1, 7): np.float64(0.0), (1, 8): np.float64(0.0), (2, 0): np.float64(0.0), (2, 1): np.float64(0.0), (2, 2): np.float64(0.026484751203852328), (2, 4): np.float64(0.0), (2, 5): np.float64(0.0), (2, 6): np.float64(0.0), (2, 7): np.float64(0.0), (3, 0): np.float64(0.0), (3, 1): np.float64(0.0), (3, 3): np.float64(0.059925093632958795), (3, 5): np.float64(0.0), (3, 7): np.float64(0.0), (3, 8): np.float64(0.014044943820224719), (3, 9): np.float64(0.0), (3, 10): np.float64(0.0), (4, 0): np.float64(0.0), (4, 1): np.float64(0.0056179775280898875), (4, 2): np.float64(0.0), (4, 4): np.float64(0.05555555555555555), (4, 5): np.float64(0.013483146067415729), (4, 7): np.float64(0.0), (4, 9): np.float64(0.007490636704119849), (5, 2): np.float64(0.0), (5, 3): np.float64(0.0), (5, 4): np.float64(0.013483146067415729), (5, 5): np.float64(0.02775941837409121), (5, 6): np.float64(0.0), (5, 7): np.float64(0.0), (5, 8): np.float64(0.0), (5, 9): np.float64(0.0), (5, 10): np.float64(0.0), (6, 0): np.float64(0.0), (6, 2): np.float64(0.0), (6, 5): np.float64(0.0), (6, 6): np.float64(0.06212822207534699), (6, 8): np.float64(0.0), (6, 9): np.float64(0.0), (6, 10): np.float64(0.0), (7, 0): np.float64(0.0), (7, 1): np.float64(0.0), (7, 2): np.float64(0.0), (7, 3): np.float64(0.0), (7, 4): np.float64(0.0), (7, 5): np.float64(0.0), (7, 7): np.float64(0.03838951310861423), (7, 8): np.float64(0.0), (7, 10): np.float64(0.0), (8, 0): np.float64(0.0), (8, 1): np.float64(0.0), (8, 3): np.float64(0.014044943820224719), (8, 5): np.float64(0.0), (8, 6): np.float64(0.0), (8, 7): np.float64(0.0), (8, 8): np.float64(0.05674157303370785), (8, 9): np.float64(0.0), (9, 0): np.float64(0.0), (9, 3): np.float64(0.0), (9, 4): np.float64(0.007490636704119849), (9, 5): np.float64(0.0), (9, 6): np.float64(0.0), (9, 8): np.float64(0.0), (9, 9): np.float64(0.05221414408460012), (9, 10): np.float64(0.0), (10, 0): np.float64(0.0), (10, 3): np.float64(0.0), (10, 5): np.float64(0.0), (10, 6): np.float64(0.0), (10, 7): np.float64(0.0), (10, 9): np.float64(0.0), (10, 10): np.float64(0.029962546816479398)}, 5: {(0, 1): np.float64(0.0), (0, 2): np.float64(0.0), (0, 3): np.float64(0.0), (0, 4): np.float64(0.0), (0, 5): np.float64(0.0), (0, 6): np.float64(0.0), (0, 7): np.float64(0.0), (0, 8): np.float64(0.0), (0, 9): np.float64(0.0), (0, 10): np.float64(0.0), (1, 2): np.float64(0.0273876404494382), (1, 3): np.float64(0.019662921348314606), (1, 4): np.float64(0.019475655430711603), (1, 5): np.float64(0.02775941837409121), (1, 6): np.float64(0.02775941837409121), (1, 7): np.float64(0.019662921348314606), (1, 8): np.float64(0.0273876404494382), (1, 9): np.float64(0.02775941837409121), (1, 10): np.float64(0.02775941837409121), (2, 1): np.float64(0.025929127052722552), (2, 3): np.float64(0.026484751203852328), (2, 4): np.float64(0.025929127052722552), (2, 5): np.float64(0.01901469317199654), (2, 6): np.float64(0.024514811031664963), (2, 7): np.float64(0.01901469317199654), (2, 8): np.float64(0.026484751203852328), (2, 9): np.float64(0.026484751203852328), (2, 10): np.float64(0.026484751203852328), (3, 1): np.float64(0.0541969596827495), (3, 2): np.float64(0.059925093632958795), (3, 4): np.float64(0.059925093632958795), (3, 5): np.float64(0.0484010371650821), (3, 6): np.float64(0.059925093632958795), (3, 7): np.float64(0.058162590879048244), (3, 8): np.float64(0.04574638844301766), (3, 9): np.float64(0.058162590879048244), (3, 10): np.float64(0.058162590879048244), (4, 1): np.float64(0.047752808988764044), (4, 2): np.float64(0.04890945142101784), (4, 3): np.float64(0.05555555555555555), (4, 5): np.float64(0.03975799481417458), (4, 6): np.float64(0.05555555555555555), (4, 7): np.float64(0.05266853932584269), (4, 8): np.float64(0.05555555555555555), (4, 9): np.float64(0.04719101123595506), (4, 10): np.float64(0.05555555555555555), (5, 1): np.float64(0.02775941837409121), (5, 2): np.float64(0.0273876404494382), (5, 3): np.float64(0.025280898876404494), (5, 4): np.float64(0.0), (5, 6): np.float64(0.0273876404494382), (5, 7): np.float64(0.0273876404494382), (5, 8): np.float64(0.025929127052722552), (5, 9): np.float64(0.0273876404494382), (5, 10): np.float64(0.0273876404494382), (6, 1): np.float64(0.06212822207534699), (6, 2): np.float64(0.04895666131621188), (6, 3): np.float64(0.06212822207534699), (6, 4): np.float64(0.06212822207534699), (6, 5): np.float64(0.05898876404494382), (6, 7): np.float64(0.06212822207534699), (6, 8): np.float64(0.05898876404494382), (6, 9): np.float64(0.05688202247191011), (6, 10): np.float64(0.05828651685393258), (7, 1): np.float64(0.03575076608784474), (7, 2): np.float64(0.03472931562819203), (7, 3): np.float64(0.03472931562819203), (7, 4): np.float64(0.03258426966292134), (7, 5): np.float64(0.03472931562819203), (7, 6): np.float64(0.03838951310861423), (7, 8): np.float64(0.03472931562819203), (7, 9): np.float64(0.03838951310861423), (7, 10): np.float64(0.03575076608784474), (8, 1): np.float64(0.05085748078060319), (8, 2): np.float64(0.05674157303370785), (8, 3): np.float64(0.04143258426966292), (8, 4): np.float64(0.05674157303370785), (8, 5): np.float64(0.051264044943820225), (8, 6): np.float64(0.05558840922531047), (8, 7): np.float64(0.05558840922531047), (8, 9): np.float64(0.04908338261383797), (8, 10): np.float64(0.05674157303370785), (9, 1): np.float64(0.05221414408460012), (9, 2): np.float64(0.05221414408460012), (9, 3): np.float64(0.04845505617977528), (9, 4): np.float64(0.04414125200642055), (9, 5): np.float64(0.04845505617977528), (9, 6): np.float64(0.04985955056179775), (9, 7): np.float64(0.05221414408460012), (9, 8): np.float64(0.04985955056179775), (9, 10): np.float64(0.04985955056179775), (10, 1): np.float64(0.029962546816479398), (10, 2): np.float64(0.029962546816479398), (10, 3): np.float64(0.023876404494382022), (10, 4): np.float64(0.029962546816479398), (10, 5): np.float64(0.023876404494382022), (10, 6): np.float64(0.023876404494382022), (10, 7): np.float64(0.028089887640449437), (10, 8): np.float64(0.029962546816479398), (10, 9): np.float64(0.028089887640449437)}, 6: {(1, 0): np.float64(0.0), (1, 2): np.float64(0.025929127052722552), (1, 3): np.float64(0.0541969596827495), (1, 4): np.float64(0.047752808988764044), (1, 5): np.float64(0.02775941837409121), (1, 6): np.float64(0.06212822207534699), (1, 7): np.float64(0.03575076608784474), (1, 8): np.float64(0.05085748078060319), (1, 9): np.float64(0.05221414408460012), (1, 10): np.float64(0.029962546816479398), (2, 0): np.float64(0.0), (2, 1): np.float64(0.0273876404494382), (2, 3): np.float64(0.059925093632958795), (2, 4): np.float64(0.04890945142101784), (2, 5): np.float64(0.0273876404494382), (2, 6): np.float64(0.04895666131621188), (2, 7): np.float64(0.03472931562819203), (2, 8): np.float64(0.05674157303370785), (2, 9): np.float64(0.05221414408460012), (2, 10): np.float64(0.029962546816479398), (3, 0): np.float64(0.0), (3, 1): np.float64(0.019662921348314606), (3, 2): np.float64(0.026484751203852328), (3, 4): np.float64(0.05555555555555555), (3, 5): np.float64(0.025280898876404494), (3, 6): np.float64(0.06212822207534699), (3, 7): np.float64(0.03472931562819203), (3, 8): np.float64(0.04143258426966292), (3, 9): np.float64(0.04845505617977528), (3, 10): np.float64(0.023876404494382022), (4, 0): np.float64(0.0), (4, 1): np.float64(0.019475655430711603), (4, 2): np.float64(0.025929127052722552), (4, 3): np.float64(0.059925093632958795), (4, 5): np.float64(0.0), (4, 6): np.float64(0.06212822207534699), (4, 7): np.float64(0.03258426966292134), (4, 8): np.float64(0.05674157303370785), (4, 9): np.float64(0.04414125200642055), (4, 10): np.float64(0.029962546816479398), (5, 0): np.float64(0.0), (5, 1): np.float64(0.02775941837409121), (5, 2): np.float64(0.01901469317199654), (5, 3): np.float64(0.0484010371650821), (5, 4): np.float64(0.03975799481417458), (5, 6): np.float64(0.05898876404494382), (5, 7): np.float64(0.03472931562819203), (5, 8): np.float64(0.051264044943820225), (5, 9): np.float64(0.04845505617977528), (5, 10): np.float64(0.023876404494382022), (6, 0): np.float64(0.0), (6, 1): np.float64(0.02775941837409121), (6, 2): np.float64(0.024514811031664963), (6, 3): np.float64(0.059925093632958795), (6, 4): np.float64(0.05555555555555555), (6, 5): np.float64(0.0273876404494382), (6, 7): np.float64(0.03838951310861423), (6, 8): np.float64(0.05558840922531047), (6, 9): np.float64(0.04985955056179775), (6, 10): np.float64(0.023876404494382022), (7, 0): np.float64(0.0), (7, 1): np.float64(0.019662921348314606), (7, 2): np.float64(0.01901469317199654), (7, 3): np.float64(0.058162590879048244), (7, 4): np.float64(0.05266853932584269), (7, 5): np.float64(0.0273876404494382), (7, 6): np.float64(0.06212822207534699), (7, 8): np.float64(0.05558840922531047), (7, 9): np.float64(0.05221414408460012), (7, 10): np.float64(0.028089887640449437), (8, 0): np.float64(0.0), (8, 1): np.float64(0.0273876404494382), (8, 2): np.float64(0.026484751203852328), (8, 3): np.float64(0.04574638844301766), (8, 4): np.float64(0.05555555555555555), (8, 5): np.float64(0.025929127052722552), (8, 6): np.float64(0.05898876404494382), (8, 7): np.float64(0.03472931562819203), (8, 9): np.float64(0.04985955056179775), (8, 10): np.float64(0.029962546816479398), (9, 0): np.float64(0.0), (9, 1): np.float64(0.02775941837409121), (9, 2): np.float64(0.026484751203852328), (9, 3): np.float64(0.058162590879048244), (9, 4): np.float64(0.04719101123595506), (9, 5): np.float64(0.0273876404494382), (9, 6): np.float64(0.05688202247191011), (9, 7): np.float64(0.03838951310861423), (9, 8): np.float64(0.04908338261383797), (9, 10): np.float64(0.028089887640449437), (10, 0): np.float64(0.0), (10, 1): np.float64(0.02775941837409121), (10, 2): np.float64(0.026484751203852328), (10, 3): np.float64(0.058162590879048244), (10, 4): np.float64(0.05555555555555555), (10, 5): np.float64(0.0273876404494382), (10, 6): np.float64(0.05828651685393258), (10, 7): np.float64(0.03575076608784474), (10, 8): np.float64(0.05674157303370785), (10, 9): np.float64(0.04985955056179775)}, 7: {(1, 1): np.float64(0.5872705701723777), (1, 2): np.float64(0.5325690859398724), (1, 3): np.float64(0.5294163545568039), (1, 4): np.float64(0.5215807826423867), (1, 5): np.float64(0.5344101123595505), (1, 6): np.float64(0.5242665418227216), (1, 7): np.float64(0.5471161048689138), (1, 8): np.float64(0.5250039563222029), (1, 9): np.float64(0.5230961298377028), (1, 10): np.float64(0.5504878769958604), (2, 1): np.float64(0.5325690859398724), (2, 2): np.float64(0.6050972869279255), (2, 3): np.float64(0.5417885177774359), (2, 4): np.float64(0.536115569823435), (2, 5): np.float64(0.5523079259034316), (2, 6): np.float64(0.5549812734082397), (2, 7): np.float64(0.5632665051039142), (2, 8): np.float64(0.5362827715355805), (2, 9): np.float64(0.541083849270045), (2, 10): np.float64(0.5691917361362813), (3, 1): np.float64(0.5294163545568039), (3, 2): np.float64(0.5417885177774359), (3, 3): np.float64(0.5940308988764045), (3, 4): np.float64(0.5191485994619401), (3, 5): np.float64(0.5501822046765867), (3, 6): np.float64(0.5316256776930934), (3, 7): np.float64(0.5501847522811252), (3, 8): np.float64(0.5378433208489388), (3, 9): np.float64(0.529416354556804), (3, 10): np.float64(0.5608367829686576), (4, 1): np.float64(0.5215807826423867), (4, 2): np.float64(0.536115569823435), (4, 3): np.float64(0.5191485994619401), (4, 4): np.float64(0.5830758426966292), (4, 5): np.float64(0.5456270877619193), (4, 6): np.float64(0.5209397344228804), (4, 7): np.float64(0.5446441947565543), (4, 8): np.float64(0.5159711075441413), (4, 9): np.float64(0.526012005541019), (4, 10): np.float64(0.5445345635836), (5, 1): np.float64(0.5344101123595505), (5, 2): np.float64(0.5523079259034316), (5, 3): np.float64(0.5501822046765867), (5, 4): np.float64(0.5456270877619193), (5, 5): np.float64(0.5989950450136088), (5, 6): np.float64(0.5398682681131345), (5, 7): np.float64(0.5545318352059925), (5, 8): np.float64(0.5407206509104998), (5, 9): np.float64(0.5332816737698566), (5, 10): np.float64(0.5663508849232577), (6, 1): np.float64(0.5242665418227216), (6, 2): np.float64(0.5549812734082397), (6, 3): np.float64(0.5316256776930934), (6, 4): np.float64(0.5209397344228804), (6, 5): np.float64(0.5398682681131345), (6, 6): np.float64(0.5959941377625794), (6, 7): np.float64(0.5494306613377573), (6, 8): np.float64(0.5298306694097167), (6, 9): np.float64(0.5337466098411469), (6, 10): np.float64(0.5632665051039143), (7, 1): np.float64(0.5471161048689138), (7, 2): np.float64(0.5632665051039142), (7, 3): np.float64(0.5501847522811252), (7, 4): np.float64(0.5446441947565543), (7, 5): np.float64(0.5545318352059925), (7, 6): np.float64(0.5494306613377573), (7, 7): np.float64(0.6116149993231352), (7, 8): np.float64(0.5458992585798365), (7, 9): np.float64(0.5422667973757636), (7, 10): np.float64(0.5791494808704309), (8, 1): np.float64(0.5250039563222029), (8, 2): np.float64(0.5362827715355805), (8, 3): np.float64(0.5378433208489388), (8, 4): np.float64(0.5159711075441413), (8, 5): np.float64(0.5407206509104998), (8, 6): np.float64(0.5298306694097167), (8, 7): np.float64(0.5458992585798365), (8, 8): np.float64(0.5891053904138813), (8, 9): np.float64(0.5265864852033549), (8, 10): np.float64(0.5535027524319434), (9, 1): np.float64(0.5230961298377028), (9, 2): np.float64(0.541083849270045), (9, 3): np.float64(0.529416354556804), (9, 4): np.float64(0.526012005541019), (9, 5): np.float64(0.5332816737698566), (9, 6): np.float64(0.5337466098411469), (9, 7): np.float64(0.5422667973757636), (9, 8): np.float64(0.5265864852033549), (9, 9): np.float64(0.5911089399120664), (9, 10): np.float64(0.5582727473011676), (10, 1): np.float64(0.5504878769958604), (10, 2): np.float64(0.5691917361362813), (10, 3): np.float64(0.5608367829686576), (10, 4): np.float64(0.5445345635836), (10, 5): np.float64(0.5663508849232577), (10, 6): np.float64(0.5632665051039143), (10, 7): np.float64(0.5791494808704309), (10, 8): np.float64(0.5535027524319434), (10, 9): np.float64(0.5582727473011676), (10, 10): np.float64(0.6217006847948939)}}\n"
     ]
    }
   ],
   "source": [
    "coef_dict = calculate_gini_old(data=train,\n",
    "                                    P=P,\n",
    "                                    K=K,\n",
    "                                    nodes=nodes)\n",
    "\n",
    "print(coef_dict)"
   ]
  }
 ],
 "metadata": {
  "kernelspec": {
   "display_name": ".venv (3.12.3)",
   "language": "python",
   "name": "python3"
  },
  "language_info": {
   "codemirror_mode": {
    "name": "ipython",
    "version": 3
   },
   "file_extension": ".py",
   "mimetype": "text/x-python",
   "name": "python",
   "nbconvert_exporter": "python",
   "pygments_lexer": "ipython3",
   "version": "3.12.3"
  }
 },
 "nbformat": 4,
 "nbformat_minor": 5
}
