{
 "cells": [
  {
   "cell_type": "code",
   "execution_count": null,
   "id": "d49af9cb",
   "metadata": {},
   "outputs": [],
   "source": [
    "from forest.forest_subset_features.class_forest import CustomEnsembleClassifier\n",
    "import pandas as pd\n",
    "import time\n",
    "import os"
   ]
  },
  {
   "cell_type": "code",
   "execution_count": null,
   "id": "28578ed4",
   "metadata": {},
   "outputs": [],
   "source": [
    "from sklearn.model_selection import train_test_split\n",
    "\n",
    "#data_seismic = pd.read_csv(\"datasets/seismic/seismic_bin.csv\")\n",
    "data_test = pd.read_csv(\"datasets/example_datasets/stacked.csv\")\n",
    "\n",
    "data = data_test\n",
    "\n",
    "\n",
    "X = data.drop(columns=['y'])  # All columns except the target\n",
    "y = data['y']                 # Only the target column\n",
    "\n",
    "X_train, X_test, y_train, y_test = train_test_split(X, y, test_size=100, stratify=y, random_state=42)\n",
    "\n",
    "stacked_train = pd.concat([y_train, X_train], axis=1, ignore_index=False)\n",
    "stacked_test = pd.concat([y_test, X_test],axis=1, ignore_index=False)\n",
    "\n",
    "train_data = stacked_train\n",
    "test_data = stacked_test\n",
    "\n",
    "#feature_columns = train_data.columns[1:]\n",
    "\n",
    "feature_columns = X_train.columns\n",
    "#print(feature_columns)"
   ]
  },
  {
   "cell_type": "code",
   "execution_count": null,
   "id": "28f1a416",
   "metadata": {},
   "outputs": [],
   "source": [
    "tree_kwargs = dict(depth=8, criterion='gini', target_label='y', features=list(range(X_train.shape[1])))\n",
    "\n",
    "ensemble = CustomEnsembleClassifier(n_estimators=2, tree_kwargs=tree_kwargs, random_state=42, cores_to_use=6)"
   ]
  },
  {
   "cell_type": "code",
   "execution_count": null,
   "id": "78cd21b2",
   "metadata": {},
   "outputs": [],
   "source": [
    "ensemble.parallel_fit(X_train, y_train)"
   ]
  },
  {
   "cell_type": "code",
   "execution_count": null,
   "id": "ed89908b",
   "metadata": {},
   "outputs": [],
   "source": [
    "y_pred = ensemble.predict(X_test)"
   ]
  },
  {
   "cell_type": "code",
   "execution_count": null,
   "id": "379289ce",
   "metadata": {},
   "outputs": [],
   "source": [
    "res = pd.DataFrame()\n",
    "print(y_test)\n",
    "res['y'] = y_test\n",
    "res['prediction'] = y_pred\n",
    "print(res)\n",
    "unique_values = res['prediction'].unique()\n",
    "print(unique_values)"
   ]
  }
 ],
 "metadata": {
  "language_info": {
   "name": "python"
  }
 },
 "nbformat": 4,
 "nbformat_minor": 5
}
