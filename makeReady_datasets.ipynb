{
 "cells": [
  {
   "cell_type": "markdown",
   "id": "4b0e8851",
   "metadata": {},
   "source": [
    "Hier alle vorbereitungen für x-fold cross validation inkl. dem anschließenden spreichern der vorbereiteten binarized datensätzen"
   ]
  },
  {
   "cell_type": "code",
   "execution_count": 1,
   "id": "b9d97db8",
   "metadata": {},
   "outputs": [],
   "source": [
    "import os\n",
    "import pandas as pd\n",
    "from helpers.helpers import preprocess_numerical, move_targets_to_front_and_rename, make_data_binary"
   ]
  },
  {
   "cell_type": "markdown",
   "id": "d454ef72",
   "metadata": {},
   "source": [
    "# test dataset"
   ]
  },
  {
   "cell_type": "code",
   "execution_count": 2,
   "id": "16ce0dce",
   "metadata": {},
   "outputs": [],
   "source": [
    "train_data = pd.read_csv(\"datasets/example_datasets/train.csv\")\n",
    "test_data = pd.read_csv(\"datasets/example_datasets/test.csv\")\n",
    "\n",
    "stacked = pd.concat([train_data, test_data], ignore_index=False)\n",
    "\n",
    "stacked.to_csv('datasets/example_datasets/stacked.csv', index=False)"
   ]
  },
  {
   "cell_type": "markdown",
   "id": "8a97bcf0",
   "metadata": {},
   "source": [
    "# adult dataset"
   ]
  },
  {
   "cell_type": "code",
   "execution_count": null,
   "id": "c1484d97",
   "metadata": {},
   "outputs": [
    {
     "name": "stdout",
     "output_type": "stream",
     "text": [
      "['<=50K' '>50K']\n",
      "       y  1  2  3  4  5  6  7  8  9  ...  112  113  114  115  116  117  118  \\\n",
      "0      1  1  0  0  1  0  0  0  0  0  ...    0    0    0    0    0    0    0   \n",
      "1      1  1  0  0  0  1  0  0  0  0  ...    0    0    0    0    0    0    0   \n",
      "2      1  1  0  0  1  0  0  0  0  0  ...    0    0    0    0    0    0    0   \n",
      "3      1  1  0  0  0  0  1  0  0  0  ...    0    0    0    0    0    0    0   \n",
      "4      1  0  0  1  0  0  0  0  0  0  ...    0    0    0    0    0    0    0   \n",
      "...   .. .. .. .. .. .. .. .. .. ..  ...  ...  ...  ...  ...  ...  ...  ...   \n",
      "16276  1  0  0  0  1  0  0  0  0  0  ...    0    0    0    0    0    0    0   \n",
      "16277  1  1  0  0  0  0  1  1  0  0  ...    0    0    0    0    0    0    0   \n",
      "16278  1  1  0  0  1  0  0  0  0  0  ...    0    0    0    0    0    0    0   \n",
      "16279  1  1  0  0  0  1  0  0  0  0  ...    0    0    0    0    0    0    0   \n",
      "16280  2  1  0  0  1  0  0  0  0  0  ...    0    0    0    0    0    0    0   \n",
      "\n",
      "       119  120  121  \n",
      "0        1    0    0  \n",
      "1        1    0    0  \n",
      "2        1    0    0  \n",
      "3        1    0    0  \n",
      "4        0    0    0  \n",
      "...    ...  ...  ...  \n",
      "16276    1    0    0  \n",
      "16277    1    0    0  \n",
      "16278    1    0    0  \n",
      "16279    1    0    0  \n",
      "16280    1    0    0  \n",
      "\n",
      "[48842 rows x 122 columns]\n"
     ]
    }
   ],
   "source": [
    "# Load your training and test datasets\n",
    "train_data = pd.read_csv(\"datasets/adult/adult.data\", sep=',', skipinitialspace=True, header=None) #32561 rows\n",
    "test_data = pd.read_csv(\"datasets/adult/adult.test\", sep=',', skipinitialspace=True, header=None) #16281 rows\n",
    "\n",
    "\n",
    "# Remove dots from the 'target' column\n",
    "test_data[14] = test_data[14].astype(str).str.replace('.', '', regex=False)\n",
    "\n",
    "len_train_data = len(train_data)\n",
    "\n",
    "stacked = pd.concat([train_data, test_data ], ignore_index=False)\n",
    "#print(stacked)\n",
    "\n",
    "\n",
    "stacked = preprocess_numerical(stacked, target_label=14)\n",
    "stacked = move_targets_to_front_and_rename(data= stacked, target_label=14)\n",
    "\n",
    "unique_values = stacked ['y'].unique()\n",
    "print(unique_values) # hier sieht man dann, dass es einen zusätzlichen punkt bei den target labels in adult.test gibt; also ohne löschen des punktes\n",
    "\n",
    "\n",
    "\n",
    "stacked = make_data_binary(stacked)\n",
    "print(stacked)\n",
    "stacked.to_csv('datasets/adult/stacked.csv', index=False)"
   ]
  },
  {
   "cell_type": "markdown",
   "id": "f8381195",
   "metadata": {},
   "source": [
    "car eval"
   ]
  },
  {
   "cell_type": "code",
   "execution_count": 4,
   "id": "d0b5dd94",
   "metadata": {},
   "outputs": [
    {
     "name": "stdout",
     "output_type": "stream",
     "text": [
      "['unacc' 'acc' 'vgood' 'good']\n",
      "      y  1  2  3  4  5  6  7  8  9  ...  12  13  14  15  16  17  18  19  20  \\\n",
      "0     3  0  0  0  1  0  0  0  1  1  ...   0   1   0   0   0   0   1   0   1   \n",
      "1     3  0  0  0  1  0  0  0  1  1  ...   0   1   0   0   0   0   1   0   0   \n",
      "2     3  0  0  0  1  0  0  0  1  1  ...   0   1   0   0   0   0   1   1   0   \n",
      "3     3  0  0  0  1  0  0  0  1  1  ...   0   1   0   0   0   1   0   0   1   \n",
      "4     3  0  0  0  1  0  0  0  1  1  ...   0   1   0   0   0   1   0   0   0   \n",
      "...  .. .. .. .. .. .. .. .. .. ..  ...  ..  ..  ..  ..  ..  ..  ..  ..  ..   \n",
      "1723  2  0  1  0  0  0  1  0  0  0  ...   1   0   0   1   0   1   0   0   0   \n",
      "1724  4  0  1  0  0  0  1  0  0  0  ...   1   0   0   1   0   1   0   1   0   \n",
      "1725  3  0  1  0  0  0  1  0  0  0  ...   1   0   0   1   1   0   0   0   1   \n",
      "1726  2  0  1  0  0  0  1  0  0  0  ...   1   0   0   1   1   0   0   0   0   \n",
      "1727  4  0  1  0  0  0  1  0  0  0  ...   1   0   0   1   1   0   0   1   0   \n",
      "\n",
      "      21  \n",
      "0      0  \n",
      "1      1  \n",
      "2      0  \n",
      "3      0  \n",
      "4      1  \n",
      "...   ..  \n",
      "1723   1  \n",
      "1724   0  \n",
      "1725   0  \n",
      "1726   1  \n",
      "1727   0  \n",
      "\n",
      "[1728 rows x 22 columns]\n"
     ]
    }
   ],
   "source": [
    "data = pd.read_csv(\"datasets/car_evaluation/car.data\", sep=',', skipinitialspace=True, header=None)\n",
    "\n",
    "data = preprocess_numerical(data)\n",
    "data = move_targets_to_front_and_rename(data= data, target_label=6)\n",
    "\n",
    "unique_values = data['y'].unique()\n",
    "print(unique_values) # hier sieht man dann, dass es einen zusätzlichen punkt bei den target labels in adult.test gibt; also ohne löschen des punktes\n",
    "\n",
    "\n",
    "\n",
    "data = make_data_binary(data)\n",
    "print(data)\n",
    "data.to_csv('datasets/car_evaluation/car_bin.csv', index=False)"
   ]
  },
  {
   "cell_type": "markdown",
   "id": "3c8f65c7",
   "metadata": {},
   "source": [
    "seismic"
   ]
  },
  {
   "cell_type": "code",
   "execution_count": 5,
   "id": "8118d449",
   "metadata": {},
   "outputs": [
    {
     "name": "stdout",
     "output_type": "stream",
     "text": [
      "[0 1]\n",
      "      y  1  2  3  4  5  6  7  8  9  ...  38  39  40  41  42  43  44  45  46  \\\n",
      "0     1  0  0  0  0  0  1  0  0  0  ...   0   1   1   1   1   0   0   1   0   \n",
      "1     1  0  0  0  0  0  1  0  0  0  ...   0   1   1   1   0   1   0   0   1   \n",
      "2     1  0  0  0  0  0  1  0  0  1  ...   0   1   1   1   1   0   0   1   0   \n",
      "3     1  0  0  0  0  0  1  0  0  0  ...   0   1   1   1   0   1   0   0   1   \n",
      "4     1  0  0  0  0  0  1  0  0  0  ...   0   1   1   1   1   0   0   1   0   \n",
      "...  .. .. .. .. .. .. .. .. .. ..  ...  ..  ..  ..  ..  ..  ..  ..  ..  ..   \n",
      "2579  1  1  1  0  0  0  1  0  0  0  ...   0   1   1   1   1   0   0   1   0   \n",
      "2580  1  1  1  0  0  0  1  0  0  0  ...   0   1   1   1   1   0   0   1   0   \n",
      "2581  1  1  1  0  0  0  1  0  0  0  ...   0   1   1   1   1   0   0   1   0   \n",
      "2582  1  0  1  0  0  0  1  0  0  0  ...   0   1   1   1   1   0   0   1   0   \n",
      "2583  1  0  1  0  0  0  1  0  0  0  ...   0   1   1   1   1   0   0   1   0   \n",
      "\n",
      "      47  \n",
      "0      0  \n",
      "1      0  \n",
      "2      0  \n",
      "3      0  \n",
      "4      0  \n",
      "...   ..  \n",
      "2579   0  \n",
      "2580   0  \n",
      "2581   0  \n",
      "2582   0  \n",
      "2583   0  \n",
      "\n",
      "[2584 rows x 48 columns]\n"
     ]
    }
   ],
   "source": [
    "data = pd.read_csv(\"datasets/seismic/seismic_data.txt\", sep=',', skipinitialspace=True, header=None)\n",
    "\n",
    "data = preprocess_numerical(data)\n",
    "data = move_targets_to_front_and_rename(data= data, target_label=18)\n",
    "\n",
    "unique_values = data['y'].unique()\n",
    "print(unique_values) # hier sieht man dann, dass es einen zusätzlichen punkt bei den target labels in adult.test gibt; also ohne löschen des punktes\n",
    "\n",
    "\n",
    "\n",
    "data = make_data_binary(data)\n",
    "print(data)\n",
    "data.to_csv('datasets/seismic/seismic_bin.csv', index=False)"
   ]
  },
  {
   "cell_type": "markdown",
   "id": "de39df9c",
   "metadata": {},
   "source": [
    "wine\n",
    "\n",
    "Hier sieht man Problem, wenn cass identifier integers und nicht binary sind"
   ]
  },
  {
   "cell_type": "code",
   "execution_count": 6,
   "id": "cd657611",
   "metadata": {},
   "outputs": [
    {
     "name": "stdout",
     "output_type": "stream",
     "text": [
      "     y      1     2     3     4  5     6     7     8     9     10    11    12  \\\n",
      "0    1  14.23  1.71  2.43  15.6  4  2.80  3.06  0.28  2.29   5.64  1.04  3.92   \n",
      "1    1  13.20  1.78  2.14  11.2  2  2.65  2.76  0.26  1.28   4.38  1.05  3.40   \n",
      "2    1  13.16  2.36  2.67  18.6  2  2.80  3.24  0.30  2.81   5.68  1.03  3.17   \n",
      "3    1  14.37  1.95  2.50  16.8  4  3.85  3.49  0.24  2.18   7.80  0.86  3.45   \n",
      "4    1  13.24  2.59  2.87  21.0  4  2.80  2.69  0.39  1.82   4.32  1.04  2.93   \n",
      "..  ..    ...   ...   ...   ... ..   ...   ...   ...   ...    ...   ...   ...   \n",
      "173  3  13.71  5.65  2.45  20.5  2  1.68  0.61  0.52  1.06   7.70  0.64  1.74   \n",
      "174  3  13.40  3.91  2.48  23.0  3  1.80  0.75  0.43  1.41   7.30  0.70  1.56   \n",
      "175  3  13.27  4.28  2.26  20.0  4  1.59  0.69  0.43  1.35  10.20  0.59  1.56   \n",
      "176  3  13.17  2.59  2.37  20.0  4  1.65  0.68  0.53  1.46   9.30  0.60  1.62   \n",
      "177  3  14.13  4.10  2.74  24.5  2  2.05  0.76  0.56  1.35   9.20  0.61  1.60   \n",
      "\n",
      "     13  \n",
      "0     4  \n",
      "1     4  \n",
      "2     4  \n",
      "3     4  \n",
      "4     2  \n",
      "..   ..  \n",
      "173   2  \n",
      "174   3  \n",
      "175   3  \n",
      "176   3  \n",
      "177   1  \n",
      "\n",
      "[178 rows x 14 columns]\n",
      "[1, 2, 3]\n",
      "Categories (3, int64): [1, 2, 3]\n"
     ]
    }
   ],
   "source": [
    "data = pd.read_csv(\"datasets/wine/wine.data\", sep=',', skipinitialspace=True, header=None)\n",
    "\n",
    "data = preprocess_numerical(data)\n",
    "data = move_targets_to_front_and_rename(data= data, target_label=0)\n",
    "\n",
    "print(data)\n",
    "\n",
    "unique_values = data['y'].unique()\n",
    "print(unique_values) # hier sieht man dann, dass es einen zusätzlichen punkt bei den target labels in adult.test gibt; also ohne löschen des punktes"
   ]
  }
 ],
 "metadata": {
  "kernelspec": {
   "display_name": ".venv (3.12.3)",
   "language": "python",
   "name": "python3"
  },
  "language_info": {
   "codemirror_mode": {
    "name": "ipython",
    "version": 3
   },
   "file_extension": ".py",
   "mimetype": "text/x-python",
   "name": "python",
   "nbconvert_exporter": "python",
   "pygments_lexer": "ipython3",
   "version": "3.12.3"
  }
 },
 "nbformat": 4,
 "nbformat_minor": 5
}
